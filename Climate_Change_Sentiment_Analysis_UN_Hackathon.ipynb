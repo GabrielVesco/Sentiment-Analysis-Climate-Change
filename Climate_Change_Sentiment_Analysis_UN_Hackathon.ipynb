{
  "cells": [
    {
      "cell_type": "markdown",
      "id": "cbe9673a",
      "metadata": {
        "id": "cbe9673a"
      },
      "source": [
        "Authors: Gabriel Vesco, Lydia Jeong, Yousra Abdelmoula, Ali Chibani, Nisrine Dandache <br>\n",
        "Data Warriors <br>\n",
        "UN Hackathon <br>\n",
        "November 8-11, 2022 <br>"
      ]
    },
    {
      "cell_type": "markdown",
      "id": "0195a024",
      "metadata": {
        "id": "0195a024"
      },
      "source": [
        "Sentiment Analysis is a branch of Natural Language Processing (NLP) that allows us to determine algorithmically whether a statement or document is “positive” or “negative”. Sentiment analysis is a technology of increasing importance in the modern society as it allows individuals and organizations to detect trends in public opinion by analyzing social media content. Keeping abreast of socio-political developments is especially important during periods of natural disasters and climate change action, such that countries can make the appropriate changes to support their climate-related policies and help achieve the Sustainable Development Goals.\n",
        "\n",
        "We will develop a model that aims to help inform a given country of their current public opinion regarding their respective economical and ecological activity and sentiments associated with it, using tweets regarding climate change. This model will help guide us towards measuring the impact of Climate Change on society as part of monitoring the SDG13 by answering the question: What can public opinion on Twitter tell us about the ecological and economical effects of climate change?\n",
        "\n",
        "Bridging the NLP with empirical approach ( correlation between CO2 and GDP emissions) to retrieve insightful recommendations about green investment decisions and policy implications."
      ]
    },
    {
      "cell_type": "code",
      "execution_count": 1,
      "id": "8241333c",
      "metadata": {
        "id": "8241333c",
        "outputId": "88db3dd2-6a09-4856-d680-23c6533332b8",
        "colab": {
          "base_uri": "https://localhost:8080/"
        }
      },
      "outputs": [
        {
          "output_type": "stream",
          "name": "stdout",
          "text": [
            "Requirement already satisfied: nltk in /usr/local/lib/python3.10/dist-packages (3.8.1)\n",
            "Requirement already satisfied: click in /usr/local/lib/python3.10/dist-packages (from nltk) (8.1.6)\n",
            "Requirement already satisfied: joblib in /usr/local/lib/python3.10/dist-packages (from nltk) (1.3.1)\n",
            "Requirement already satisfied: regex>=2021.8.3 in /usr/local/lib/python3.10/dist-packages (from nltk) (2022.10.31)\n",
            "Requirement already satisfied: tqdm in /usr/local/lib/python3.10/dist-packages (from nltk) (4.65.0)\n"
          ]
        }
      ],
      "source": [
        "!pip install nltk"
      ]
    },
    {
      "cell_type": "code",
      "execution_count": 2,
      "id": "a5c4daac",
      "metadata": {
        "id": "a5c4daac",
        "outputId": "93ef253f-18a4-464f-dbad-790e2b345d86",
        "colab": {
          "base_uri": "https://localhost:8080/"
        }
      },
      "outputs": [
        {
          "output_type": "stream",
          "name": "stdout",
          "text": [
            "Requirement already satisfied: wordcloud in /usr/local/lib/python3.10/dist-packages (1.8.2.2)\n",
            "Requirement already satisfied: numpy>=1.6.1 in /usr/local/lib/python3.10/dist-packages (from wordcloud) (1.22.4)\n",
            "Requirement already satisfied: pillow in /usr/local/lib/python3.10/dist-packages (from wordcloud) (9.4.0)\n",
            "Requirement already satisfied: matplotlib in /usr/local/lib/python3.10/dist-packages (from wordcloud) (3.7.1)\n",
            "Requirement already satisfied: contourpy>=1.0.1 in /usr/local/lib/python3.10/dist-packages (from matplotlib->wordcloud) (1.1.0)\n",
            "Requirement already satisfied: cycler>=0.10 in /usr/local/lib/python3.10/dist-packages (from matplotlib->wordcloud) (0.11.0)\n",
            "Requirement already satisfied: fonttools>=4.22.0 in /usr/local/lib/python3.10/dist-packages (from matplotlib->wordcloud) (4.41.1)\n",
            "Requirement already satisfied: kiwisolver>=1.0.1 in /usr/local/lib/python3.10/dist-packages (from matplotlib->wordcloud) (1.4.4)\n",
            "Requirement already satisfied: packaging>=20.0 in /usr/local/lib/python3.10/dist-packages (from matplotlib->wordcloud) (23.1)\n",
            "Requirement already satisfied: pyparsing>=2.3.1 in /usr/local/lib/python3.10/dist-packages (from matplotlib->wordcloud) (3.1.0)\n",
            "Requirement already satisfied: python-dateutil>=2.7 in /usr/local/lib/python3.10/dist-packages (from matplotlib->wordcloud) (2.8.2)\n",
            "Requirement already satisfied: six>=1.5 in /usr/local/lib/python3.10/dist-packages (from python-dateutil>=2.7->matplotlib->wordcloud) (1.16.0)\n"
          ]
        }
      ],
      "source": [
        "!pip install wordcloud"
      ]
    },
    {
      "cell_type": "code",
      "execution_count": 3,
      "id": "47df0fdd",
      "metadata": {
        "id": "47df0fdd",
        "outputId": "9dcb135a-8624-416f-e136-e1d6bb78b672",
        "colab": {
          "base_uri": "https://localhost:8080/"
        }
      },
      "outputs": [
        {
          "output_type": "stream",
          "name": "stdout",
          "text": [
            "Requirement already satisfied: xgboost in /usr/local/lib/python3.10/dist-packages (1.7.6)\n",
            "Requirement already satisfied: numpy in /usr/local/lib/python3.10/dist-packages (from xgboost) (1.22.4)\n",
            "Requirement already satisfied: scipy in /usr/local/lib/python3.10/dist-packages (from xgboost) (1.10.1)\n"
          ]
        }
      ],
      "source": [
        "!pip install xgboost"
      ]
    },
    {
      "cell_type": "code",
      "execution_count": 4,
      "id": "f26c7db5",
      "metadata": {
        "id": "f26c7db5",
        "outputId": "f1a5e6c5-0721-4164-de4e-7dd3ce3e16a0",
        "colab": {
          "base_uri": "https://localhost:8080/"
        }
      },
      "outputs": [
        {
          "output_type": "stream",
          "name": "stderr",
          "text": [
            "[nltk_data] Downloading package stopwords to /root/nltk_data...\n",
            "[nltk_data]   Unzipping corpora/stopwords.zip.\n",
            "[nltk_data] Downloading package punkt to /root/nltk_data...\n",
            "[nltk_data]   Unzipping tokenizers/punkt.zip.\n"
          ]
        }
      ],
      "source": [
        "# Import all required libraries\n",
        "import pandas as pd\n",
        "import numpy as np\n",
        "import seaborn as sns\n",
        "import re\n",
        "import html\n",
        "import string\n",
        "import matplotlib.pyplot as plt\n",
        "import nltk\n",
        "import io\n",
        "from google.colab import files\n",
        "nltk.download('stopwords')\n",
        "nltk.download('punkt')\n",
        "from nltk.corpus import stopwords\n",
        "from nltk.tokenize import word_tokenize\n",
        "from nltk.tokenize.treebank import TreebankWordDetokenizer\n",
        "from html.parser import HTMLParser\n",
        "from wordcloud import WordCloud, STOPWORDS\n",
        "from sklearn.feature_extraction.text import CountVectorizer\n",
        "from sklearn.feature_extraction.text import TfidfVectorizer\n",
        "from sklearn.model_selection import GridSearchCV\n",
        "from sklearn.linear_model import LogisticRegression\n",
        "from sklearn.neighbors import KNeighborsClassifier\n",
        "from sklearn.naive_bayes import GaussianNB\n",
        "from sklearn import svm\n",
        "from sklearn.svm import SVC, LinearSVC, NuSVC, SVR\n",
        "from sklearn.tree import DecisionTreeClassifier\n",
        "from sklearn.ensemble import RandomForestClassifier, RandomForestRegressor\n",
        "import xgboost\n",
        "from sklearn import metrics\n",
        "from sklearn.model_selection import train_test_split\n",
        "from sklearn.metrics import accuracy_score\n",
        "from sklearn.metrics import classification_report\n",
        "from sklearn.metrics import confusion_matrix\n",
        "from numpy import array\n",
        "from scipy.sparse import csr_matrix"
      ]
    },
    {
      "cell_type": "markdown",
      "id": "ecc2eadd",
      "metadata": {
        "id": "ecc2eadd"
      },
      "source": [
        "The datasets we will be working with are open-source from Kaggle (found here: https://www.kaggle.com/datasets/saurabhshahane/twitter-sentiment-dataset and https://www.kaggle.com/datasets/thedevastator/social-media-sentiment-and-climate-change), and includes information on the sentiment of the posts, as well the time at which the tweet was posted. This dataset has tweets from 2017 to 2019. Though unfortunately there is no country of origin for each tweet, we tentatively  assumed that a majority of these tweets come from developed countries that speak English, such as United States, Canada, and England. Moroever, in a more developped phase of this project, we can specify data by country of origin."
      ]
    },
    {
      "cell_type": "markdown",
      "id": "d6616a5d",
      "metadata": {
        "id": "d6616a5d"
      },
      "source": [
        "Question: What can public opinion on Twitter tell us about the ecological and economical effects of climate change?\n",
        "\n",
        "We will go off the assumption that if we see more positive sentiments --> the effects of climate change are less severe\n",
        "Vice versa, if we see more more negative sentiments --> the effects of climate change are more critical\n",
        "\n",
        "For this model, we come up with two classification categories to measure climate change: Ecological and Economical.\n",
        "This way, we can help steer the country towards which aspect of their infrastructure they should focus on improving.\n",
        "\n",
        "Future iterations of this model could easily incorporate additional categories (ex. technological, agricultural, industrial, etc.) related to climate change, with their own respective key words.\n",
        "\n",
        "Next, we will predict the sentiment of the climate change data. We apply Bag of Words (BOW) and term frequency–inverse document frequency (TF-IDF) to the general topic twitter dataset, and run various machine learning models to compare the accuracy of sentiment prediction. We select the model with the highest accuracy and apply the model to the climate change dataset, in order to predict the sentiment of climate change related data.\n",
        "\n",
        "We will also predict the popularity of the tweet of the climate change data."
      ]
    },
    {
      "cell_type": "code",
      "execution_count": 5,
      "id": "7fd290ec",
      "metadata": {
        "id": "7fd290ec"
      },
      "outputs": [],
      "source": [
        "ecological_words = ['co2', 'carbon', 'emissions', 'disaster', 'weather', 'flood', 'storm',\n",
        "                    'drought', 'sea level', 'energy', 'arctic', 'heat', 'heat wave', 'climate change',\n",
        "                    'climate action', 'climate', 'global', 'warming', 'science', 'planet',\n",
        "                    'weather', 'carbon', 'coal', 'water', 'environmental', 'environment',\n",
        "                    'fossil', 'arctic', 'oil', 'wildfire', 'fuel', 'sea', 'ice', 'air', 'hot',\n",
        "                    'solar', 'pollution', 'cold', 'temperature', 'protect', 'greenhouse',\n",
        "                    'afforestation', 'ocean', 'forest', 'extinction', 'species', 'scientist',\n",
        "                    'agriculture', 'manufacture', 'renewable']\n",
        "\n",
        "economical_words = ['cop', 'gdp', 'policy', 'jobs', 'law', 'trump', 'president', 'energy', 'news', 'government', 'policy', 'health',\n",
        "                    'tax', 'work', 'public', 'administration', 'bill', 'money', 'economy',\n",
        "                    'movement', 'debate', 'capitalism', 'fighting', 'humanity', 'political',\n",
        "                    'minister', 'conference', 'politics', 'economic']\n",
        "\n",
        "overlap_words = ['co2', 'fuel', 'coal', 'fossil', 'gas', 'natural gas', 'petrol']"
      ]
    },
    {
      "cell_type": "markdown",
      "id": "828330a3",
      "metadata": {
        "id": "828330a3"
      },
      "source": [
        "# Load datasets"
      ]
    },
    {
      "cell_type": "markdown",
      "id": "ec8f4b40",
      "metadata": {
        "id": "ec8f4b40"
      },
      "source": [
        "2 datasets:\n",
        "- twitter_df contains tweets on general topic\n",
        "- climate_df contains tweets on climate change"
      ]
    },
    {
      "cell_type": "code",
      "execution_count": 6,
      "id": "2ba170d9",
      "metadata": {
        "id": "2ba170d9",
        "colab": {
          "base_uri": "https://localhost:8080/",
          "height": 73
        },
        "outputId": "db46022e-338b-41f5-87dc-58e7552bacf7"
      },
      "outputs": [
        {
          "output_type": "display_data",
          "data": {
            "text/plain": [
              "<IPython.core.display.HTML object>"
            ],
            "text/html": [
              "\n",
              "     <input type=\"file\" id=\"files-71684759-4642-4e2a-afd4-d309f5d2942e\" name=\"files[]\" multiple disabled\n",
              "        style=\"border:none\" />\n",
              "     <output id=\"result-71684759-4642-4e2a-afd4-d309f5d2942e\">\n",
              "      Upload widget is only available when the cell has been executed in the\n",
              "      current browser session. Please rerun this cell to enable.\n",
              "      </output>\n",
              "      <script>// Copyright 2017 Google LLC\n",
              "//\n",
              "// Licensed under the Apache License, Version 2.0 (the \"License\");\n",
              "// you may not use this file except in compliance with the License.\n",
              "// You may obtain a copy of the License at\n",
              "//\n",
              "//      http://www.apache.org/licenses/LICENSE-2.0\n",
              "//\n",
              "// Unless required by applicable law or agreed to in writing, software\n",
              "// distributed under the License is distributed on an \"AS IS\" BASIS,\n",
              "// WITHOUT WARRANTIES OR CONDITIONS OF ANY KIND, either express or implied.\n",
              "// See the License for the specific language governing permissions and\n",
              "// limitations under the License.\n",
              "\n",
              "/**\n",
              " * @fileoverview Helpers for google.colab Python module.\n",
              " */\n",
              "(function(scope) {\n",
              "function span(text, styleAttributes = {}) {\n",
              "  const element = document.createElement('span');\n",
              "  element.textContent = text;\n",
              "  for (const key of Object.keys(styleAttributes)) {\n",
              "    element.style[key] = styleAttributes[key];\n",
              "  }\n",
              "  return element;\n",
              "}\n",
              "\n",
              "// Max number of bytes which will be uploaded at a time.\n",
              "const MAX_PAYLOAD_SIZE = 100 * 1024;\n",
              "\n",
              "function _uploadFiles(inputId, outputId) {\n",
              "  const steps = uploadFilesStep(inputId, outputId);\n",
              "  const outputElement = document.getElementById(outputId);\n",
              "  // Cache steps on the outputElement to make it available for the next call\n",
              "  // to uploadFilesContinue from Python.\n",
              "  outputElement.steps = steps;\n",
              "\n",
              "  return _uploadFilesContinue(outputId);\n",
              "}\n",
              "\n",
              "// This is roughly an async generator (not supported in the browser yet),\n",
              "// where there are multiple asynchronous steps and the Python side is going\n",
              "// to poll for completion of each step.\n",
              "// This uses a Promise to block the python side on completion of each step,\n",
              "// then passes the result of the previous step as the input to the next step.\n",
              "function _uploadFilesContinue(outputId) {\n",
              "  const outputElement = document.getElementById(outputId);\n",
              "  const steps = outputElement.steps;\n",
              "\n",
              "  const next = steps.next(outputElement.lastPromiseValue);\n",
              "  return Promise.resolve(next.value.promise).then((value) => {\n",
              "    // Cache the last promise value to make it available to the next\n",
              "    // step of the generator.\n",
              "    outputElement.lastPromiseValue = value;\n",
              "    return next.value.response;\n",
              "  });\n",
              "}\n",
              "\n",
              "/**\n",
              " * Generator function which is called between each async step of the upload\n",
              " * process.\n",
              " * @param {string} inputId Element ID of the input file picker element.\n",
              " * @param {string} outputId Element ID of the output display.\n",
              " * @return {!Iterable<!Object>} Iterable of next steps.\n",
              " */\n",
              "function* uploadFilesStep(inputId, outputId) {\n",
              "  const inputElement = document.getElementById(inputId);\n",
              "  inputElement.disabled = false;\n",
              "\n",
              "  const outputElement = document.getElementById(outputId);\n",
              "  outputElement.innerHTML = '';\n",
              "\n",
              "  const pickedPromise = new Promise((resolve) => {\n",
              "    inputElement.addEventListener('change', (e) => {\n",
              "      resolve(e.target.files);\n",
              "    });\n",
              "  });\n",
              "\n",
              "  const cancel = document.createElement('button');\n",
              "  inputElement.parentElement.appendChild(cancel);\n",
              "  cancel.textContent = 'Cancel upload';\n",
              "  const cancelPromise = new Promise((resolve) => {\n",
              "    cancel.onclick = () => {\n",
              "      resolve(null);\n",
              "    };\n",
              "  });\n",
              "\n",
              "  // Wait for the user to pick the files.\n",
              "  const files = yield {\n",
              "    promise: Promise.race([pickedPromise, cancelPromise]),\n",
              "    response: {\n",
              "      action: 'starting',\n",
              "    }\n",
              "  };\n",
              "\n",
              "  cancel.remove();\n",
              "\n",
              "  // Disable the input element since further picks are not allowed.\n",
              "  inputElement.disabled = true;\n",
              "\n",
              "  if (!files) {\n",
              "    return {\n",
              "      response: {\n",
              "        action: 'complete',\n",
              "      }\n",
              "    };\n",
              "  }\n",
              "\n",
              "  for (const file of files) {\n",
              "    const li = document.createElement('li');\n",
              "    li.append(span(file.name, {fontWeight: 'bold'}));\n",
              "    li.append(span(\n",
              "        `(${file.type || 'n/a'}) - ${file.size} bytes, ` +\n",
              "        `last modified: ${\n",
              "            file.lastModifiedDate ? file.lastModifiedDate.toLocaleDateString() :\n",
              "                                    'n/a'} - `));\n",
              "    const percent = span('0% done');\n",
              "    li.appendChild(percent);\n",
              "\n",
              "    outputElement.appendChild(li);\n",
              "\n",
              "    const fileDataPromise = new Promise((resolve) => {\n",
              "      const reader = new FileReader();\n",
              "      reader.onload = (e) => {\n",
              "        resolve(e.target.result);\n",
              "      };\n",
              "      reader.readAsArrayBuffer(file);\n",
              "    });\n",
              "    // Wait for the data to be ready.\n",
              "    let fileData = yield {\n",
              "      promise: fileDataPromise,\n",
              "      response: {\n",
              "        action: 'continue',\n",
              "      }\n",
              "    };\n",
              "\n",
              "    // Use a chunked sending to avoid message size limits. See b/62115660.\n",
              "    let position = 0;\n",
              "    do {\n",
              "      const length = Math.min(fileData.byteLength - position, MAX_PAYLOAD_SIZE);\n",
              "      const chunk = new Uint8Array(fileData, position, length);\n",
              "      position += length;\n",
              "\n",
              "      const base64 = btoa(String.fromCharCode.apply(null, chunk));\n",
              "      yield {\n",
              "        response: {\n",
              "          action: 'append',\n",
              "          file: file.name,\n",
              "          data: base64,\n",
              "        },\n",
              "      };\n",
              "\n",
              "      let percentDone = fileData.byteLength === 0 ?\n",
              "          100 :\n",
              "          Math.round((position / fileData.byteLength) * 100);\n",
              "      percent.textContent = `${percentDone}% done`;\n",
              "\n",
              "    } while (position < fileData.byteLength);\n",
              "  }\n",
              "\n",
              "  // All done.\n",
              "  yield {\n",
              "    response: {\n",
              "      action: 'complete',\n",
              "    }\n",
              "  };\n",
              "}\n",
              "\n",
              "scope.google = scope.google || {};\n",
              "scope.google.colab = scope.google.colab || {};\n",
              "scope.google.colab._files = {\n",
              "  _uploadFiles,\n",
              "  _uploadFilesContinue,\n",
              "};\n",
              "})(self);\n",
              "</script> "
            ]
          },
          "metadata": {}
        },
        {
          "output_type": "stream",
          "name": "stdout",
          "text": [
            "Saving Twitter_Data.csv to Twitter_Data.csv\n"
          ]
        }
      ],
      "source": [
        "#for the twitter data\n",
        "uploaded = files.upload()"
      ]
    },
    {
      "cell_type": "code",
      "source": [
        "twitter_df = pd.read_csv(io.BytesIO(uploaded['Twitter_Data.csv']))"
      ],
      "metadata": {
        "id": "x-rf5aLkRqtj"
      },
      "id": "x-rf5aLkRqtj",
      "execution_count": 7,
      "outputs": []
    },
    {
      "cell_type": "code",
      "source": [
        "#for the climate data\n",
        "uploaded2 = files.upload()"
      ],
      "metadata": {
        "colab": {
          "base_uri": "https://localhost:8080/",
          "height": 73
        },
        "id": "SkFSMMF9S9kp",
        "outputId": "4ccdd098-b811-4dc6-f735-da93845909bb"
      },
      "id": "SkFSMMF9S9kp",
      "execution_count": 8,
      "outputs": [
        {
          "output_type": "display_data",
          "data": {
            "text/plain": [
              "<IPython.core.display.HTML object>"
            ],
            "text/html": [
              "\n",
              "     <input type=\"file\" id=\"files-6162aba7-5d75-4094-b68e-ec948eed125d\" name=\"files[]\" multiple disabled\n",
              "        style=\"border:none\" />\n",
              "     <output id=\"result-6162aba7-5d75-4094-b68e-ec948eed125d\">\n",
              "      Upload widget is only available when the cell has been executed in the\n",
              "      current browser session. Please rerun this cell to enable.\n",
              "      </output>\n",
              "      <script>// Copyright 2017 Google LLC\n",
              "//\n",
              "// Licensed under the Apache License, Version 2.0 (the \"License\");\n",
              "// you may not use this file except in compliance with the License.\n",
              "// You may obtain a copy of the License at\n",
              "//\n",
              "//      http://www.apache.org/licenses/LICENSE-2.0\n",
              "//\n",
              "// Unless required by applicable law or agreed to in writing, software\n",
              "// distributed under the License is distributed on an \"AS IS\" BASIS,\n",
              "// WITHOUT WARRANTIES OR CONDITIONS OF ANY KIND, either express or implied.\n",
              "// See the License for the specific language governing permissions and\n",
              "// limitations under the License.\n",
              "\n",
              "/**\n",
              " * @fileoverview Helpers for google.colab Python module.\n",
              " */\n",
              "(function(scope) {\n",
              "function span(text, styleAttributes = {}) {\n",
              "  const element = document.createElement('span');\n",
              "  element.textContent = text;\n",
              "  for (const key of Object.keys(styleAttributes)) {\n",
              "    element.style[key] = styleAttributes[key];\n",
              "  }\n",
              "  return element;\n",
              "}\n",
              "\n",
              "// Max number of bytes which will be uploaded at a time.\n",
              "const MAX_PAYLOAD_SIZE = 100 * 1024;\n",
              "\n",
              "function _uploadFiles(inputId, outputId) {\n",
              "  const steps = uploadFilesStep(inputId, outputId);\n",
              "  const outputElement = document.getElementById(outputId);\n",
              "  // Cache steps on the outputElement to make it available for the next call\n",
              "  // to uploadFilesContinue from Python.\n",
              "  outputElement.steps = steps;\n",
              "\n",
              "  return _uploadFilesContinue(outputId);\n",
              "}\n",
              "\n",
              "// This is roughly an async generator (not supported in the browser yet),\n",
              "// where there are multiple asynchronous steps and the Python side is going\n",
              "// to poll for completion of each step.\n",
              "// This uses a Promise to block the python side on completion of each step,\n",
              "// then passes the result of the previous step as the input to the next step.\n",
              "function _uploadFilesContinue(outputId) {\n",
              "  const outputElement = document.getElementById(outputId);\n",
              "  const steps = outputElement.steps;\n",
              "\n",
              "  const next = steps.next(outputElement.lastPromiseValue);\n",
              "  return Promise.resolve(next.value.promise).then((value) => {\n",
              "    // Cache the last promise value to make it available to the next\n",
              "    // step of the generator.\n",
              "    outputElement.lastPromiseValue = value;\n",
              "    return next.value.response;\n",
              "  });\n",
              "}\n",
              "\n",
              "/**\n",
              " * Generator function which is called between each async step of the upload\n",
              " * process.\n",
              " * @param {string} inputId Element ID of the input file picker element.\n",
              " * @param {string} outputId Element ID of the output display.\n",
              " * @return {!Iterable<!Object>} Iterable of next steps.\n",
              " */\n",
              "function* uploadFilesStep(inputId, outputId) {\n",
              "  const inputElement = document.getElementById(inputId);\n",
              "  inputElement.disabled = false;\n",
              "\n",
              "  const outputElement = document.getElementById(outputId);\n",
              "  outputElement.innerHTML = '';\n",
              "\n",
              "  const pickedPromise = new Promise((resolve) => {\n",
              "    inputElement.addEventListener('change', (e) => {\n",
              "      resolve(e.target.files);\n",
              "    });\n",
              "  });\n",
              "\n",
              "  const cancel = document.createElement('button');\n",
              "  inputElement.parentElement.appendChild(cancel);\n",
              "  cancel.textContent = 'Cancel upload';\n",
              "  const cancelPromise = new Promise((resolve) => {\n",
              "    cancel.onclick = () => {\n",
              "      resolve(null);\n",
              "    };\n",
              "  });\n",
              "\n",
              "  // Wait for the user to pick the files.\n",
              "  const files = yield {\n",
              "    promise: Promise.race([pickedPromise, cancelPromise]),\n",
              "    response: {\n",
              "      action: 'starting',\n",
              "    }\n",
              "  };\n",
              "\n",
              "  cancel.remove();\n",
              "\n",
              "  // Disable the input element since further picks are not allowed.\n",
              "  inputElement.disabled = true;\n",
              "\n",
              "  if (!files) {\n",
              "    return {\n",
              "      response: {\n",
              "        action: 'complete',\n",
              "      }\n",
              "    };\n",
              "  }\n",
              "\n",
              "  for (const file of files) {\n",
              "    const li = document.createElement('li');\n",
              "    li.append(span(file.name, {fontWeight: 'bold'}));\n",
              "    li.append(span(\n",
              "        `(${file.type || 'n/a'}) - ${file.size} bytes, ` +\n",
              "        `last modified: ${\n",
              "            file.lastModifiedDate ? file.lastModifiedDate.toLocaleDateString() :\n",
              "                                    'n/a'} - `));\n",
              "    const percent = span('0% done');\n",
              "    li.appendChild(percent);\n",
              "\n",
              "    outputElement.appendChild(li);\n",
              "\n",
              "    const fileDataPromise = new Promise((resolve) => {\n",
              "      const reader = new FileReader();\n",
              "      reader.onload = (e) => {\n",
              "        resolve(e.target.result);\n",
              "      };\n",
              "      reader.readAsArrayBuffer(file);\n",
              "    });\n",
              "    // Wait for the data to be ready.\n",
              "    let fileData = yield {\n",
              "      promise: fileDataPromise,\n",
              "      response: {\n",
              "        action: 'continue',\n",
              "      }\n",
              "    };\n",
              "\n",
              "    // Use a chunked sending to avoid message size limits. See b/62115660.\n",
              "    let position = 0;\n",
              "    do {\n",
              "      const length = Math.min(fileData.byteLength - position, MAX_PAYLOAD_SIZE);\n",
              "      const chunk = new Uint8Array(fileData, position, length);\n",
              "      position += length;\n",
              "\n",
              "      const base64 = btoa(String.fromCharCode.apply(null, chunk));\n",
              "      yield {\n",
              "        response: {\n",
              "          action: 'append',\n",
              "          file: file.name,\n",
              "          data: base64,\n",
              "        },\n",
              "      };\n",
              "\n",
              "      let percentDone = fileData.byteLength === 0 ?\n",
              "          100 :\n",
              "          Math.round((position / fileData.byteLength) * 100);\n",
              "      percent.textContent = `${percentDone}% done`;\n",
              "\n",
              "    } while (position < fileData.byteLength);\n",
              "  }\n",
              "\n",
              "  // All done.\n",
              "  yield {\n",
              "    response: {\n",
              "      action: 'complete',\n",
              "    }\n",
              "  };\n",
              "}\n",
              "\n",
              "scope.google = scope.google || {};\n",
              "scope.google.colab = scope.google.colab || {};\n",
              "scope.google.colab._files = {\n",
              "  _uploadFiles,\n",
              "  _uploadFilesContinue,\n",
              "};\n",
              "})(self);\n",
              "</script> "
            ]
          },
          "metadata": {}
        },
        {
          "output_type": "stream",
          "name": "stdout",
          "text": [
            "Saving nltk_split.csv to nltk_split.csv\n"
          ]
        }
      ]
    },
    {
      "cell_type": "code",
      "execution_count": 9,
      "id": "a89d5019",
      "metadata": {
        "id": "a89d5019"
      },
      "outputs": [],
      "source": [
        "climate_df = pd.read_csv(io.BytesIO(uploaded2['nltk_split.csv']))"
      ]
    },
    {
      "cell_type": "code",
      "execution_count": 10,
      "id": "d7364475",
      "metadata": {
        "id": "d7364475",
        "outputId": "2312f90e-26bb-4cc8-b8e2-810402061bd2",
        "colab": {
          "base_uri": "https://localhost:8080/",
          "height": 206
        }
      },
      "outputs": [
        {
          "output_type": "execute_result",
          "data": {
            "text/plain": [
              "                                          clean_text  category\n",
              "0  when modi promised “minimum government maximum...      -1.0\n",
              "1  talk all the nonsense and continue all the dra...       0.0\n",
              "2  what did just say vote for modi  welcome bjp t...       1.0\n",
              "3  asking his supporters prefix chowkidar their n...       1.0\n",
              "4  answer who among these the most powerful world...       1.0"
            ],
            "text/html": [
              "\n",
              "\n",
              "  <div id=\"df-825c53d3-269e-4d94-a04a-53172671e2ab\">\n",
              "    <div class=\"colab-df-container\">\n",
              "      <div>\n",
              "<style scoped>\n",
              "    .dataframe tbody tr th:only-of-type {\n",
              "        vertical-align: middle;\n",
              "    }\n",
              "\n",
              "    .dataframe tbody tr th {\n",
              "        vertical-align: top;\n",
              "    }\n",
              "\n",
              "    .dataframe thead th {\n",
              "        text-align: right;\n",
              "    }\n",
              "</style>\n",
              "<table border=\"1\" class=\"dataframe\">\n",
              "  <thead>\n",
              "    <tr style=\"text-align: right;\">\n",
              "      <th></th>\n",
              "      <th>clean_text</th>\n",
              "      <th>category</th>\n",
              "    </tr>\n",
              "  </thead>\n",
              "  <tbody>\n",
              "    <tr>\n",
              "      <th>0</th>\n",
              "      <td>when modi promised “minimum government maximum...</td>\n",
              "      <td>-1.0</td>\n",
              "    </tr>\n",
              "    <tr>\n",
              "      <th>1</th>\n",
              "      <td>talk all the nonsense and continue all the dra...</td>\n",
              "      <td>0.0</td>\n",
              "    </tr>\n",
              "    <tr>\n",
              "      <th>2</th>\n",
              "      <td>what did just say vote for modi  welcome bjp t...</td>\n",
              "      <td>1.0</td>\n",
              "    </tr>\n",
              "    <tr>\n",
              "      <th>3</th>\n",
              "      <td>asking his supporters prefix chowkidar their n...</td>\n",
              "      <td>1.0</td>\n",
              "    </tr>\n",
              "    <tr>\n",
              "      <th>4</th>\n",
              "      <td>answer who among these the most powerful world...</td>\n",
              "      <td>1.0</td>\n",
              "    </tr>\n",
              "  </tbody>\n",
              "</table>\n",
              "</div>\n",
              "      <button class=\"colab-df-convert\" onclick=\"convertToInteractive('df-825c53d3-269e-4d94-a04a-53172671e2ab')\"\n",
              "              title=\"Convert this dataframe to an interactive table.\"\n",
              "              style=\"display:none;\">\n",
              "\n",
              "  <svg xmlns=\"http://www.w3.org/2000/svg\" height=\"24px\"viewBox=\"0 0 24 24\"\n",
              "       width=\"24px\">\n",
              "    <path d=\"M0 0h24v24H0V0z\" fill=\"none\"/>\n",
              "    <path d=\"M18.56 5.44l.94 2.06.94-2.06 2.06-.94-2.06-.94-.94-2.06-.94 2.06-2.06.94zm-11 1L8.5 8.5l.94-2.06 2.06-.94-2.06-.94L8.5 2.5l-.94 2.06-2.06.94zm10 10l.94 2.06.94-2.06 2.06-.94-2.06-.94-.94-2.06-.94 2.06-2.06.94z\"/><path d=\"M17.41 7.96l-1.37-1.37c-.4-.4-.92-.59-1.43-.59-.52 0-1.04.2-1.43.59L10.3 9.45l-7.72 7.72c-.78.78-.78 2.05 0 2.83L4 21.41c.39.39.9.59 1.41.59.51 0 1.02-.2 1.41-.59l7.78-7.78 2.81-2.81c.8-.78.8-2.07 0-2.86zM5.41 20L4 18.59l7.72-7.72 1.47 1.35L5.41 20z\"/>\n",
              "  </svg>\n",
              "      </button>\n",
              "\n",
              "\n",
              "\n",
              "    <div id=\"df-fe65366e-c21b-41c5-b4b8-66167522c7c8\">\n",
              "      <button class=\"colab-df-quickchart\" onclick=\"quickchart('df-fe65366e-c21b-41c5-b4b8-66167522c7c8')\"\n",
              "              title=\"Suggest charts.\"\n",
              "              style=\"display:none;\">\n",
              "\n",
              "<svg xmlns=\"http://www.w3.org/2000/svg\" height=\"24px\"viewBox=\"0 0 24 24\"\n",
              "     width=\"24px\">\n",
              "    <g>\n",
              "        <path d=\"M19 3H5c-1.1 0-2 .9-2 2v14c0 1.1.9 2 2 2h14c1.1 0 2-.9 2-2V5c0-1.1-.9-2-2-2zM9 17H7v-7h2v7zm4 0h-2V7h2v10zm4 0h-2v-4h2v4z\"/>\n",
              "    </g>\n",
              "</svg>\n",
              "      </button>\n",
              "    </div>\n",
              "\n",
              "<style>\n",
              "  .colab-df-quickchart {\n",
              "    background-color: #E8F0FE;\n",
              "    border: none;\n",
              "    border-radius: 50%;\n",
              "    cursor: pointer;\n",
              "    display: none;\n",
              "    fill: #1967D2;\n",
              "    height: 32px;\n",
              "    padding: 0 0 0 0;\n",
              "    width: 32px;\n",
              "  }\n",
              "\n",
              "  .colab-df-quickchart:hover {\n",
              "    background-color: #E2EBFA;\n",
              "    box-shadow: 0px 1px 2px rgba(60, 64, 67, 0.3), 0px 1px 3px 1px rgba(60, 64, 67, 0.15);\n",
              "    fill: #174EA6;\n",
              "  }\n",
              "\n",
              "  [theme=dark] .colab-df-quickchart {\n",
              "    background-color: #3B4455;\n",
              "    fill: #D2E3FC;\n",
              "  }\n",
              "\n",
              "  [theme=dark] .colab-df-quickchart:hover {\n",
              "    background-color: #434B5C;\n",
              "    box-shadow: 0px 1px 3px 1px rgba(0, 0, 0, 0.15);\n",
              "    filter: drop-shadow(0px 1px 2px rgba(0, 0, 0, 0.3));\n",
              "    fill: #FFFFFF;\n",
              "  }\n",
              "</style>\n",
              "\n",
              "    <script>\n",
              "      async function quickchart(key) {\n",
              "        const containerElement = document.querySelector('#' + key);\n",
              "        const charts = await google.colab.kernel.invokeFunction(\n",
              "            'suggestCharts', [key], {});\n",
              "      }\n",
              "    </script>\n",
              "\n",
              "      <script>\n",
              "\n",
              "function displayQuickchartButton(domScope) {\n",
              "  let quickchartButtonEl =\n",
              "    domScope.querySelector('#df-fe65366e-c21b-41c5-b4b8-66167522c7c8 button.colab-df-quickchart');\n",
              "  quickchartButtonEl.style.display =\n",
              "    google.colab.kernel.accessAllowed ? 'block' : 'none';\n",
              "}\n",
              "\n",
              "        displayQuickchartButton(document);\n",
              "      </script>\n",
              "      <style>\n",
              "    .colab-df-container {\n",
              "      display:flex;\n",
              "      flex-wrap:wrap;\n",
              "      gap: 12px;\n",
              "    }\n",
              "\n",
              "    .colab-df-convert {\n",
              "      background-color: #E8F0FE;\n",
              "      border: none;\n",
              "      border-radius: 50%;\n",
              "      cursor: pointer;\n",
              "      display: none;\n",
              "      fill: #1967D2;\n",
              "      height: 32px;\n",
              "      padding: 0 0 0 0;\n",
              "      width: 32px;\n",
              "    }\n",
              "\n",
              "    .colab-df-convert:hover {\n",
              "      background-color: #E2EBFA;\n",
              "      box-shadow: 0px 1px 2px rgba(60, 64, 67, 0.3), 0px 1px 3px 1px rgba(60, 64, 67, 0.15);\n",
              "      fill: #174EA6;\n",
              "    }\n",
              "\n",
              "    [theme=dark] .colab-df-convert {\n",
              "      background-color: #3B4455;\n",
              "      fill: #D2E3FC;\n",
              "    }\n",
              "\n",
              "    [theme=dark] .colab-df-convert:hover {\n",
              "      background-color: #434B5C;\n",
              "      box-shadow: 0px 1px 3px 1px rgba(0, 0, 0, 0.15);\n",
              "      filter: drop-shadow(0px 1px 2px rgba(0, 0, 0, 0.3));\n",
              "      fill: #FFFFFF;\n",
              "    }\n",
              "  </style>\n",
              "\n",
              "      <script>\n",
              "        const buttonEl =\n",
              "          document.querySelector('#df-825c53d3-269e-4d94-a04a-53172671e2ab button.colab-df-convert');\n",
              "        buttonEl.style.display =\n",
              "          google.colab.kernel.accessAllowed ? 'block' : 'none';\n",
              "\n",
              "        async function convertToInteractive(key) {\n",
              "          const element = document.querySelector('#df-825c53d3-269e-4d94-a04a-53172671e2ab');\n",
              "          const dataTable =\n",
              "            await google.colab.kernel.invokeFunction('convertToInteractive',\n",
              "                                                     [key], {});\n",
              "          if (!dataTable) return;\n",
              "\n",
              "          const docLinkHtml = 'Like what you see? Visit the ' +\n",
              "            '<a target=\"_blank\" href=https://colab.research.google.com/notebooks/data_table.ipynb>data table notebook</a>'\n",
              "            + ' to learn more about interactive tables.';\n",
              "          element.innerHTML = '';\n",
              "          dataTable['output_type'] = 'display_data';\n",
              "          await google.colab.output.renderOutput(dataTable, element);\n",
              "          const docLink = document.createElement('div');\n",
              "          docLink.innerHTML = docLinkHtml;\n",
              "          element.appendChild(docLink);\n",
              "        }\n",
              "      </script>\n",
              "    </div>\n",
              "  </div>\n"
            ]
          },
          "metadata": {},
          "execution_count": 10
        }
      ],
      "source": [
        "twitter_df.head()"
      ]
    },
    {
      "cell_type": "code",
      "execution_count": 11,
      "id": "06146e96",
      "metadata": {
        "id": "06146e96",
        "outputId": "3eb138f4-2ad3-4fc1-9efc-08989e24ac12",
        "colab": {
          "base_uri": "https://localhost:8080/",
          "height": 527
        }
      },
      "outputs": [
        {
          "output_type": "execute_result",
          "data": {
            "text/plain": [
              "   Unnamed: 0.2  Unnamed: 0.1  Unnamed: 0            id  \\\n",
              "0             0             0           0  1.030000e+18   \n",
              "1             1             1           1  1.030000e+18   \n",
              "2             2             2           2  1.030000e+18   \n",
              "3             3             3           3  1.030000e+18   \n",
              "4             4             4           4  1.030000e+18   \n",
              "\n",
              "                                                text  favorite_count  \\\n",
              "0      Gotta love the facts. https://t.co/bZ2G8AZuo9               0   \n",
              "1  RT @ToolangiForest: A great day of action for ...               0   \n",
              "2  @jonkudelka Harvey Norman reckons climate chan...               2   \n",
              "3  RT @jayrosen_nyu: Why does skepticism about im...               0   \n",
              "4  RT @FranceinIreland: On 5th November we call a...               0   \n",
              "\n",
              "   retweet_count                 created_at coordinates  \\\n",
              "0              0  2018-08-13 10:40:21+00:00         NaN   \n",
              "1             35  2018-08-13 10:40:10+00:00         NaN   \n",
              "2              0  2018-08-13 10:40:43+00:00         NaN   \n",
              "3             52  2018-08-13 10:40:43+00:00         NaN   \n",
              "4             16  2018-08-13 10:41:58+00:00         NaN   \n",
              "\n",
              "                                               score    neg    neu    pos  \\\n",
              "0  {'neg': 0.0, 'neu': 0.488, 'pos': 0.512, 'comp...  0.000  0.488  0.512   \n",
              "1  {'neg': 0.0, 'neu': 0.651, 'pos': 0.349, 'comp...  0.000  0.651  0.349   \n",
              "2  {'neg': 0.0, 'neu': 1.0, 'pos': 0.0, 'compound...  0.000  1.000  0.000   \n",
              "3  {'neg': 0.146, 'neu': 0.62, 'pos': 0.234, 'com...  0.146  0.620  0.234   \n",
              "4  {'neg': 0.095, 'neu': 0.657, 'pos': 0.248, 'co...  0.095  0.657  0.248   \n",
              "\n",
              "   compound created_at_date  Unnamed: 15  Unnamed: 16  \n",
              "0    0.6369       8/13/2018          NaN          NaN  \n",
              "1    0.8805       8/13/2018          NaN          NaN  \n",
              "2    0.0000       8/13/2018          NaN          NaN  \n",
              "3    0.5267       8/13/2018          NaN          NaN  \n",
              "4    0.4939       8/13/2018          NaN          NaN  "
            ],
            "text/html": [
              "\n",
              "\n",
              "  <div id=\"df-a4e5f76b-3ca1-47ec-9bf1-2b56e311da34\">\n",
              "    <div class=\"colab-df-container\">\n",
              "      <div>\n",
              "<style scoped>\n",
              "    .dataframe tbody tr th:only-of-type {\n",
              "        vertical-align: middle;\n",
              "    }\n",
              "\n",
              "    .dataframe tbody tr th {\n",
              "        vertical-align: top;\n",
              "    }\n",
              "\n",
              "    .dataframe thead th {\n",
              "        text-align: right;\n",
              "    }\n",
              "</style>\n",
              "<table border=\"1\" class=\"dataframe\">\n",
              "  <thead>\n",
              "    <tr style=\"text-align: right;\">\n",
              "      <th></th>\n",
              "      <th>Unnamed: 0.2</th>\n",
              "      <th>Unnamed: 0.1</th>\n",
              "      <th>Unnamed: 0</th>\n",
              "      <th>id</th>\n",
              "      <th>text</th>\n",
              "      <th>favorite_count</th>\n",
              "      <th>retweet_count</th>\n",
              "      <th>created_at</th>\n",
              "      <th>coordinates</th>\n",
              "      <th>score</th>\n",
              "      <th>neg</th>\n",
              "      <th>neu</th>\n",
              "      <th>pos</th>\n",
              "      <th>compound</th>\n",
              "      <th>created_at_date</th>\n",
              "      <th>Unnamed: 15</th>\n",
              "      <th>Unnamed: 16</th>\n",
              "    </tr>\n",
              "  </thead>\n",
              "  <tbody>\n",
              "    <tr>\n",
              "      <th>0</th>\n",
              "      <td>0</td>\n",
              "      <td>0</td>\n",
              "      <td>0</td>\n",
              "      <td>1.030000e+18</td>\n",
              "      <td>Gotta love the facts. https://t.co/bZ2G8AZuo9</td>\n",
              "      <td>0</td>\n",
              "      <td>0</td>\n",
              "      <td>2018-08-13 10:40:21+00:00</td>\n",
              "      <td>NaN</td>\n",
              "      <td>{'neg': 0.0, 'neu': 0.488, 'pos': 0.512, 'comp...</td>\n",
              "      <td>0.000</td>\n",
              "      <td>0.488</td>\n",
              "      <td>0.512</td>\n",
              "      <td>0.6369</td>\n",
              "      <td>8/13/2018</td>\n",
              "      <td>NaN</td>\n",
              "      <td>NaN</td>\n",
              "    </tr>\n",
              "    <tr>\n",
              "      <th>1</th>\n",
              "      <td>1</td>\n",
              "      <td>1</td>\n",
              "      <td>1</td>\n",
              "      <td>1.030000e+18</td>\n",
              "      <td>RT @ToolangiForest: A great day of action for ...</td>\n",
              "      <td>0</td>\n",
              "      <td>35</td>\n",
              "      <td>2018-08-13 10:40:10+00:00</td>\n",
              "      <td>NaN</td>\n",
              "      <td>{'neg': 0.0, 'neu': 0.651, 'pos': 0.349, 'comp...</td>\n",
              "      <td>0.000</td>\n",
              "      <td>0.651</td>\n",
              "      <td>0.349</td>\n",
              "      <td>0.8805</td>\n",
              "      <td>8/13/2018</td>\n",
              "      <td>NaN</td>\n",
              "      <td>NaN</td>\n",
              "    </tr>\n",
              "    <tr>\n",
              "      <th>2</th>\n",
              "      <td>2</td>\n",
              "      <td>2</td>\n",
              "      <td>2</td>\n",
              "      <td>1.030000e+18</td>\n",
              "      <td>@jonkudelka Harvey Norman reckons climate chan...</td>\n",
              "      <td>2</td>\n",
              "      <td>0</td>\n",
              "      <td>2018-08-13 10:40:43+00:00</td>\n",
              "      <td>NaN</td>\n",
              "      <td>{'neg': 0.0, 'neu': 1.0, 'pos': 0.0, 'compound...</td>\n",
              "      <td>0.000</td>\n",
              "      <td>1.000</td>\n",
              "      <td>0.000</td>\n",
              "      <td>0.0000</td>\n",
              "      <td>8/13/2018</td>\n",
              "      <td>NaN</td>\n",
              "      <td>NaN</td>\n",
              "    </tr>\n",
              "    <tr>\n",
              "      <th>3</th>\n",
              "      <td>3</td>\n",
              "      <td>3</td>\n",
              "      <td>3</td>\n",
              "      <td>1.030000e+18</td>\n",
              "      <td>RT @jayrosen_nyu: Why does skepticism about im...</td>\n",
              "      <td>0</td>\n",
              "      <td>52</td>\n",
              "      <td>2018-08-13 10:40:43+00:00</td>\n",
              "      <td>NaN</td>\n",
              "      <td>{'neg': 0.146, 'neu': 0.62, 'pos': 0.234, 'com...</td>\n",
              "      <td>0.146</td>\n",
              "      <td>0.620</td>\n",
              "      <td>0.234</td>\n",
              "      <td>0.5267</td>\n",
              "      <td>8/13/2018</td>\n",
              "      <td>NaN</td>\n",
              "      <td>NaN</td>\n",
              "    </tr>\n",
              "    <tr>\n",
              "      <th>4</th>\n",
              "      <td>4</td>\n",
              "      <td>4</td>\n",
              "      <td>4</td>\n",
              "      <td>1.030000e+18</td>\n",
              "      <td>RT @FranceinIreland: On 5th November we call a...</td>\n",
              "      <td>0</td>\n",
              "      <td>16</td>\n",
              "      <td>2018-08-13 10:41:58+00:00</td>\n",
              "      <td>NaN</td>\n",
              "      <td>{'neg': 0.095, 'neu': 0.657, 'pos': 0.248, 'co...</td>\n",
              "      <td>0.095</td>\n",
              "      <td>0.657</td>\n",
              "      <td>0.248</td>\n",
              "      <td>0.4939</td>\n",
              "      <td>8/13/2018</td>\n",
              "      <td>NaN</td>\n",
              "      <td>NaN</td>\n",
              "    </tr>\n",
              "  </tbody>\n",
              "</table>\n",
              "</div>\n",
              "      <button class=\"colab-df-convert\" onclick=\"convertToInteractive('df-a4e5f76b-3ca1-47ec-9bf1-2b56e311da34')\"\n",
              "              title=\"Convert this dataframe to an interactive table.\"\n",
              "              style=\"display:none;\">\n",
              "\n",
              "  <svg xmlns=\"http://www.w3.org/2000/svg\" height=\"24px\"viewBox=\"0 0 24 24\"\n",
              "       width=\"24px\">\n",
              "    <path d=\"M0 0h24v24H0V0z\" fill=\"none\"/>\n",
              "    <path d=\"M18.56 5.44l.94 2.06.94-2.06 2.06-.94-2.06-.94-.94-2.06-.94 2.06-2.06.94zm-11 1L8.5 8.5l.94-2.06 2.06-.94-2.06-.94L8.5 2.5l-.94 2.06-2.06.94zm10 10l.94 2.06.94-2.06 2.06-.94-2.06-.94-.94-2.06-.94 2.06-2.06.94z\"/><path d=\"M17.41 7.96l-1.37-1.37c-.4-.4-.92-.59-1.43-.59-.52 0-1.04.2-1.43.59L10.3 9.45l-7.72 7.72c-.78.78-.78 2.05 0 2.83L4 21.41c.39.39.9.59 1.41.59.51 0 1.02-.2 1.41-.59l7.78-7.78 2.81-2.81c.8-.78.8-2.07 0-2.86zM5.41 20L4 18.59l7.72-7.72 1.47 1.35L5.41 20z\"/>\n",
              "  </svg>\n",
              "      </button>\n",
              "\n",
              "\n",
              "\n",
              "    <div id=\"df-696d29d1-7bef-4a42-9a27-da386c43b0f8\">\n",
              "      <button class=\"colab-df-quickchart\" onclick=\"quickchart('df-696d29d1-7bef-4a42-9a27-da386c43b0f8')\"\n",
              "              title=\"Suggest charts.\"\n",
              "              style=\"display:none;\">\n",
              "\n",
              "<svg xmlns=\"http://www.w3.org/2000/svg\" height=\"24px\"viewBox=\"0 0 24 24\"\n",
              "     width=\"24px\">\n",
              "    <g>\n",
              "        <path d=\"M19 3H5c-1.1 0-2 .9-2 2v14c0 1.1.9 2 2 2h14c1.1 0 2-.9 2-2V5c0-1.1-.9-2-2-2zM9 17H7v-7h2v7zm4 0h-2V7h2v10zm4 0h-2v-4h2v4z\"/>\n",
              "    </g>\n",
              "</svg>\n",
              "      </button>\n",
              "    </div>\n",
              "\n",
              "<style>\n",
              "  .colab-df-quickchart {\n",
              "    background-color: #E8F0FE;\n",
              "    border: none;\n",
              "    border-radius: 50%;\n",
              "    cursor: pointer;\n",
              "    display: none;\n",
              "    fill: #1967D2;\n",
              "    height: 32px;\n",
              "    padding: 0 0 0 0;\n",
              "    width: 32px;\n",
              "  }\n",
              "\n",
              "  .colab-df-quickchart:hover {\n",
              "    background-color: #E2EBFA;\n",
              "    box-shadow: 0px 1px 2px rgba(60, 64, 67, 0.3), 0px 1px 3px 1px rgba(60, 64, 67, 0.15);\n",
              "    fill: #174EA6;\n",
              "  }\n",
              "\n",
              "  [theme=dark] .colab-df-quickchart {\n",
              "    background-color: #3B4455;\n",
              "    fill: #D2E3FC;\n",
              "  }\n",
              "\n",
              "  [theme=dark] .colab-df-quickchart:hover {\n",
              "    background-color: #434B5C;\n",
              "    box-shadow: 0px 1px 3px 1px rgba(0, 0, 0, 0.15);\n",
              "    filter: drop-shadow(0px 1px 2px rgba(0, 0, 0, 0.3));\n",
              "    fill: #FFFFFF;\n",
              "  }\n",
              "</style>\n",
              "\n",
              "    <script>\n",
              "      async function quickchart(key) {\n",
              "        const containerElement = document.querySelector('#' + key);\n",
              "        const charts = await google.colab.kernel.invokeFunction(\n",
              "            'suggestCharts', [key], {});\n",
              "      }\n",
              "    </script>\n",
              "\n",
              "      <script>\n",
              "\n",
              "function displayQuickchartButton(domScope) {\n",
              "  let quickchartButtonEl =\n",
              "    domScope.querySelector('#df-696d29d1-7bef-4a42-9a27-da386c43b0f8 button.colab-df-quickchart');\n",
              "  quickchartButtonEl.style.display =\n",
              "    google.colab.kernel.accessAllowed ? 'block' : 'none';\n",
              "}\n",
              "\n",
              "        displayQuickchartButton(document);\n",
              "      </script>\n",
              "      <style>\n",
              "    .colab-df-container {\n",
              "      display:flex;\n",
              "      flex-wrap:wrap;\n",
              "      gap: 12px;\n",
              "    }\n",
              "\n",
              "    .colab-df-convert {\n",
              "      background-color: #E8F0FE;\n",
              "      border: none;\n",
              "      border-radius: 50%;\n",
              "      cursor: pointer;\n",
              "      display: none;\n",
              "      fill: #1967D2;\n",
              "      height: 32px;\n",
              "      padding: 0 0 0 0;\n",
              "      width: 32px;\n",
              "    }\n",
              "\n",
              "    .colab-df-convert:hover {\n",
              "      background-color: #E2EBFA;\n",
              "      box-shadow: 0px 1px 2px rgba(60, 64, 67, 0.3), 0px 1px 3px 1px rgba(60, 64, 67, 0.15);\n",
              "      fill: #174EA6;\n",
              "    }\n",
              "\n",
              "    [theme=dark] .colab-df-convert {\n",
              "      background-color: #3B4455;\n",
              "      fill: #D2E3FC;\n",
              "    }\n",
              "\n",
              "    [theme=dark] .colab-df-convert:hover {\n",
              "      background-color: #434B5C;\n",
              "      box-shadow: 0px 1px 3px 1px rgba(0, 0, 0, 0.15);\n",
              "      filter: drop-shadow(0px 1px 2px rgba(0, 0, 0, 0.3));\n",
              "      fill: #FFFFFF;\n",
              "    }\n",
              "  </style>\n",
              "\n",
              "      <script>\n",
              "        const buttonEl =\n",
              "          document.querySelector('#df-a4e5f76b-3ca1-47ec-9bf1-2b56e311da34 button.colab-df-convert');\n",
              "        buttonEl.style.display =\n",
              "          google.colab.kernel.accessAllowed ? 'block' : 'none';\n",
              "\n",
              "        async function convertToInteractive(key) {\n",
              "          const element = document.querySelector('#df-a4e5f76b-3ca1-47ec-9bf1-2b56e311da34');\n",
              "          const dataTable =\n",
              "            await google.colab.kernel.invokeFunction('convertToInteractive',\n",
              "                                                     [key], {});\n",
              "          if (!dataTable) return;\n",
              "\n",
              "          const docLinkHtml = 'Like what you see? Visit the ' +\n",
              "            '<a target=\"_blank\" href=https://colab.research.google.com/notebooks/data_table.ipynb>data table notebook</a>'\n",
              "            + ' to learn more about interactive tables.';\n",
              "          element.innerHTML = '';\n",
              "          dataTable['output_type'] = 'display_data';\n",
              "          await google.colab.output.renderOutput(dataTable, element);\n",
              "          const docLink = document.createElement('div');\n",
              "          docLink.innerHTML = docLinkHtml;\n",
              "          element.appendChild(docLink);\n",
              "        }\n",
              "      </script>\n",
              "    </div>\n",
              "  </div>\n"
            ]
          },
          "metadata": {},
          "execution_count": 11
        }
      ],
      "source": [
        "climate_df.head()"
      ]
    },
    {
      "cell_type": "markdown",
      "id": "d52d60ad",
      "metadata": {
        "id": "d52d60ad"
      },
      "source": [
        "# Data cleaning"
      ]
    },
    {
      "cell_type": "markdown",
      "id": "2caed58a",
      "metadata": {
        "id": "2caed58a"
      },
      "source": [
        "The twitter_df is already cleaned, we just need to drop null values. Only cleaning to do is the climate_df."
      ]
    },
    {
      "cell_type": "code",
      "execution_count": 10,
      "id": "bd3d0756",
      "metadata": {
        "id": "bd3d0756"
      },
      "outputs": [],
      "source": [
        "# Drop null values\n",
        "twitter_df.dropna(inplace=True)"
      ]
    },
    {
      "cell_type": "code",
      "execution_count": 11,
      "id": "cd79bc53",
      "metadata": {
        "id": "cd79bc53"
      },
      "outputs": [],
      "source": [
        "twitter_df.category = twitter_df.category.astype(int)\n",
        "twitter_df.category = twitter_df.category.astype(str)"
      ]
    },
    {
      "cell_type": "code",
      "execution_count": 12,
      "id": "13ec2e9c",
      "metadata": {
        "id": "13ec2e9c"
      },
      "outputs": [],
      "source": [
        "# Drop irrevalent columns\n",
        "climate_df.drop(columns = ['Unnamed: 0', 'Unnamed: 0.1', 'Unnamed: 15', 'Unnamed: 16'], inplace=True)"
      ]
    },
    {
      "cell_type": "code",
      "execution_count": 13,
      "id": "11f812bc",
      "metadata": {
        "id": "11f812bc",
        "outputId": "d87b10b0-5145-4b48-c7ee-9ff09fd8aba8",
        "colab": {
          "base_uri": "https://localhost:8080/",
          "height": 354
        }
      },
      "outputs": [
        {
          "output_type": "execute_result",
          "data": {
            "text/plain": [
              "   Unnamed: 0.2            id  \\\n",
              "0             0  1.030000e+18   \n",
              "1             1  1.030000e+18   \n",
              "2             2  1.030000e+18   \n",
              "3             3  1.030000e+18   \n",
              "4             4  1.030000e+18   \n",
              "\n",
              "                                                text  favorite_count  \\\n",
              "0      Gotta love the facts. https://t.co/bZ2G8AZuo9               0   \n",
              "1  RT @ToolangiForest: A great day of action for ...               0   \n",
              "2  @jonkudelka Harvey Norman reckons climate chan...               2   \n",
              "3  RT @jayrosen_nyu: Why does skepticism about im...               0   \n",
              "4  RT @FranceinIreland: On 5th November we call a...               0   \n",
              "\n",
              "   retweet_count                 created_at coordinates  \\\n",
              "0              0  2018-08-13 10:40:21+00:00         NaN   \n",
              "1             35  2018-08-13 10:40:10+00:00         NaN   \n",
              "2              0  2018-08-13 10:40:43+00:00         NaN   \n",
              "3             52  2018-08-13 10:40:43+00:00         NaN   \n",
              "4             16  2018-08-13 10:41:58+00:00         NaN   \n",
              "\n",
              "                                               score    neg    neu    pos  \\\n",
              "0  {'neg': 0.0, 'neu': 0.488, 'pos': 0.512, 'comp...  0.000  0.488  0.512   \n",
              "1  {'neg': 0.0, 'neu': 0.651, 'pos': 0.349, 'comp...  0.000  0.651  0.349   \n",
              "2  {'neg': 0.0, 'neu': 1.0, 'pos': 0.0, 'compound...  0.000  1.000  0.000   \n",
              "3  {'neg': 0.146, 'neu': 0.62, 'pos': 0.234, 'com...  0.146  0.620  0.234   \n",
              "4  {'neg': 0.095, 'neu': 0.657, 'pos': 0.248, 'co...  0.095  0.657  0.248   \n",
              "\n",
              "   compound created_at_date  \n",
              "0    0.6369       8/13/2018  \n",
              "1    0.8805       8/13/2018  \n",
              "2    0.0000       8/13/2018  \n",
              "3    0.5267       8/13/2018  \n",
              "4    0.4939       8/13/2018  "
            ],
            "text/html": [
              "\n",
              "\n",
              "  <div id=\"df-22544899-7c61-4d05-996b-96cbc7f3d628\">\n",
              "    <div class=\"colab-df-container\">\n",
              "      <div>\n",
              "<style scoped>\n",
              "    .dataframe tbody tr th:only-of-type {\n",
              "        vertical-align: middle;\n",
              "    }\n",
              "\n",
              "    .dataframe tbody tr th {\n",
              "        vertical-align: top;\n",
              "    }\n",
              "\n",
              "    .dataframe thead th {\n",
              "        text-align: right;\n",
              "    }\n",
              "</style>\n",
              "<table border=\"1\" class=\"dataframe\">\n",
              "  <thead>\n",
              "    <tr style=\"text-align: right;\">\n",
              "      <th></th>\n",
              "      <th>Unnamed: 0.2</th>\n",
              "      <th>id</th>\n",
              "      <th>text</th>\n",
              "      <th>favorite_count</th>\n",
              "      <th>retweet_count</th>\n",
              "      <th>created_at</th>\n",
              "      <th>coordinates</th>\n",
              "      <th>score</th>\n",
              "      <th>neg</th>\n",
              "      <th>neu</th>\n",
              "      <th>pos</th>\n",
              "      <th>compound</th>\n",
              "      <th>created_at_date</th>\n",
              "    </tr>\n",
              "  </thead>\n",
              "  <tbody>\n",
              "    <tr>\n",
              "      <th>0</th>\n",
              "      <td>0</td>\n",
              "      <td>1.030000e+18</td>\n",
              "      <td>Gotta love the facts. https://t.co/bZ2G8AZuo9</td>\n",
              "      <td>0</td>\n",
              "      <td>0</td>\n",
              "      <td>2018-08-13 10:40:21+00:00</td>\n",
              "      <td>NaN</td>\n",
              "      <td>{'neg': 0.0, 'neu': 0.488, 'pos': 0.512, 'comp...</td>\n",
              "      <td>0.000</td>\n",
              "      <td>0.488</td>\n",
              "      <td>0.512</td>\n",
              "      <td>0.6369</td>\n",
              "      <td>8/13/2018</td>\n",
              "    </tr>\n",
              "    <tr>\n",
              "      <th>1</th>\n",
              "      <td>1</td>\n",
              "      <td>1.030000e+18</td>\n",
              "      <td>RT @ToolangiForest: A great day of action for ...</td>\n",
              "      <td>0</td>\n",
              "      <td>35</td>\n",
              "      <td>2018-08-13 10:40:10+00:00</td>\n",
              "      <td>NaN</td>\n",
              "      <td>{'neg': 0.0, 'neu': 0.651, 'pos': 0.349, 'comp...</td>\n",
              "      <td>0.000</td>\n",
              "      <td>0.651</td>\n",
              "      <td>0.349</td>\n",
              "      <td>0.8805</td>\n",
              "      <td>8/13/2018</td>\n",
              "    </tr>\n",
              "    <tr>\n",
              "      <th>2</th>\n",
              "      <td>2</td>\n",
              "      <td>1.030000e+18</td>\n",
              "      <td>@jonkudelka Harvey Norman reckons climate chan...</td>\n",
              "      <td>2</td>\n",
              "      <td>0</td>\n",
              "      <td>2018-08-13 10:40:43+00:00</td>\n",
              "      <td>NaN</td>\n",
              "      <td>{'neg': 0.0, 'neu': 1.0, 'pos': 0.0, 'compound...</td>\n",
              "      <td>0.000</td>\n",
              "      <td>1.000</td>\n",
              "      <td>0.000</td>\n",
              "      <td>0.0000</td>\n",
              "      <td>8/13/2018</td>\n",
              "    </tr>\n",
              "    <tr>\n",
              "      <th>3</th>\n",
              "      <td>3</td>\n",
              "      <td>1.030000e+18</td>\n",
              "      <td>RT @jayrosen_nyu: Why does skepticism about im...</td>\n",
              "      <td>0</td>\n",
              "      <td>52</td>\n",
              "      <td>2018-08-13 10:40:43+00:00</td>\n",
              "      <td>NaN</td>\n",
              "      <td>{'neg': 0.146, 'neu': 0.62, 'pos': 0.234, 'com...</td>\n",
              "      <td>0.146</td>\n",
              "      <td>0.620</td>\n",
              "      <td>0.234</td>\n",
              "      <td>0.5267</td>\n",
              "      <td>8/13/2018</td>\n",
              "    </tr>\n",
              "    <tr>\n",
              "      <th>4</th>\n",
              "      <td>4</td>\n",
              "      <td>1.030000e+18</td>\n",
              "      <td>RT @FranceinIreland: On 5th November we call a...</td>\n",
              "      <td>0</td>\n",
              "      <td>16</td>\n",
              "      <td>2018-08-13 10:41:58+00:00</td>\n",
              "      <td>NaN</td>\n",
              "      <td>{'neg': 0.095, 'neu': 0.657, 'pos': 0.248, 'co...</td>\n",
              "      <td>0.095</td>\n",
              "      <td>0.657</td>\n",
              "      <td>0.248</td>\n",
              "      <td>0.4939</td>\n",
              "      <td>8/13/2018</td>\n",
              "    </tr>\n",
              "  </tbody>\n",
              "</table>\n",
              "</div>\n",
              "      <button class=\"colab-df-convert\" onclick=\"convertToInteractive('df-22544899-7c61-4d05-996b-96cbc7f3d628')\"\n",
              "              title=\"Convert this dataframe to an interactive table.\"\n",
              "              style=\"display:none;\">\n",
              "\n",
              "  <svg xmlns=\"http://www.w3.org/2000/svg\" height=\"24px\"viewBox=\"0 0 24 24\"\n",
              "       width=\"24px\">\n",
              "    <path d=\"M0 0h24v24H0V0z\" fill=\"none\"/>\n",
              "    <path d=\"M18.56 5.44l.94 2.06.94-2.06 2.06-.94-2.06-.94-.94-2.06-.94 2.06-2.06.94zm-11 1L8.5 8.5l.94-2.06 2.06-.94-2.06-.94L8.5 2.5l-.94 2.06-2.06.94zm10 10l.94 2.06.94-2.06 2.06-.94-2.06-.94-.94-2.06-.94 2.06-2.06.94z\"/><path d=\"M17.41 7.96l-1.37-1.37c-.4-.4-.92-.59-1.43-.59-.52 0-1.04.2-1.43.59L10.3 9.45l-7.72 7.72c-.78.78-.78 2.05 0 2.83L4 21.41c.39.39.9.59 1.41.59.51 0 1.02-.2 1.41-.59l7.78-7.78 2.81-2.81c.8-.78.8-2.07 0-2.86zM5.41 20L4 18.59l7.72-7.72 1.47 1.35L5.41 20z\"/>\n",
              "  </svg>\n",
              "      </button>\n",
              "\n",
              "\n",
              "\n",
              "    <div id=\"df-1b755f92-ff0e-472f-87e9-1faaddb5924f\">\n",
              "      <button class=\"colab-df-quickchart\" onclick=\"quickchart('df-1b755f92-ff0e-472f-87e9-1faaddb5924f')\"\n",
              "              title=\"Suggest charts.\"\n",
              "              style=\"display:none;\">\n",
              "\n",
              "<svg xmlns=\"http://www.w3.org/2000/svg\" height=\"24px\"viewBox=\"0 0 24 24\"\n",
              "     width=\"24px\">\n",
              "    <g>\n",
              "        <path d=\"M19 3H5c-1.1 0-2 .9-2 2v14c0 1.1.9 2 2 2h14c1.1 0 2-.9 2-2V5c0-1.1-.9-2-2-2zM9 17H7v-7h2v7zm4 0h-2V7h2v10zm4 0h-2v-4h2v4z\"/>\n",
              "    </g>\n",
              "</svg>\n",
              "      </button>\n",
              "    </div>\n",
              "\n",
              "<style>\n",
              "  .colab-df-quickchart {\n",
              "    background-color: #E8F0FE;\n",
              "    border: none;\n",
              "    border-radius: 50%;\n",
              "    cursor: pointer;\n",
              "    display: none;\n",
              "    fill: #1967D2;\n",
              "    height: 32px;\n",
              "    padding: 0 0 0 0;\n",
              "    width: 32px;\n",
              "  }\n",
              "\n",
              "  .colab-df-quickchart:hover {\n",
              "    background-color: #E2EBFA;\n",
              "    box-shadow: 0px 1px 2px rgba(60, 64, 67, 0.3), 0px 1px 3px 1px rgba(60, 64, 67, 0.15);\n",
              "    fill: #174EA6;\n",
              "  }\n",
              "\n",
              "  [theme=dark] .colab-df-quickchart {\n",
              "    background-color: #3B4455;\n",
              "    fill: #D2E3FC;\n",
              "  }\n",
              "\n",
              "  [theme=dark] .colab-df-quickchart:hover {\n",
              "    background-color: #434B5C;\n",
              "    box-shadow: 0px 1px 3px 1px rgba(0, 0, 0, 0.15);\n",
              "    filter: drop-shadow(0px 1px 2px rgba(0, 0, 0, 0.3));\n",
              "    fill: #FFFFFF;\n",
              "  }\n",
              "</style>\n",
              "\n",
              "    <script>\n",
              "      async function quickchart(key) {\n",
              "        const containerElement = document.querySelector('#' + key);\n",
              "        const charts = await google.colab.kernel.invokeFunction(\n",
              "            'suggestCharts', [key], {});\n",
              "      }\n",
              "    </script>\n",
              "\n",
              "      <script>\n",
              "\n",
              "function displayQuickchartButton(domScope) {\n",
              "  let quickchartButtonEl =\n",
              "    domScope.querySelector('#df-1b755f92-ff0e-472f-87e9-1faaddb5924f button.colab-df-quickchart');\n",
              "  quickchartButtonEl.style.display =\n",
              "    google.colab.kernel.accessAllowed ? 'block' : 'none';\n",
              "}\n",
              "\n",
              "        displayQuickchartButton(document);\n",
              "      </script>\n",
              "      <style>\n",
              "    .colab-df-container {\n",
              "      display:flex;\n",
              "      flex-wrap:wrap;\n",
              "      gap: 12px;\n",
              "    }\n",
              "\n",
              "    .colab-df-convert {\n",
              "      background-color: #E8F0FE;\n",
              "      border: none;\n",
              "      border-radius: 50%;\n",
              "      cursor: pointer;\n",
              "      display: none;\n",
              "      fill: #1967D2;\n",
              "      height: 32px;\n",
              "      padding: 0 0 0 0;\n",
              "      width: 32px;\n",
              "    }\n",
              "\n",
              "    .colab-df-convert:hover {\n",
              "      background-color: #E2EBFA;\n",
              "      box-shadow: 0px 1px 2px rgba(60, 64, 67, 0.3), 0px 1px 3px 1px rgba(60, 64, 67, 0.15);\n",
              "      fill: #174EA6;\n",
              "    }\n",
              "\n",
              "    [theme=dark] .colab-df-convert {\n",
              "      background-color: #3B4455;\n",
              "      fill: #D2E3FC;\n",
              "    }\n",
              "\n",
              "    [theme=dark] .colab-df-convert:hover {\n",
              "      background-color: #434B5C;\n",
              "      box-shadow: 0px 1px 3px 1px rgba(0, 0, 0, 0.15);\n",
              "      filter: drop-shadow(0px 1px 2px rgba(0, 0, 0, 0.3));\n",
              "      fill: #FFFFFF;\n",
              "    }\n",
              "  </style>\n",
              "\n",
              "      <script>\n",
              "        const buttonEl =\n",
              "          document.querySelector('#df-22544899-7c61-4d05-996b-96cbc7f3d628 button.colab-df-convert');\n",
              "        buttonEl.style.display =\n",
              "          google.colab.kernel.accessAllowed ? 'block' : 'none';\n",
              "\n",
              "        async function convertToInteractive(key) {\n",
              "          const element = document.querySelector('#df-22544899-7c61-4d05-996b-96cbc7f3d628');\n",
              "          const dataTable =\n",
              "            await google.colab.kernel.invokeFunction('convertToInteractive',\n",
              "                                                     [key], {});\n",
              "          if (!dataTable) return;\n",
              "\n",
              "          const docLinkHtml = 'Like what you see? Visit the ' +\n",
              "            '<a target=\"_blank\" href=https://colab.research.google.com/notebooks/data_table.ipynb>data table notebook</a>'\n",
              "            + ' to learn more about interactive tables.';\n",
              "          element.innerHTML = '';\n",
              "          dataTable['output_type'] = 'display_data';\n",
              "          await google.colab.output.renderOutput(dataTable, element);\n",
              "          const docLink = document.createElement('div');\n",
              "          docLink.innerHTML = docLinkHtml;\n",
              "          element.appendChild(docLink);\n",
              "        }\n",
              "      </script>\n",
              "    </div>\n",
              "  </div>\n"
            ]
          },
          "metadata": {},
          "execution_count": 13
        }
      ],
      "source": [
        "# Display first 5 rows\n",
        "climate_df.head()"
      ]
    },
    {
      "cell_type": "markdown",
      "id": "64e10682",
      "metadata": {
        "id": "64e10682"
      },
      "source": [
        "Note: \"compound\" field indicates a combined score for all three sentiments.\n",
        "- If compound is a positive value, then it is a positive sentiment.\n",
        "- If a compound is a negative value, then it is a negative sentiment.\n",
        "\n",
        "We will rename the \"compound\" field to \"sentiment\"."
      ]
    },
    {
      "cell_type": "code",
      "execution_count": 14,
      "id": "0271da3b",
      "metadata": {
        "id": "0271da3b",
        "outputId": "cdfbba5c-7c44-4684-d957-a9c38632c993",
        "colab": {
          "base_uri": "https://localhost:8080/"
        }
      },
      "outputs": [
        {
          "output_type": "stream",
          "name": "stderr",
          "text": [
            "<ipython-input-14-1351938fa98c>:4: SettingWithCopyWarning: \n",
            "A value is trying to be set on a copy of a slice from a DataFrame\n",
            "\n",
            "See the caveats in the documentation: https://pandas.pydata.org/pandas-docs/stable/user_guide/indexing.html#returning-a-view-versus-a-copy\n",
            "  twitter_climate_data.rename(columns = {'compound': 'sentiment'}, inplace = True)\n"
          ]
        }
      ],
      "source": [
        "# Select relevant columns\n",
        "twitter_climate_data = climate_df[['text', 'neg', 'neu', 'pos', 'compound', 'created_at_date', 'favorite_count', 'retweet_count']]\n",
        "# Rename the \"compound\" column to \"sentiment\"\n",
        "twitter_climate_data.rename(columns = {'compound': 'sentiment'}, inplace = True)"
      ]
    },
    {
      "cell_type": "code",
      "execution_count": 15,
      "id": "c87ac0bd",
      "metadata": {
        "id": "c87ac0bd"
      },
      "outputs": [],
      "source": [
        "# Convert positive value as 1 (positive sentiment), zero as 0 (neutral sentiment), negative value as -1 (negative sentiment)\n",
        "label = []\n",
        "for row in twitter_climate_data['sentiment']:\n",
        "    if row > 0:    label.append('1')\n",
        "    elif row == 0: label.append('0')\n",
        "    else:          label.append('-1')"
      ]
    },
    {
      "cell_type": "code",
      "execution_count": 16,
      "id": "163c37d0",
      "metadata": {
        "id": "163c37d0",
        "outputId": "30460bf9-aad1-41e8-a29f-0864b37e859a",
        "colab": {
          "base_uri": "https://localhost:8080/"
        }
      },
      "outputs": [
        {
          "output_type": "stream",
          "name": "stderr",
          "text": [
            "<ipython-input-16-a83d2fe8e6a7>:1: SettingWithCopyWarning: \n",
            "A value is trying to be set on a copy of a slice from a DataFrame.\n",
            "Try using .loc[row_indexer,col_indexer] = value instead\n",
            "\n",
            "See the caveats in the documentation: https://pandas.pydata.org/pandas-docs/stable/user_guide/indexing.html#returning-a-view-versus-a-copy\n",
            "  twitter_climate_data['sentiment_label'] = label\n"
          ]
        }
      ],
      "source": [
        "twitter_climate_data['sentiment_label'] = label"
      ]
    },
    {
      "cell_type": "code",
      "execution_count": 17,
      "id": "88a22364",
      "metadata": {
        "id": "88a22364",
        "outputId": "cee5d5b0-3871-40a9-a194-c33d1931848e",
        "colab": {
          "base_uri": "https://localhost:8080/",
          "height": 206
        }
      },
      "outputs": [
        {
          "output_type": "execute_result",
          "data": {
            "text/plain": [
              "                                                text  sentiment  \\\n",
              "0      Gotta love the facts. https://t.co/bZ2G8AZuo9     0.6369   \n",
              "1  RT @ToolangiForest: A great day of action for ...     0.8805   \n",
              "2  @jonkudelka Harvey Norman reckons climate chan...     0.0000   \n",
              "3  RT @jayrosen_nyu: Why does skepticism about im...     0.5267   \n",
              "4  RT @FranceinIreland: On 5th November we call a...     0.4939   \n",
              "\n",
              "  sentiment_label  retweet_count created_at_date  \n",
              "0               1              0       8/13/2018  \n",
              "1               1             35       8/13/2018  \n",
              "2               0              0       8/13/2018  \n",
              "3               1             52       8/13/2018  \n",
              "4               1             16       8/13/2018  "
            ],
            "text/html": [
              "\n",
              "\n",
              "  <div id=\"df-b666ba1a-5c6f-40bc-b0a2-7eac05ba37c2\">\n",
              "    <div class=\"colab-df-container\">\n",
              "      <div>\n",
              "<style scoped>\n",
              "    .dataframe tbody tr th:only-of-type {\n",
              "        vertical-align: middle;\n",
              "    }\n",
              "\n",
              "    .dataframe tbody tr th {\n",
              "        vertical-align: top;\n",
              "    }\n",
              "\n",
              "    .dataframe thead th {\n",
              "        text-align: right;\n",
              "    }\n",
              "</style>\n",
              "<table border=\"1\" class=\"dataframe\">\n",
              "  <thead>\n",
              "    <tr style=\"text-align: right;\">\n",
              "      <th></th>\n",
              "      <th>text</th>\n",
              "      <th>sentiment</th>\n",
              "      <th>sentiment_label</th>\n",
              "      <th>retweet_count</th>\n",
              "      <th>created_at_date</th>\n",
              "    </tr>\n",
              "  </thead>\n",
              "  <tbody>\n",
              "    <tr>\n",
              "      <th>0</th>\n",
              "      <td>Gotta love the facts. https://t.co/bZ2G8AZuo9</td>\n",
              "      <td>0.6369</td>\n",
              "      <td>1</td>\n",
              "      <td>0</td>\n",
              "      <td>8/13/2018</td>\n",
              "    </tr>\n",
              "    <tr>\n",
              "      <th>1</th>\n",
              "      <td>RT @ToolangiForest: A great day of action for ...</td>\n",
              "      <td>0.8805</td>\n",
              "      <td>1</td>\n",
              "      <td>35</td>\n",
              "      <td>8/13/2018</td>\n",
              "    </tr>\n",
              "    <tr>\n",
              "      <th>2</th>\n",
              "      <td>@jonkudelka Harvey Norman reckons climate chan...</td>\n",
              "      <td>0.0000</td>\n",
              "      <td>0</td>\n",
              "      <td>0</td>\n",
              "      <td>8/13/2018</td>\n",
              "    </tr>\n",
              "    <tr>\n",
              "      <th>3</th>\n",
              "      <td>RT @jayrosen_nyu: Why does skepticism about im...</td>\n",
              "      <td>0.5267</td>\n",
              "      <td>1</td>\n",
              "      <td>52</td>\n",
              "      <td>8/13/2018</td>\n",
              "    </tr>\n",
              "    <tr>\n",
              "      <th>4</th>\n",
              "      <td>RT @FranceinIreland: On 5th November we call a...</td>\n",
              "      <td>0.4939</td>\n",
              "      <td>1</td>\n",
              "      <td>16</td>\n",
              "      <td>8/13/2018</td>\n",
              "    </tr>\n",
              "  </tbody>\n",
              "</table>\n",
              "</div>\n",
              "      <button class=\"colab-df-convert\" onclick=\"convertToInteractive('df-b666ba1a-5c6f-40bc-b0a2-7eac05ba37c2')\"\n",
              "              title=\"Convert this dataframe to an interactive table.\"\n",
              "              style=\"display:none;\">\n",
              "\n",
              "  <svg xmlns=\"http://www.w3.org/2000/svg\" height=\"24px\"viewBox=\"0 0 24 24\"\n",
              "       width=\"24px\">\n",
              "    <path d=\"M0 0h24v24H0V0z\" fill=\"none\"/>\n",
              "    <path d=\"M18.56 5.44l.94 2.06.94-2.06 2.06-.94-2.06-.94-.94-2.06-.94 2.06-2.06.94zm-11 1L8.5 8.5l.94-2.06 2.06-.94-2.06-.94L8.5 2.5l-.94 2.06-2.06.94zm10 10l.94 2.06.94-2.06 2.06-.94-2.06-.94-.94-2.06-.94 2.06-2.06.94z\"/><path d=\"M17.41 7.96l-1.37-1.37c-.4-.4-.92-.59-1.43-.59-.52 0-1.04.2-1.43.59L10.3 9.45l-7.72 7.72c-.78.78-.78 2.05 0 2.83L4 21.41c.39.39.9.59 1.41.59.51 0 1.02-.2 1.41-.59l7.78-7.78 2.81-2.81c.8-.78.8-2.07 0-2.86zM5.41 20L4 18.59l7.72-7.72 1.47 1.35L5.41 20z\"/>\n",
              "  </svg>\n",
              "      </button>\n",
              "\n",
              "\n",
              "\n",
              "    <div id=\"df-335feefb-8eab-47c3-97e1-e61c24db4733\">\n",
              "      <button class=\"colab-df-quickchart\" onclick=\"quickchart('df-335feefb-8eab-47c3-97e1-e61c24db4733')\"\n",
              "              title=\"Suggest charts.\"\n",
              "              style=\"display:none;\">\n",
              "\n",
              "<svg xmlns=\"http://www.w3.org/2000/svg\" height=\"24px\"viewBox=\"0 0 24 24\"\n",
              "     width=\"24px\">\n",
              "    <g>\n",
              "        <path d=\"M19 3H5c-1.1 0-2 .9-2 2v14c0 1.1.9 2 2 2h14c1.1 0 2-.9 2-2V5c0-1.1-.9-2-2-2zM9 17H7v-7h2v7zm4 0h-2V7h2v10zm4 0h-2v-4h2v4z\"/>\n",
              "    </g>\n",
              "</svg>\n",
              "      </button>\n",
              "    </div>\n",
              "\n",
              "<style>\n",
              "  .colab-df-quickchart {\n",
              "    background-color: #E8F0FE;\n",
              "    border: none;\n",
              "    border-radius: 50%;\n",
              "    cursor: pointer;\n",
              "    display: none;\n",
              "    fill: #1967D2;\n",
              "    height: 32px;\n",
              "    padding: 0 0 0 0;\n",
              "    width: 32px;\n",
              "  }\n",
              "\n",
              "  .colab-df-quickchart:hover {\n",
              "    background-color: #E2EBFA;\n",
              "    box-shadow: 0px 1px 2px rgba(60, 64, 67, 0.3), 0px 1px 3px 1px rgba(60, 64, 67, 0.15);\n",
              "    fill: #174EA6;\n",
              "  }\n",
              "\n",
              "  [theme=dark] .colab-df-quickchart {\n",
              "    background-color: #3B4455;\n",
              "    fill: #D2E3FC;\n",
              "  }\n",
              "\n",
              "  [theme=dark] .colab-df-quickchart:hover {\n",
              "    background-color: #434B5C;\n",
              "    box-shadow: 0px 1px 3px 1px rgba(0, 0, 0, 0.15);\n",
              "    filter: drop-shadow(0px 1px 2px rgba(0, 0, 0, 0.3));\n",
              "    fill: #FFFFFF;\n",
              "  }\n",
              "</style>\n",
              "\n",
              "    <script>\n",
              "      async function quickchart(key) {\n",
              "        const containerElement = document.querySelector('#' + key);\n",
              "        const charts = await google.colab.kernel.invokeFunction(\n",
              "            'suggestCharts', [key], {});\n",
              "      }\n",
              "    </script>\n",
              "\n",
              "      <script>\n",
              "\n",
              "function displayQuickchartButton(domScope) {\n",
              "  let quickchartButtonEl =\n",
              "    domScope.querySelector('#df-335feefb-8eab-47c3-97e1-e61c24db4733 button.colab-df-quickchart');\n",
              "  quickchartButtonEl.style.display =\n",
              "    google.colab.kernel.accessAllowed ? 'block' : 'none';\n",
              "}\n",
              "\n",
              "        displayQuickchartButton(document);\n",
              "      </script>\n",
              "      <style>\n",
              "    .colab-df-container {\n",
              "      display:flex;\n",
              "      flex-wrap:wrap;\n",
              "      gap: 12px;\n",
              "    }\n",
              "\n",
              "    .colab-df-convert {\n",
              "      background-color: #E8F0FE;\n",
              "      border: none;\n",
              "      border-radius: 50%;\n",
              "      cursor: pointer;\n",
              "      display: none;\n",
              "      fill: #1967D2;\n",
              "      height: 32px;\n",
              "      padding: 0 0 0 0;\n",
              "      width: 32px;\n",
              "    }\n",
              "\n",
              "    .colab-df-convert:hover {\n",
              "      background-color: #E2EBFA;\n",
              "      box-shadow: 0px 1px 2px rgba(60, 64, 67, 0.3), 0px 1px 3px 1px rgba(60, 64, 67, 0.15);\n",
              "      fill: #174EA6;\n",
              "    }\n",
              "\n",
              "    [theme=dark] .colab-df-convert {\n",
              "      background-color: #3B4455;\n",
              "      fill: #D2E3FC;\n",
              "    }\n",
              "\n",
              "    [theme=dark] .colab-df-convert:hover {\n",
              "      background-color: #434B5C;\n",
              "      box-shadow: 0px 1px 3px 1px rgba(0, 0, 0, 0.15);\n",
              "      filter: drop-shadow(0px 1px 2px rgba(0, 0, 0, 0.3));\n",
              "      fill: #FFFFFF;\n",
              "    }\n",
              "  </style>\n",
              "\n",
              "      <script>\n",
              "        const buttonEl =\n",
              "          document.querySelector('#df-b666ba1a-5c6f-40bc-b0a2-7eac05ba37c2 button.colab-df-convert');\n",
              "        buttonEl.style.display =\n",
              "          google.colab.kernel.accessAllowed ? 'block' : 'none';\n",
              "\n",
              "        async function convertToInteractive(key) {\n",
              "          const element = document.querySelector('#df-b666ba1a-5c6f-40bc-b0a2-7eac05ba37c2');\n",
              "          const dataTable =\n",
              "            await google.colab.kernel.invokeFunction('convertToInteractive',\n",
              "                                                     [key], {});\n",
              "          if (!dataTable) return;\n",
              "\n",
              "          const docLinkHtml = 'Like what you see? Visit the ' +\n",
              "            '<a target=\"_blank\" href=https://colab.research.google.com/notebooks/data_table.ipynb>data table notebook</a>'\n",
              "            + ' to learn more about interactive tables.';\n",
              "          element.innerHTML = '';\n",
              "          dataTable['output_type'] = 'display_data';\n",
              "          await google.colab.output.renderOutput(dataTable, element);\n",
              "          const docLink = document.createElement('div');\n",
              "          docLink.innerHTML = docLinkHtml;\n",
              "          element.appendChild(docLink);\n",
              "        }\n",
              "      </script>\n",
              "    </div>\n",
              "  </div>\n"
            ]
          },
          "metadata": {},
          "execution_count": 17
        }
      ],
      "source": [
        "twitter_climate_data = twitter_climate_data[['text', 'sentiment', 'sentiment_label', 'retweet_count', 'created_at_date', ]]\n",
        "twitter_climate_data.head()"
      ]
    },
    {
      "cell_type": "code",
      "execution_count": 18,
      "id": "ffaa7025",
      "metadata": {
        "id": "ffaa7025"
      },
      "outputs": [],
      "source": [
        "tweet_list = twitter_climate_data.text.tolist()"
      ]
    },
    {
      "cell_type": "code",
      "execution_count": 19,
      "id": "9fa468ff",
      "metadata": {
        "id": "9fa468ff",
        "outputId": "5c5ab40f-0fdb-427b-afa5-7f6fa723bd78",
        "colab": {
          "base_uri": "https://localhost:8080/"
        }
      },
      "outputs": [
        {
          "output_type": "execute_result",
          "data": {
            "text/plain": [
              "163669"
            ]
          },
          "metadata": {},
          "execution_count": 19
        }
      ],
      "source": [
        "# Number of tweets related to climate change\n",
        "len(tweet_list)"
      ]
    },
    {
      "cell_type": "code",
      "execution_count": 20,
      "id": "5f8c6620",
      "metadata": {
        "id": "5f8c6620",
        "outputId": "a7810e9d-e258-4688-dd79-304eb7e9cbb5",
        "colab": {
          "base_uri": "https://localhost:8080/"
        }
      },
      "outputs": [
        {
          "output_type": "execute_result",
          "data": {
            "text/plain": [
              "162969"
            ]
          },
          "metadata": {},
          "execution_count": 20
        }
      ],
      "source": [
        "# Number of tweets on general topic\n",
        "len(twitter_df.clean_text)"
      ]
    },
    {
      "cell_type": "code",
      "execution_count": 22,
      "id": "76063fe0",
      "metadata": {
        "id": "76063fe0"
      },
      "outputs": [],
      "source": [
        "def clean_tweets(tweet):\n",
        "    # All URLs are removed\n",
        "    cleanr = re.compile('(http|https)://([\\w_-]+(?:(?:\\.[\\w_-]+)+))([\\w.,@?^=%&:/~+#-]*[\\w@?^=%&/~+#-])?')\n",
        "    tweet = re.sub(cleanr, '', tweet)\n",
        "\n",
        "    # All html tags attributes are removed using RegEx.\n",
        "    tweet = re.sub(r'/<[^<]+?>/', ' ', tweet)\n",
        "\n",
        "    #Html character codes (i.e., &...;) are replaced with an ASCII equivalent.\n",
        "    #htmlparser = HTMLParser()\n",
        "    #tweet = htmlparser.unescape(tweet)\n",
        "    tweet = html.unescape(tweet)\n",
        "\n",
        "    # remove Emojis, symbols, pictures, etc.\n",
        "    regrex_pattern = re.compile(pattern = \"[\"\n",
        "        u\"\\U0001F600-\\U0001F64F\"\n",
        "        u\"\\U0001F300-\\U0001F5FF\"\n",
        "        u\"\\U0001F680-\\U0001F6FF\"\n",
        "        u\"\\U0001F1E0-\\U0001F1FF\"\n",
        "        u\"\\U00002702-\\U000027B0\"\n",
        "        u\"\\U000024C2-\\U0001F251\"\n",
        "                               \"]+\", flags = re.UNICODE)\n",
        "    tweet = regrex_pattern.sub(r'',tweet)\n",
        "\n",
        "    # All characters in the text are in lowercase.\n",
        "    tweet = tweet.lower()\n",
        "\n",
        "    #remove all punctuations\n",
        "    tweet=tweet.translate(str.maketrans(\"\",\"\",string.punctuation))\n",
        "    tweet=tweet.translate(str.maketrans(\"\",\"\",string.digits))\n",
        "\n",
        "    # Remove stop words. First, modify the stop words list by removing the negation words.\n",
        "    to_remove = ['no', 'nor', 'not', 'ain', 'aren', \"aren't\", 'couldn', \"couldn't\", 'didn', \"didn't\", 'doesn', \"doesn't\", 'isn', \"isn't\", 'wasn', \"wasn't\", 'weren', \"weren't\",\n",
        "                \"won't\", 'wouldn', \"wouldn't\"]\n",
        "    stop_words = set(stopwords.words('english')).difference(to_remove) # remove the negation words from the stop words list.\n",
        "\n",
        "    to_add = {'rt', 'h', 'ht','htt','http','https','https:','https://', '…'}\n",
        "    stop_words = stop_words.union(to_add)  # include other unimport characters in the stop words list.\n",
        "\n",
        "    word_tokens = word_tokenize(tweet) # tokenize the tweets\n",
        "    filtered_sentence = [w for w in word_tokens if w not in stop_words] # filter the sentence to remove stop words.\n",
        "\n",
        "    return filtered_sentence"
      ]
    },
    {
      "cell_type": "code",
      "execution_count": 23,
      "id": "7b27692f",
      "metadata": {
        "id": "7b27692f"
      },
      "outputs": [],
      "source": [
        "# clean both generic and elections tweets\n",
        "cleaned_tweets = []\n",
        "\n",
        "for tw in tweet_list:\n",
        "    cleaned_tweets.append(clean_tweets(tw))"
      ]
    },
    {
      "cell_type": "code",
      "execution_count": 24,
      "id": "032a1e79",
      "metadata": {
        "id": "032a1e79"
      },
      "outputs": [],
      "source": [
        "# add the cleaned tweets as a new column to the dataset and drop the original text column\n",
        "twitter_climate_data['cleaned_tweet_tokenized'] = cleaned_tweets"
      ]
    },
    {
      "cell_type": "code",
      "execution_count": 25,
      "id": "82313a34",
      "metadata": {
        "id": "82313a34"
      },
      "outputs": [],
      "source": [
        "# add a column 'cleaned_tweet' that has the detokenized texts.\n",
        "detokenize_sent_analysis = []\n",
        "for tweet in twitter_climate_data['cleaned_tweet_tokenized']:\n",
        "    detokenize_sent_analysis.append(TreebankWordDetokenizer().detokenize(tweet))\n",
        "twitter_climate_data['cleaned_tweet'] = detokenize_sent_analysis"
      ]
    },
    {
      "cell_type": "code",
      "execution_count": 26,
      "id": "ecc56359",
      "metadata": {
        "id": "ecc56359",
        "outputId": "d92c5c76-17a4-4310-8f39-0163f7d8b2e4",
        "colab": {
          "base_uri": "https://localhost:8080/",
          "height": 423
        }
      },
      "outputs": [
        {
          "output_type": "execute_result",
          "data": {
            "text/plain": [
              "                                            cleaned_tweet  \\\n",
              "0                                        gotta love facts   \n",
              "1       toolangiforest great day action message “ dear...   \n",
              "2       jonkudelka harvey norman reckons climate chang...   \n",
              "3       jayrosennyu skepticism immigration walk hand h...   \n",
              "4       franceinireland th november call creative citi...   \n",
              "...                                                   ...   \n",
              "163664  rrn epa cancels talk climate change agency sci...   \n",
              "163665  time epa pulled scientists climate change conf...   \n",
              "163666         cathmckenna must take action climatechange   \n",
              "163667  time epa pulled scientists climate change conf...   \n",
              "163668  realjameswoods guarantee mainstream media outl...   \n",
              "\n",
              "                                  cleaned_tweet_tokenized  sentiment  \\\n",
              "0                                  [got, ta, love, facts]     0.6369   \n",
              "1       [toolangiforest, great, day, action, message, ...     0.8805   \n",
              "2       [jonkudelka, harvey, norman, reckons, climate,...     0.0000   \n",
              "3       [jayrosennyu, skepticism, immigration, walk, h...     0.5267   \n",
              "4       [franceinireland, th, november, call, creative...     0.4939   \n",
              "...                                                   ...        ...   \n",
              "163664  [rrn, epa, cancels, talk, climate, change, age...    -0.2263   \n",
              "163665  [time, epa, pulled, scientists, climate, chang...     0.0000   \n",
              "163666   [cathmckenna, must, take, action, climatechange]     0.0000   \n",
              "163667  [time, epa, pulled, scientists, climate, chang...     0.0000   \n",
              "163668  [realjameswoods, guarantee, mainstream, media,...     0.2500   \n",
              "\n",
              "       sentiment_label created_at_date  retweet_count  \n",
              "0                    1       8/13/2018              0  \n",
              "1                    1       8/13/2018             35  \n",
              "2                    0       8/13/2018              0  \n",
              "3                    1       8/13/2018             52  \n",
              "4                    1       8/13/2018             16  \n",
              "...                ...             ...            ...  \n",
              "163664              -1      10/23/2017              0  \n",
              "163665               0      10/23/2017             78  \n",
              "163666               0      10/23/2017             21  \n",
              "163667               0      10/23/2017            125  \n",
              "163668               1      10/23/2017           2430  \n",
              "\n",
              "[163669 rows x 6 columns]"
            ],
            "text/html": [
              "\n",
              "\n",
              "  <div id=\"df-2375e8be-0904-460d-9025-91f8bb259953\">\n",
              "    <div class=\"colab-df-container\">\n",
              "      <div>\n",
              "<style scoped>\n",
              "    .dataframe tbody tr th:only-of-type {\n",
              "        vertical-align: middle;\n",
              "    }\n",
              "\n",
              "    .dataframe tbody tr th {\n",
              "        vertical-align: top;\n",
              "    }\n",
              "\n",
              "    .dataframe thead th {\n",
              "        text-align: right;\n",
              "    }\n",
              "</style>\n",
              "<table border=\"1\" class=\"dataframe\">\n",
              "  <thead>\n",
              "    <tr style=\"text-align: right;\">\n",
              "      <th></th>\n",
              "      <th>cleaned_tweet</th>\n",
              "      <th>cleaned_tweet_tokenized</th>\n",
              "      <th>sentiment</th>\n",
              "      <th>sentiment_label</th>\n",
              "      <th>created_at_date</th>\n",
              "      <th>retweet_count</th>\n",
              "    </tr>\n",
              "  </thead>\n",
              "  <tbody>\n",
              "    <tr>\n",
              "      <th>0</th>\n",
              "      <td>gotta love facts</td>\n",
              "      <td>[got, ta, love, facts]</td>\n",
              "      <td>0.6369</td>\n",
              "      <td>1</td>\n",
              "      <td>8/13/2018</td>\n",
              "      <td>0</td>\n",
              "    </tr>\n",
              "    <tr>\n",
              "      <th>1</th>\n",
              "      <td>toolangiforest great day action message “ dear...</td>\n",
              "      <td>[toolangiforest, great, day, action, message, ...</td>\n",
              "      <td>0.8805</td>\n",
              "      <td>1</td>\n",
              "      <td>8/13/2018</td>\n",
              "      <td>35</td>\n",
              "    </tr>\n",
              "    <tr>\n",
              "      <th>2</th>\n",
              "      <td>jonkudelka harvey norman reckons climate chang...</td>\n",
              "      <td>[jonkudelka, harvey, norman, reckons, climate,...</td>\n",
              "      <td>0.0000</td>\n",
              "      <td>0</td>\n",
              "      <td>8/13/2018</td>\n",
              "      <td>0</td>\n",
              "    </tr>\n",
              "    <tr>\n",
              "      <th>3</th>\n",
              "      <td>jayrosennyu skepticism immigration walk hand h...</td>\n",
              "      <td>[jayrosennyu, skepticism, immigration, walk, h...</td>\n",
              "      <td>0.5267</td>\n",
              "      <td>1</td>\n",
              "      <td>8/13/2018</td>\n",
              "      <td>52</td>\n",
              "    </tr>\n",
              "    <tr>\n",
              "      <th>4</th>\n",
              "      <td>franceinireland th november call creative citi...</td>\n",
              "      <td>[franceinireland, th, november, call, creative...</td>\n",
              "      <td>0.4939</td>\n",
              "      <td>1</td>\n",
              "      <td>8/13/2018</td>\n",
              "      <td>16</td>\n",
              "    </tr>\n",
              "    <tr>\n",
              "      <th>...</th>\n",
              "      <td>...</td>\n",
              "      <td>...</td>\n",
              "      <td>...</td>\n",
              "      <td>...</td>\n",
              "      <td>...</td>\n",
              "      <td>...</td>\n",
              "    </tr>\n",
              "    <tr>\n",
              "      <th>163664</th>\n",
              "      <td>rrn epa cancels talk climate change agency sci...</td>\n",
              "      <td>[rrn, epa, cancels, talk, climate, change, age...</td>\n",
              "      <td>-0.2263</td>\n",
              "      <td>-1</td>\n",
              "      <td>10/23/2017</td>\n",
              "      <td>0</td>\n",
              "    </tr>\n",
              "    <tr>\n",
              "      <th>163665</th>\n",
              "      <td>time epa pulled scientists climate change conf...</td>\n",
              "      <td>[time, epa, pulled, scientists, climate, chang...</td>\n",
              "      <td>0.0000</td>\n",
              "      <td>0</td>\n",
              "      <td>10/23/2017</td>\n",
              "      <td>78</td>\n",
              "    </tr>\n",
              "    <tr>\n",
              "      <th>163666</th>\n",
              "      <td>cathmckenna must take action climatechange</td>\n",
              "      <td>[cathmckenna, must, take, action, climatechange]</td>\n",
              "      <td>0.0000</td>\n",
              "      <td>0</td>\n",
              "      <td>10/23/2017</td>\n",
              "      <td>21</td>\n",
              "    </tr>\n",
              "    <tr>\n",
              "      <th>163667</th>\n",
              "      <td>time epa pulled scientists climate change conf...</td>\n",
              "      <td>[time, epa, pulled, scientists, climate, chang...</td>\n",
              "      <td>0.0000</td>\n",
              "      <td>0</td>\n",
              "      <td>10/23/2017</td>\n",
              "      <td>125</td>\n",
              "    </tr>\n",
              "    <tr>\n",
              "      <th>163668</th>\n",
              "      <td>realjameswoods guarantee mainstream media outl...</td>\n",
              "      <td>[realjameswoods, guarantee, mainstream, media,...</td>\n",
              "      <td>0.2500</td>\n",
              "      <td>1</td>\n",
              "      <td>10/23/2017</td>\n",
              "      <td>2430</td>\n",
              "    </tr>\n",
              "  </tbody>\n",
              "</table>\n",
              "<p>163669 rows × 6 columns</p>\n",
              "</div>\n",
              "      <button class=\"colab-df-convert\" onclick=\"convertToInteractive('df-2375e8be-0904-460d-9025-91f8bb259953')\"\n",
              "              title=\"Convert this dataframe to an interactive table.\"\n",
              "              style=\"display:none;\">\n",
              "\n",
              "  <svg xmlns=\"http://www.w3.org/2000/svg\" height=\"24px\"viewBox=\"0 0 24 24\"\n",
              "       width=\"24px\">\n",
              "    <path d=\"M0 0h24v24H0V0z\" fill=\"none\"/>\n",
              "    <path d=\"M18.56 5.44l.94 2.06.94-2.06 2.06-.94-2.06-.94-.94-2.06-.94 2.06-2.06.94zm-11 1L8.5 8.5l.94-2.06 2.06-.94-2.06-.94L8.5 2.5l-.94 2.06-2.06.94zm10 10l.94 2.06.94-2.06 2.06-.94-2.06-.94-.94-2.06-.94 2.06-2.06.94z\"/><path d=\"M17.41 7.96l-1.37-1.37c-.4-.4-.92-.59-1.43-.59-.52 0-1.04.2-1.43.59L10.3 9.45l-7.72 7.72c-.78.78-.78 2.05 0 2.83L4 21.41c.39.39.9.59 1.41.59.51 0 1.02-.2 1.41-.59l7.78-7.78 2.81-2.81c.8-.78.8-2.07 0-2.86zM5.41 20L4 18.59l7.72-7.72 1.47 1.35L5.41 20z\"/>\n",
              "  </svg>\n",
              "      </button>\n",
              "\n",
              "\n",
              "\n",
              "    <div id=\"df-716d4842-b4d1-4fa3-887d-1b1a7c100b2b\">\n",
              "      <button class=\"colab-df-quickchart\" onclick=\"quickchart('df-716d4842-b4d1-4fa3-887d-1b1a7c100b2b')\"\n",
              "              title=\"Suggest charts.\"\n",
              "              style=\"display:none;\">\n",
              "\n",
              "<svg xmlns=\"http://www.w3.org/2000/svg\" height=\"24px\"viewBox=\"0 0 24 24\"\n",
              "     width=\"24px\">\n",
              "    <g>\n",
              "        <path d=\"M19 3H5c-1.1 0-2 .9-2 2v14c0 1.1.9 2 2 2h14c1.1 0 2-.9 2-2V5c0-1.1-.9-2-2-2zM9 17H7v-7h2v7zm4 0h-2V7h2v10zm4 0h-2v-4h2v4z\"/>\n",
              "    </g>\n",
              "</svg>\n",
              "      </button>\n",
              "    </div>\n",
              "\n",
              "<style>\n",
              "  .colab-df-quickchart {\n",
              "    background-color: #E8F0FE;\n",
              "    border: none;\n",
              "    border-radius: 50%;\n",
              "    cursor: pointer;\n",
              "    display: none;\n",
              "    fill: #1967D2;\n",
              "    height: 32px;\n",
              "    padding: 0 0 0 0;\n",
              "    width: 32px;\n",
              "  }\n",
              "\n",
              "  .colab-df-quickchart:hover {\n",
              "    background-color: #E2EBFA;\n",
              "    box-shadow: 0px 1px 2px rgba(60, 64, 67, 0.3), 0px 1px 3px 1px rgba(60, 64, 67, 0.15);\n",
              "    fill: #174EA6;\n",
              "  }\n",
              "\n",
              "  [theme=dark] .colab-df-quickchart {\n",
              "    background-color: #3B4455;\n",
              "    fill: #D2E3FC;\n",
              "  }\n",
              "\n",
              "  [theme=dark] .colab-df-quickchart:hover {\n",
              "    background-color: #434B5C;\n",
              "    box-shadow: 0px 1px 3px 1px rgba(0, 0, 0, 0.15);\n",
              "    filter: drop-shadow(0px 1px 2px rgba(0, 0, 0, 0.3));\n",
              "    fill: #FFFFFF;\n",
              "  }\n",
              "</style>\n",
              "\n",
              "    <script>\n",
              "      async function quickchart(key) {\n",
              "        const containerElement = document.querySelector('#' + key);\n",
              "        const charts = await google.colab.kernel.invokeFunction(\n",
              "            'suggestCharts', [key], {});\n",
              "      }\n",
              "    </script>\n",
              "\n",
              "      <script>\n",
              "\n",
              "function displayQuickchartButton(domScope) {\n",
              "  let quickchartButtonEl =\n",
              "    domScope.querySelector('#df-716d4842-b4d1-4fa3-887d-1b1a7c100b2b button.colab-df-quickchart');\n",
              "  quickchartButtonEl.style.display =\n",
              "    google.colab.kernel.accessAllowed ? 'block' : 'none';\n",
              "}\n",
              "\n",
              "        displayQuickchartButton(document);\n",
              "      </script>\n",
              "      <style>\n",
              "    .colab-df-container {\n",
              "      display:flex;\n",
              "      flex-wrap:wrap;\n",
              "      gap: 12px;\n",
              "    }\n",
              "\n",
              "    .colab-df-convert {\n",
              "      background-color: #E8F0FE;\n",
              "      border: none;\n",
              "      border-radius: 50%;\n",
              "      cursor: pointer;\n",
              "      display: none;\n",
              "      fill: #1967D2;\n",
              "      height: 32px;\n",
              "      padding: 0 0 0 0;\n",
              "      width: 32px;\n",
              "    }\n",
              "\n",
              "    .colab-df-convert:hover {\n",
              "      background-color: #E2EBFA;\n",
              "      box-shadow: 0px 1px 2px rgba(60, 64, 67, 0.3), 0px 1px 3px 1px rgba(60, 64, 67, 0.15);\n",
              "      fill: #174EA6;\n",
              "    }\n",
              "\n",
              "    [theme=dark] .colab-df-convert {\n",
              "      background-color: #3B4455;\n",
              "      fill: #D2E3FC;\n",
              "    }\n",
              "\n",
              "    [theme=dark] .colab-df-convert:hover {\n",
              "      background-color: #434B5C;\n",
              "      box-shadow: 0px 1px 3px 1px rgba(0, 0, 0, 0.15);\n",
              "      filter: drop-shadow(0px 1px 2px rgba(0, 0, 0, 0.3));\n",
              "      fill: #FFFFFF;\n",
              "    }\n",
              "  </style>\n",
              "\n",
              "      <script>\n",
              "        const buttonEl =\n",
              "          document.querySelector('#df-2375e8be-0904-460d-9025-91f8bb259953 button.colab-df-convert');\n",
              "        buttonEl.style.display =\n",
              "          google.colab.kernel.accessAllowed ? 'block' : 'none';\n",
              "\n",
              "        async function convertToInteractive(key) {\n",
              "          const element = document.querySelector('#df-2375e8be-0904-460d-9025-91f8bb259953');\n",
              "          const dataTable =\n",
              "            await google.colab.kernel.invokeFunction('convertToInteractive',\n",
              "                                                     [key], {});\n",
              "          if (!dataTable) return;\n",
              "\n",
              "          const docLinkHtml = 'Like what you see? Visit the ' +\n",
              "            '<a target=\"_blank\" href=https://colab.research.google.com/notebooks/data_table.ipynb>data table notebook</a>'\n",
              "            + ' to learn more about interactive tables.';\n",
              "          element.innerHTML = '';\n",
              "          dataTable['output_type'] = 'display_data';\n",
              "          await google.colab.output.renderOutput(dataTable, element);\n",
              "          const docLink = document.createElement('div');\n",
              "          docLink.innerHTML = docLinkHtml;\n",
              "          element.appendChild(docLink);\n",
              "        }\n",
              "      </script>\n",
              "    </div>\n",
              "  </div>\n"
            ]
          },
          "metadata": {},
          "execution_count": 26
        }
      ],
      "source": [
        "twitter_climate_data = twitter_climate_data[['cleaned_tweet', 'cleaned_tweet_tokenized', 'sentiment', 'sentiment_label', 'created_at_date', 'retweet_count']]\n",
        "twitter_climate_data"
      ]
    },
    {
      "cell_type": "markdown",
      "id": "407b344b",
      "metadata": {
        "id": "407b344b"
      },
      "source": [
        "# Identify sentiment related to ecological and economical words"
      ]
    },
    {
      "cell_type": "code",
      "execution_count": 27,
      "id": "836e3b27",
      "metadata": {
        "id": "836e3b27"
      },
      "outputs": [],
      "source": [
        "def determine_sentiment(df):\n",
        "\n",
        "    # Relevant words in the tweets that identify to both ecological or economical topics\n",
        "    relevant_words = '.*co2.*|.*fuel.*|.*coal.*|.*fossil.*|.*gas.*|.*natural gas.*|.*petrol.*'\n",
        "\n",
        "    # Create new columns: ecological, economical, and Others\n",
        "    df['relevant_words'] = ''\n",
        "    df['Others'] = ''\n",
        "\n",
        "    for i in df.index:\n",
        "        if re.match (relevant_words, df['cleaned_tweet'][i]) :\n",
        "            if df['sentiment_label'][i] == '1': # if the sentiment is positive, add 'positive'\n",
        "                df[\"relevant_words\"][i] = 'positive'\n",
        "            elif df['sentiment_label'][i] == '0': # if the sentiment is neutral\n",
        "                df[\"relevant_words\"][i] = 'neutral'\n",
        "            else :\n",
        "                df[\"relevant_words\"][i] = 'negative' # if the sentiment is negative, add 'negative'relevant_words"
      ]
    },
    {
      "cell_type": "code",
      "execution_count": null,
      "id": "43e1b60d",
      "metadata": {
        "id": "43e1b60d"
      },
      "outputs": [],
      "source": [
        "# Apply this function to the twitter dataset.\n",
        "determine_sentiment(twitter_climate_data)"
      ]
    },
    {
      "cell_type": "code",
      "execution_count": 29,
      "id": "b0b5b2f5",
      "metadata": {
        "id": "b0b5b2f5",
        "outputId": "1aac9ed8-7908-46b2-bb0e-6970b856c04c",
        "colab": {
          "base_uri": "https://localhost:8080/"
        }
      },
      "outputs": [
        {
          "output_type": "stream",
          "name": "stdout",
          "text": [
            "Positive sentiments about the ecological effects of climate change:  2171\n",
            "Negative sentiment about the ecological effects of climate change:  3133\n",
            "Neutral sentiment about the ecological effects of climate change:  1798\n"
          ]
        }
      ],
      "source": [
        "# Separate the dataset into positive and negative for each parties. These variables will also be used later in the analysis\n",
        "both_positive = twitter_climate_data[twitter_climate_data.relevant_words == 'positive']\n",
        "both_negative = twitter_climate_data[twitter_climate_data.relevant_words == 'negative']\n",
        "both_neutral = twitter_climate_data[twitter_climate_data.relevant_words == 'neutral']\n",
        "\n",
        "# Print the number of positive and negative sentiments of each party.\n",
        "print(\"Positive sentiments about the ecological effects of climate change: \", both_positive.relevant_words.count())\n",
        "print(\"Negative sentiment about the ecological effects of climate change: \", both_negative.relevant_words.count())\n",
        "print(\"Neutral sentiment about the ecological effects of climate change: \", both_neutral.relevant_words.count())"
      ]
    },
    {
      "cell_type": "code",
      "execution_count": 30,
      "id": "bd94ab26",
      "metadata": {
        "id": "bd94ab26",
        "outputId": "f224ee4d-593d-40a1-e298-8f43819e5f9f",
        "colab": {
          "base_uri": "https://localhost:8080/",
          "height": 589
        }
      },
      "outputs": [
        {
          "output_type": "execute_result",
          "data": {
            "text/plain": [
              "([<matplotlib.axis.XTick at 0x7f1361a0cbb0>,\n",
              "  <matplotlib.axis.XTick at 0x7f1361a0cb80>,\n",
              "  <matplotlib.axis.XTick at 0x7f136185c820>],\n",
              " [Text(0, 0, 'Negative'), Text(1, 0, 'Positive'), Text(2, 0, 'Neutral')])"
            ]
          },
          "metadata": {},
          "execution_count": 30
        },
        {
          "output_type": "display_data",
          "data": {
            "text/plain": [
              "<Figure size 640x480 with 1 Axes>"
            ]},
          "metadata": {}
        }
      ],
      "source": [
        "# Show the distribution of sentiments for all climate tweet data\n",
        "twitter_climate_data.sentiment_label.value_counts().plot(kind='bar', color=['r', 'g', 'y'])\n",
        "plt.xlabel('Sentiment')\n",
        "plt.ylabel('Number of tweets')\n",
        "plt.title('Distribution of sentiments for all climate tweets')\n",
        "plt.xticks([0, 1, 2], ['Negative', 'Positive', 'Neutral'])"
      ]
    },
    {
      "cell_type": "code",
      "execution_count": 31,
      "id": "92ec5c0d",
      "metadata": {
        "id": "92ec5c0d",
        "outputId": "843744c6-7620-40c3-bb9c-ec14e73cfde4",
        "colab": {
          "base_uri": "https://localhost:8080/",
          "height": 487
        }
      },
      "outputs": [
        {
          "output_type": "display_data",
          "data": {
            "text/plain": [
              "<Figure size 640x480 with 1 Axes>"
            ]},
          "metadata": {}
        }
      ],
      "source": [
        "# Data to plot\n",
        "n_groups = 1\n",
        "positive = (2171) # (number of positive Ecological tweets, number of positive Economical tweets)\n",
        "negative = (3133) # (number of negative Ecological tweets, number of negative Economical tweets)\n",
        "neutral = (1798)\n",
        "\n",
        "# Create plot\n",
        "fig, ax = plt.subplots()\n",
        "index = np.arange(n_groups)\n",
        "bar_width = 0.2\n",
        "opacity = 0.8\n",
        "\n",
        "bar1 = plt.bar(index, positive, bar_width, alpha=opacity, color='g', label='Positive tweets')\n",
        "bar2 = plt.bar(index + bar_width, neutral, bar_width, alpha=opacity, color='y', label='Neutral tweets')\n",
        "bar3 = plt.bar(index + bar_width*2, negative, bar_width, alpha=opacity, color='r', label='Negative tweets')\n",
        "\n",
        "plt.xlabel('Topic')\n",
        "plt.ylabel('Number of tweets')\n",
        "plt.title('Distribution of positive and negative tweets for words related to both ecological and economical')\n",
        "plt.legend()\n",
        "\n",
        "plt.tight_layout()\n",
        "plt.show()"
      ]
    },
    {
      "cell_type": "code",
      "execution_count": 32,
      "id": "2031d89b",
      "metadata": {
        "id": "2031d89b"
      },
      "outputs": [],
      "source": [
        "def determine_sentiment(df):\n",
        "\n",
        "    # Relevant words in the tweets that identify to certain ecological or economical topic\n",
        "    ecological_words = '.*co2.*|.*carbon.*|.*emissions.*|.*emission.*|.*disaster.*|.*weather.*|.*flood.*|.*storm.*|.*water.*|drought.*|.*sea.*|.*energy.*|.*arctic.*|.*heat.*|.*heat wave.*|.*climate change.*|.*climate action.*|.*coal.*|.*environment.*|.*fossil.*|.*wildfire.*|.*ice.*|.*hot.*|.*solar.*|.*pollution.*|.*cold.*|.*temperature.*|.*greenhouse.*|.*afforestation.*|.*ocean.*|.*forest.*|.*extinction.*|.*species.*|.*scientist.*|.*agriculture.*|.*manufacture.*|.*renewable.*'\n",
        "    economical_words = '.*gdp.*|.*policy.*|.*job.*|.*law.*|.*trump.*|.*president.*|.*cop.*|.*government.*|.*tax.*|.*work.*|.*public.*|.*administration.*|.*bill.*|.*money.*|.*economy.*|.*movement.*|.*debate.*|.*capitalism.*|.*fighting.*|.*humanity.*|.*political.*|.*minister.*|.*conference.*|.*politics.*|.*economic.*'\n",
        "    # Create three new columns: ecological, economical, and Others\n",
        "    df['Ecological'] = ''\n",
        "    df['Economical'] = ''\n",
        "    df['Others'] = ''\n",
        "\n",
        "    for i in df.index:\n",
        "        if re.match (ecological_words, df['cleaned_tweet'][i]) :\n",
        "            if df['sentiment_label'][i] == '1': # if the sentiment is positive, add 'positive'\n",
        "                df[\"Ecological\"][i] = 'positive'\n",
        "            elif df['sentiment_label'][i] == '0': # if the sentiment is neutral\n",
        "                df[\"Ecological\"][i] = 'neutral'\n",
        "            else :\n",
        "                df[\"Ecological\"][i] = 'negative' # if the sentiment is negative, add 'negative'\n",
        "\n",
        "        if re.match (economical_words, df['cleaned_tweet'][i]) :\n",
        "            if df['sentiment_label'][i] == '1': # if the sentiment is positive, add 'positive'\n",
        "                df[\"Economical\"][i] = 'positive'\n",
        "            elif df['sentiment_label'][i] == '0': # if the sentiment is neutral\n",
        "                df[\"Economical\"][i] = 'neutral'\n",
        "            else :\n",
        "                df[\"Economical\"][i] = 'negative' # if the sentiment is negative, add 'negative'\n",
        "\n",
        "        if df[\"Ecological\"][i] == '' and df[\"Economical\"][i] == '':\n",
        "            if df['sentiment_label'][i] == '1': # if the sentiment is positive, add 'positive'\n",
        "                df[\"Others\"][i] = 'positive'\n",
        "            elif df['sentiment_label'][i] == '0': # if the sentiment is neutral\n",
        "                df[\"Others\"][i] = 'neutral'\n",
        "            else :\n",
        "                df[\"Others\"][i] = 'negative' # if the sentiment is negative, add 'negative'"
      ]
    },
    {
      "cell_type": "code",
      "execution_count": null,
      "id": "fab8659e",
      "metadata": {
        "id": "fab8659e"
      },
      "outputs": [],
      "source": [
        "# Apply this function to the twitter dataset.\n",
        "determine_sentiment(twitter_climate_data)"
      ]
    },
    {
      "cell_type": "code",
      "execution_count": 34,
      "id": "b5279b74",
      "metadata": {
        "id": "b5279b74",
        "outputId": "13151d5b-dab8-4e83-906d-52b4ba5aaf8c",
        "colab": {
          "base_uri": "https://localhost:8080/"
        }
      },
      "outputs": [
        {
          "output_type": "stream",
          "name": "stdout",
          "text": [
            "Positive sentiments about the ecological effects of climate change:  31064\n",
            "Negative sentiment about the ecological effects of climate change:  38372\n",
            "Neutral sentiment about the ecological effects of climate change:  26523\n",
            "Positive sentiment about the economical effects of climate change:  12389\n",
            "Negative sentiment about the economical effects of climate change:  15388\n",
            "Neutral sentiment about the economical effects of climate change:  12526\n"
          ]
        }
      ],
      "source": [
        "# Separate the dataset into positive and negative for each parties. These variables will also be used later in the analysis\n",
        "ecological_positive = twitter_climate_data[twitter_climate_data.Ecological == 'positive']\n",
        "economical_positive = twitter_climate_data[twitter_climate_data.Economical == 'positive']\n",
        "ecological_negative = twitter_climate_data[twitter_climate_data.Ecological == 'negative']\n",
        "economical_negative = twitter_climate_data[twitter_climate_data.Economical == 'negative']\n",
        "ecological_neutral = twitter_climate_data[twitter_climate_data.Ecological == 'neutral']\n",
        "economical_neutral = twitter_climate_data[twitter_climate_data.Economical == 'neutral']\n",
        "\n",
        "# Print the number of positive and negative sentiments of each party.\n",
        "print(\"Positive sentiments about the ecological effects of climate change: \", ecological_positive.Ecological.count())\n",
        "print(\"Negative sentiment about the ecological effects of climate change: \", ecological_negative.Ecological.count())\n",
        "print(\"Neutral sentiment about the ecological effects of climate change: \", ecological_neutral.Economical.count())\n",
        "print(\"Positive sentiment about the economical effects of climate change: \", economical_positive.Economical.count())\n",
        "print(\"Negative sentiment about the economical effects of climate change: \", economical_negative.Economical.count())\n",
        "print(\"Neutral sentiment about the economical effects of climate change: \", economical_neutral.Economical.count())"
      ]
    },
    {
      "cell_type": "code",
      "execution_count": 35,
      "id": "7b762115",
      "metadata": {
        "id": "7b762115",
        "outputId": "335ba08d-d504-419c-b215-5cc08146c299",
        "colab": {
          "base_uri": "https://localhost:8080/",
          "height": 487
        }
      },
      "outputs": [
        {
          "output_type": "display_data",
          "data": {
            "text/plain": [
              "<Figure size 640x480 with 1 Axes>"
            ]},
          "metadata": {}
        }
      ],
      "source": [
        "# Data to plot\n",
        "n_groups = 2\n",
        "positive = (31064, 12389) # (number of positive Ecological tweets, number of positive Economical tweets)\n",
        "negative = (38372, 15388) # (number of negative Ecological tweets, number of negative Economical tweets)\n",
        "neutral = (26523,12526) # (number of neutral Ecological tweets, number of neutral Economical tweets)\n",
        "\n",
        "# Create plot\n",
        "fig, ax = plt.subplots()\n",
        "index = np.arange(n_groups)\n",
        "bar_width = 0.2\n",
        "opacity = 0.8\n",
        "\n",
        "bar1 = plt.bar(index, positive, bar_width, alpha=opacity, color='g', label='Positive tweets')\n",
        "bar2 = plt.bar(index + bar_width, neutral, bar_width, alpha=opacity, color='y', label='Neutral tweets')\n",
        "bar3 = plt.bar(index + bar_width*2, negative, bar_width, alpha=opacity, color='r', label='Negative tweets')\n",
        "\n",
        "\n",
        "plt.xlabel('Topic')\n",
        "plt.ylabel('Number of tweets')\n",
        "plt.title('Distribution of positive and negative tweets')\n",
        "plt.xticks(index + bar_width, ('Ecological', 'Economical'))\n",
        "plt.legend()\n",
        "\n",
        "plt.tight_layout()\n",
        "plt.show()"
      ]
    },
    {
      "cell_type": "markdown",
      "id": "c3a80a9c",
      "metadata": {
        "id": "c3a80a9c"
      },
      "source": [
        "From this visual we see that we have almost double the amount of Negative sentiment tweets than Neutral and Positive tweets, for both the Ecological and Economical category for 2017-2019. It can be assumed that both the Ecological and Economical aspects of climate change have a negative sentiment affiliated with it, and rightfully so! Climate change needs action!"
      ]
    },
    {
      "cell_type": "code",
      "execution_count": 36,
      "id": "7517dc65",
      "metadata": {
        "id": "7517dc65",
        "outputId": "23ee57a7-f2b4-4a81-d587-3cfc338ba1f0",
        "colab": {
          "base_uri": "https://localhost:8080/",
          "height": 356
        }
      },
      "outputs": [
        {
          "output_type": "display_data",
          "data": {
            "text/plain": [
              "<Figure size 640x480 with 1 Axes>"
            ]},
          "metadata": {}
        }
      ],
      "source": [
        "# combine all the tweets into one string\n",
        "combined_sent = ''\n",
        "for tweet in twitter_climate_data['cleaned_tweet']:\n",
        "    combined_sent = combined_sent + '' + tweet\n",
        "\n",
        "# Generate the word cloud\n",
        "cloud_sent = WordCloud(width=5000, height=3000, stopwords={'ht', 'htt', 'http', 'https', 'httpst'}).generate(combined_sent)\n",
        "\n",
        "# Display the word cloud\n",
        "plt.imshow(cloud_sent, interpolation='bilinear')\n",
        "plt.axis('off')\n",
        "plt.title('Word cloud of tweets')\n",
        "plt.show()"
      ]
    },
    {
      "cell_type": "markdown",
      "id": "5cb00ae4",
      "metadata": {
        "id": "5cb00ae4"
      },
      "source": [
        "In this exploratory section, we also want to see what sorts of words are used most frequently in the public's tweets. Climate change and global warming will obviously be the most common. There are also other relevant words such as fossil fuel, wildfires, change, healthcare, deals (probably regarding policy changes), and names of various important political figures."
      ]
    },
    {
      "cell_type": "markdown",
      "id": "c7ddebd9",
      "metadata": {
        "id": "c7ddebd9"
      },
      "source": [
        "# Model preparation"
      ]
    },
    {
      "cell_type": "markdown",
      "id": "801f1ce9",
      "metadata": {
        "id": "801f1ce9"
      },
      "source": [
        "We apply Bag of Words (BOW) and term frequency–inverse document frequency (TF-IDF) to the general topic twitter dataset, and run various machine learning models to compare the accuracy of sentiment prediction. We select the model with the highest accuracy and apply the model to the climate change dataset, in order to predict the sentiment of climate change related data."
      ]
    },
    {
      "cell_type": "markdown",
      "id": "74e98c75",
      "metadata": {
        "id": "74e98c75"
      },
      "source": [
        "### Create Bag of Words features"
      ]
    },
    {
      "cell_type": "code",
      "execution_count": 37,
      "id": "cd76c0d4",
      "metadata": {
        "id": "cd76c0d4",
        "outputId": "e140af11-1bdb-45ce-ba4e-720ba58ff2d1",
        "colab": {
          "base_uri": "https://localhost:8080/",
          "height": 235
        }
      },
      "outputs": [
        {
          "output_type": "execute_result",
          "data": {
            "text/plain": [
              "   100  1000  130  1st  200  2000  2002  2004  2012  2013  ...  your own  \\\n",
              "0    0     0    0    0    0     0     0     0     0     0  ...         0   \n",
              "1    0     0    0    0    0     0     0     0     0     0  ...         0   \n",
              "2    0     0    0    0    0     0     0     0     0     0  ...         0   \n",
              "3    0     0    0    0    0     0     0     0     0     0  ...         0   \n",
              "4    0     0    0    0    0     0     0     0     0     0  ...         0   \n",
              "\n",
              "   your party  youre  yours  yourself  youth  youtube  yrs  zero  शबच  \n",
              "0           0      0      0         0      0        0    0     0    0  \n",
              "1           0      0      0         0      0        0    0     0    0  \n",
              "2           0      0      0         0      0        0    0     0    0  \n",
              "3           0      0      0         0      0        0    0     0    0  \n",
              "4           0      0      0         0      0        0    0     0    0  \n",
              "\n",
              "[5 rows x 3000 columns]"
            ],
            "text/html": [
              "\n",
              "\n",
              "  <div id=\"df-8f404077-49c8-43c7-b265-c1132c9c6f0d\">\n",
              "    <div class=\"colab-df-container\">\n",
              "      <div>\n",
              "<style scoped>\n",
              "    .dataframe tbody tr th:only-of-type {\n",
              "        vertical-align: middle;\n",
              "    }\n",
              "\n",
              "    .dataframe tbody tr th {\n",
              "        vertical-align: top;\n",
              "    }\n",
              "\n",
              "    .dataframe thead th {\n",
              "        text-align: right;\n",
              "    }\n",
              "</style>\n",
              "<table border=\"1\" class=\"dataframe\">\n",
              "  <thead>\n",
              "    <tr style=\"text-align: right;\">\n",
              "      <th></th>\n",
              "      <th>100</th>\n",
              "      <th>1000</th>\n",
              "      <th>130</th>\n",
              "      <th>1st</th>\n",
              "      <th>200</th>\n",
              "      <th>2000</th>\n",
              "      <th>2002</th>\n",
              "      <th>2004</th>\n",
              "      <th>2012</th>\n",
              "      <th>2013</th>\n",
              "      <th>...</th>\n",
              "      <th>your own</th>\n",
              "      <th>your party</th>\n",
              "      <th>youre</th>\n",
              "      <th>yours</th>\n",
              "      <th>yourself</th>\n",
              "      <th>youth</th>\n",
              "      <th>youtube</th>\n",
              "      <th>yrs</th>\n",
              "      <th>zero</th>\n",
              "      <th>शबच</th>\n",
              "    </tr>\n",
              "  </thead>\n",
              "  <tbody>\n",
              "    <tr>\n",
              "      <th>0</th>\n",
              "      <td>0</td>\n",
              "      <td>0</td>\n",
              "      <td>0</td>\n",
              "      <td>0</td>\n",
              "      <td>0</td>\n",
              "      <td>0</td>\n",
              "      <td>0</td>\n",
              "      <td>0</td>\n",
              "      <td>0</td>\n",
              "      <td>0</td>\n",
              "      <td>...</td>\n",
              "      <td>0</td>\n",
              "      <td>0</td>\n",
              "      <td>0</td>\n",
              "      <td>0</td>\n",
              "      <td>0</td>\n",
              "      <td>0</td>\n",
              "      <td>0</td>\n",
              "      <td>0</td>\n",
              "      <td>0</td>\n",
              "      <td>0</td>\n",
              "    </tr>\n",
              "    <tr>\n",
              "      <th>1</th>\n",
              "      <td>0</td>\n",
              "      <td>0</td>\n",
              "      <td>0</td>\n",
              "      <td>0</td>\n",
              "      <td>0</td>\n",
              "      <td>0</td>\n",
              "      <td>0</td>\n",
              "      <td>0</td>\n",
              "      <td>0</td>\n",
              "      <td>0</td>\n",
              "      <td>...</td>\n",
              "      <td>0</td>\n",
              "      <td>0</td>\n",
              "      <td>0</td>\n",
              "      <td>0</td>\n",
              "      <td>0</td>\n",
              "      <td>0</td>\n",
              "      <td>0</td>\n",
              "      <td>0</td>\n",
              "      <td>0</td>\n",
              "      <td>0</td>\n",
              "    </tr>\n",
              "    <tr>\n",
              "      <th>2</th>\n",
              "      <td>0</td>\n",
              "      <td>0</td>\n",
              "      <td>0</td>\n",
              "      <td>0</td>\n",
              "      <td>0</td>\n",
              "      <td>0</td>\n",
              "      <td>0</td>\n",
              "      <td>0</td>\n",
              "      <td>0</td>\n",
              "      <td>0</td>\n",
              "      <td>...</td>\n",
              "      <td>0</td>\n",
              "      <td>0</td>\n",
              "      <td>0</td>\n",
              "      <td>0</td>\n",
              "      <td>0</td>\n",
              "      <td>0</td>\n",
              "      <td>0</td>\n",
              "      <td>0</td>\n",
              "      <td>0</td>\n",
              "      <td>0</td>\n",
              "    </tr>\n",
              "    <tr>\n",
              "      <th>3</th>\n",
              "      <td>0</td>\n",
              "      <td>0</td>\n",
              "      <td>0</td>\n",
              "      <td>0</td>\n",
              "      <td>0</td>\n",
              "      <td>0</td>\n",
              "      <td>0</td>\n",
              "      <td>0</td>\n",
              "      <td>0</td>\n",
              "      <td>0</td>\n",
              "      <td>...</td>\n",
              "      <td>0</td>\n",
              "      <td>0</td>\n",
              "      <td>0</td>\n",
              "      <td>0</td>\n",
              "      <td>0</td>\n",
              "      <td>0</td>\n",
              "      <td>0</td>\n",
              "      <td>0</td>\n",
              "      <td>0</td>\n",
              "      <td>0</td>\n",
              "    </tr>\n",
              "    <tr>\n",
              "      <th>4</th>\n",
              "      <td>0</td>\n",
              "      <td>0</td>\n",
              "      <td>0</td>\n",
              "      <td>0</td>\n",
              "      <td>0</td>\n",
              "      <td>0</td>\n",
              "      <td>0</td>\n",
              "      <td>0</td>\n",
              "      <td>0</td>\n",
              "      <td>0</td>\n",
              "      <td>...</td>\n",
              "      <td>0</td>\n",
              "      <td>0</td>\n",
              "      <td>0</td>\n",
              "      <td>0</td>\n",
              "      <td>0</td>\n",
              "      <td>0</td>\n",
              "      <td>0</td>\n",
              "      <td>0</td>\n",
              "      <td>0</td>\n",
              "      <td>0</td>\n",
              "    </tr>\n",
              "  </tbody>\n",
              "</table>\n",
              "<p>5 rows × 3000 columns</p>\n",
              "</div>\n",
              "      <button class=\"colab-df-convert\" onclick=\"convertToInteractive('df-8f404077-49c8-43c7-b265-c1132c9c6f0d')\"\n",
              "              title=\"Convert this dataframe to an interactive table.\"\n",
              "              style=\"display:none;\">\n",
              "\n",
              "  <svg xmlns=\"http://www.w3.org/2000/svg\" height=\"24px\"viewBox=\"0 0 24 24\"\n",
              "       width=\"24px\">\n",
              "    <path d=\"M0 0h24v24H0V0z\" fill=\"none\"/>\n",
              "    <path d=\"M18.56 5.44l.94 2.06.94-2.06 2.06-.94-2.06-.94-.94-2.06-.94 2.06-2.06.94zm-11 1L8.5 8.5l.94-2.06 2.06-.94-2.06-.94L8.5 2.5l-.94 2.06-2.06.94zm10 10l.94 2.06.94-2.06 2.06-.94-2.06-.94-.94-2.06-.94 2.06-2.06.94z\"/><path d=\"M17.41 7.96l-1.37-1.37c-.4-.4-.92-.59-1.43-.59-.52 0-1.04.2-1.43.59L10.3 9.45l-7.72 7.72c-.78.78-.78 2.05 0 2.83L4 21.41c.39.39.9.59 1.41.59.51 0 1.02-.2 1.41-.59l7.78-7.78 2.81-2.81c.8-.78.8-2.07 0-2.86zM5.41 20L4 18.59l7.72-7.72 1.47 1.35L5.41 20z\"/>\n",
              "  </svg>\n",
              "      </button>\n",
              "\n",
              "\n",
              "\n",
              "    <div id=\"df-5366faf2-c63d-4233-8b75-0f68489e46ac\">\n",
              "      <button class=\"colab-df-quickchart\" onclick=\"quickchart('df-5366faf2-c63d-4233-8b75-0f68489e46ac')\"\n",
              "              title=\"Suggest charts.\"\n",
              "              style=\"display:none;\">\n",
              "\n",
              "<svg xmlns=\"http://www.w3.org/2000/svg\" height=\"24px\"viewBox=\"0 0 24 24\"\n",
              "     width=\"24px\">\n",
              "    <g>\n",
              "        <path d=\"M19 3H5c-1.1 0-2 .9-2 2v14c0 1.1.9 2 2 2h14c1.1 0 2-.9 2-2V5c0-1.1-.9-2-2-2zM9 17H7v-7h2v7zm4 0h-2V7h2v10zm4 0h-2v-4h2v4z\"/>\n",
              "    </g>\n",
              "</svg>\n",
              "      </button>\n",
              "    </div>\n",
              "\n",
              "<style>\n",
              "  .colab-df-quickchart {\n",
              "    background-color: #E8F0FE;\n",
              "    border: none;\n",
              "    border-radius: 50%;\n",
              "    cursor: pointer;\n",
              "    display: none;\n",
              "    fill: #1967D2;\n",
              "    height: 32px;\n",
              "    padding: 0 0 0 0;\n",
              "    width: 32px;\n",
              "  }\n",
              "\n",
              "  .colab-df-quickchart:hover {\n",
              "    background-color: #E2EBFA;\n",
              "    box-shadow: 0px 1px 2px rgba(60, 64, 67, 0.3), 0px 1px 3px 1px rgba(60, 64, 67, 0.15);\n",
              "    fill: #174EA6;\n",
              "  }\n",
              "\n",
              "  [theme=dark] .colab-df-quickchart {\n",
              "    background-color: #3B4455;\n",
              "    fill: #D2E3FC;\n",
              "  }\n",
              "\n",
              "  [theme=dark] .colab-df-quickchart:hover {\n",
              "    background-color: #434B5C;\n",
              "    box-shadow: 0px 1px 3px 1px rgba(0, 0, 0, 0.15);\n",
              "    filter: drop-shadow(0px 1px 2px rgba(0, 0, 0, 0.3));\n",
              "    fill: #FFFFFF;\n",
              "  }\n",
              "</style>\n",
              "\n",
              "    <script>\n",
              "      async function quickchart(key) {\n",
              "        const containerElement = document.querySelector('#' + key);\n",
              "        const charts = await google.colab.kernel.invokeFunction(\n",
              "            'suggestCharts', [key], {});\n",
              "      }\n",
              "    </script>\n",
              "\n",
              "      <script>\n",
              "\n",
              "function displayQuickchartButton(domScope) {\n",
              "  let quickchartButtonEl =\n",
              "    domScope.querySelector('#df-5366faf2-c63d-4233-8b75-0f68489e46ac button.colab-df-quickchart');\n",
              "  quickchartButtonEl.style.display =\n",
              "    google.colab.kernel.accessAllowed ? 'block' : 'none';\n",
              "}\n",
              "\n",
              "        displayQuickchartButton(document);\n",
              "      </script>\n",
              "      <style>\n",
              "    .colab-df-container {\n",
              "      display:flex;\n",
              "      flex-wrap:wrap;\n",
              "      gap: 12px;\n",
              "    }\n",
              "\n",
              "    .colab-df-convert {\n",
              "      background-color: #E8F0FE;\n",
              "      border: none;\n",
              "      border-radius: 50%;\n",
              "      cursor: pointer;\n",
              "      display: none;\n",
              "      fill: #1967D2;\n",
              "      height: 32px;\n",
              "      padding: 0 0 0 0;\n",
              "      width: 32px;\n",
              "    }\n",
              "\n",
              "    .colab-df-convert:hover {\n",
              "      background-color: #E2EBFA;\n",
              "      box-shadow: 0px 1px 2px rgba(60, 64, 67, 0.3), 0px 1px 3px 1px rgba(60, 64, 67, 0.15);\n",
              "      fill: #174EA6;\n",
              "    }\n",
              "\n",
              "    [theme=dark] .colab-df-convert {\n",
              "      background-color: #3B4455;\n",
              "      fill: #D2E3FC;\n",
              "    }\n",
              "\n",
              "    [theme=dark] .colab-df-convert:hover {\n",
              "      background-color: #434B5C;\n",
              "      box-shadow: 0px 1px 3px 1px rgba(0, 0, 0, 0.15);\n",
              "      filter: drop-shadow(0px 1px 2px rgba(0, 0, 0, 0.3));\n",
              "      fill: #FFFFFF;\n",
              "    }\n",
              "  </style>\n",
              "\n",
              "      <script>\n",
              "        const buttonEl =\n",
              "          document.querySelector('#df-8f404077-49c8-43c7-b265-c1132c9c6f0d button.colab-df-convert');\n",
              "        buttonEl.style.display =\n",
              "          google.colab.kernel.accessAllowed ? 'block' : 'none';\n",
              "\n",
              "        async function convertToInteractive(key) {\n",
              "          const element = document.querySelector('#df-8f404077-49c8-43c7-b265-c1132c9c6f0d');\n",
              "          const dataTable =\n",
              "            await google.colab.kernel.invokeFunction('convertToInteractive',\n",
              "                                                     [key], {});\n",
              "          if (!dataTable) return;\n",
              "\n",
              "          const docLinkHtml = 'Like what you see? Visit the ' +\n",
              "            '<a target=\"_blank\" href=https://colab.research.google.com/notebooks/data_table.ipynb>data table notebook</a>'\n",
              "            + ' to learn more about interactive tables.';\n",
              "          element.innerHTML = '';\n",
              "          dataTable['output_type'] = 'display_data';\n",
              "          await google.colab.output.renderOutput(dataTable, element);\n",
              "          const docLink = document.createElement('div');\n",
              "          docLink.innerHTML = docLinkHtml;\n",
              "          element.appendChild(docLink);\n",
              "        }\n",
              "      </script>\n",
              "    </div>\n",
              "  </div>\n"
            ]
          },
          "metadata": {},
          "execution_count": 37
        }
      ],
      "source": [
        "# Create Bag of Words.\n",
        "vect_bow = CountVectorizer(max_features=3000, ngram_range=(1, 3), stop_words= ['ht', 'htt', 'http', 'https', 'httpst'])\n",
        "vect_bow.fit(twitter_df.clean_text)\n",
        "X_bow = vect_bow.transform(twitter_df.clean_text)\n",
        "\n",
        "# Transform back to a dataframe, assign column names\n",
        "X_bow = pd.DataFrame(X_bow.toarray(), columns=vect_bow.get_feature_names_out())\n",
        "\n",
        "# Display first 5 rows of the dataframe\n",
        "X_bow.head()"
      ]
    },
    {
      "cell_type": "code",
      "execution_count": 38,
      "id": "5b054577",
      "metadata": {
        "id": "5b054577"
      },
      "outputs": [],
      "source": [
        "# convert to sparse matrix\n",
        "X_bow = csr_matrix(X_bow)"
      ]
    },
    {
      "cell_type": "code",
      "execution_count": 39,
      "id": "6d4a85c1",
      "metadata": {
        "id": "6d4a85c1"
      },
      "outputs": [],
      "source": [
        "# Train test split and prepare the data for multiple classification algorithms for BOW\n",
        "y_b = twitter_df.category\n",
        "X_b = X_bow\n",
        "\n",
        "# Train/test split\n",
        "X_train_b, X_test_b, y_train_b, y_test_b = train_test_split(X_b, y_b, test_size=0.3, random_state=42)"
      ]
    },
    {
      "cell_type": "markdown",
      "id": "30fd6f67",
      "metadata": {
        "id": "30fd6f67"
      },
      "source": [
        "### Create TF-IDF Features"
      ]
    },
    {
      "cell_type": "code",
      "execution_count": 40,
      "id": "e124cc91",
      "metadata": {
        "id": "e124cc91",
        "outputId": "518d5a61-cef4-436e-b36b-67ea57923b73",
        "colab": {
          "base_uri": "https://localhost:8080/",
          "height": 235
        }
      },
      "outputs": [
        {
          "output_type": "execute_result",
          "data": {
            "text/plain": [
              "   100  1000  130  1st  200  2000  2002  2004  2012  2013  ...  your own  \\\n",
              "0  0.0   0.0  0.0  0.0  0.0   0.0   0.0   0.0   0.0   0.0  ...       0.0   \n",
              "1  0.0   0.0  0.0  0.0  0.0   0.0   0.0   0.0   0.0   0.0  ...       0.0   \n",
              "2  0.0   0.0  0.0  0.0  0.0   0.0   0.0   0.0   0.0   0.0  ...       0.0   \n",
              "3  0.0   0.0  0.0  0.0  0.0   0.0   0.0   0.0   0.0   0.0  ...       0.0   \n",
              "4  0.0   0.0  0.0  0.0  0.0   0.0   0.0   0.0   0.0   0.0  ...       0.0   \n",
              "\n",
              "   your party  youre  yours  yourself  youth  youtube  yrs  zero  शबच  \n",
              "0         0.0    0.0    0.0       0.0    0.0      0.0  0.0   0.0  0.0  \n",
              "1         0.0    0.0    0.0       0.0    0.0      0.0  0.0   0.0  0.0  \n",
              "2         0.0    0.0    0.0       0.0    0.0      0.0  0.0   0.0  0.0  \n",
              "3         0.0    0.0    0.0       0.0    0.0      0.0  0.0   0.0  0.0  \n",
              "4         0.0    0.0    0.0       0.0    0.0      0.0  0.0   0.0  0.0  \n",
              "\n",
              "[5 rows x 3000 columns]"
            ],
            "text/html": [
              "\n",
              "\n",
              "  <div id=\"df-169e0282-04ef-48e8-9074-0d33f2c7a6b4\">\n",
              "    <div class=\"colab-df-container\">\n",
              "      <div>\n",
              "<style scoped>\n",
              "    .dataframe tbody tr th:only-of-type {\n",
              "        vertical-align: middle;\n",
              "    }\n",
              "\n",
              "    .dataframe tbody tr th {\n",
              "        vertical-align: top;\n",
              "    }\n",
              "\n",
              "    .dataframe thead th {\n",
              "        text-align: right;\n",
              "    }\n",
              "</style>\n",
              "<table border=\"1\" class=\"dataframe\">\n",
              "  <thead>\n",
              "    <tr style=\"text-align: right;\">\n",
              "      <th></th>\n",
              "      <th>100</th>\n",
              "      <th>1000</th>\n",
              "      <th>130</th>\n",
              "      <th>1st</th>\n",
              "      <th>200</th>\n",
              "      <th>2000</th>\n",
              "      <th>2002</th>\n",
              "      <th>2004</th>\n",
              "      <th>2012</th>\n",
              "      <th>2013</th>\n",
              "      <th>...</th>\n",
              "      <th>your own</th>\n",
              "      <th>your party</th>\n",
              "      <th>youre</th>\n",
              "      <th>yours</th>\n",
              "      <th>yourself</th>\n",
              "      <th>youth</th>\n",
              "      <th>youtube</th>\n",
              "      <th>yrs</th>\n",
              "      <th>zero</th>\n",
              "      <th>शबच</th>\n",
              "    </tr>\n",
              "  </thead>\n",
              "  <tbody>\n",
              "    <tr>\n",
              "      <th>0</th>\n",
              "      <td>0.0</td>\n",
              "      <td>0.0</td>\n",
              "      <td>0.0</td>\n",
              "      <td>0.0</td>\n",
              "      <td>0.0</td>\n",
              "      <td>0.0</td>\n",
              "      <td>0.0</td>\n",
              "      <td>0.0</td>\n",
              "      <td>0.0</td>\n",
              "      <td>0.0</td>\n",
              "      <td>...</td>\n",
              "      <td>0.0</td>\n",
              "      <td>0.0</td>\n",
              "      <td>0.0</td>\n",
              "      <td>0.0</td>\n",
              "      <td>0.0</td>\n",
              "      <td>0.0</td>\n",
              "      <td>0.0</td>\n",
              "      <td>0.0</td>\n",
              "      <td>0.0</td>\n",
              "      <td>0.0</td>\n",
              "    </tr>\n",
              "    <tr>\n",
              "      <th>1</th>\n",
              "      <td>0.0</td>\n",
              "      <td>0.0</td>\n",
              "      <td>0.0</td>\n",
              "      <td>0.0</td>\n",
              "      <td>0.0</td>\n",
              "      <td>0.0</td>\n",
              "      <td>0.0</td>\n",
              "      <td>0.0</td>\n",
              "      <td>0.0</td>\n",
              "      <td>0.0</td>\n",
              "      <td>...</td>\n",
              "      <td>0.0</td>\n",
              "      <td>0.0</td>\n",
              "      <td>0.0</td>\n",
              "      <td>0.0</td>\n",
              "      <td>0.0</td>\n",
              "      <td>0.0</td>\n",
              "      <td>0.0</td>\n",
              "      <td>0.0</td>\n",
              "      <td>0.0</td>\n",
              "      <td>0.0</td>\n",
              "    </tr>\n",
              "    <tr>\n",
              "      <th>2</th>\n",
              "      <td>0.0</td>\n",
              "      <td>0.0</td>\n",
              "      <td>0.0</td>\n",
              "      <td>0.0</td>\n",
              "      <td>0.0</td>\n",
              "      <td>0.0</td>\n",
              "      <td>0.0</td>\n",
              "      <td>0.0</td>\n",
              "      <td>0.0</td>\n",
              "      <td>0.0</td>\n",
              "      <td>...</td>\n",
              "      <td>0.0</td>\n",
              "      <td>0.0</td>\n",
              "      <td>0.0</td>\n",
              "      <td>0.0</td>\n",
              "      <td>0.0</td>\n",
              "      <td>0.0</td>\n",
              "      <td>0.0</td>\n",
              "      <td>0.0</td>\n",
              "      <td>0.0</td>\n",
              "      <td>0.0</td>\n",
              "    </tr>\n",
              "    <tr>\n",
              "      <th>3</th>\n",
              "      <td>0.0</td>\n",
              "      <td>0.0</td>\n",
              "      <td>0.0</td>\n",
              "      <td>0.0</td>\n",
              "      <td>0.0</td>\n",
              "      <td>0.0</td>\n",
              "      <td>0.0</td>\n",
              "      <td>0.0</td>\n",
              "      <td>0.0</td>\n",
              "      <td>0.0</td>\n",
              "      <td>...</td>\n",
              "      <td>0.0</td>\n",
              "      <td>0.0</td>\n",
              "      <td>0.0</td>\n",
              "      <td>0.0</td>\n",
              "      <td>0.0</td>\n",
              "      <td>0.0</td>\n",
              "      <td>0.0</td>\n",
              "      <td>0.0</td>\n",
              "      <td>0.0</td>\n",
              "      <td>0.0</td>\n",
              "    </tr>\n",
              "    <tr>\n",
              "      <th>4</th>\n",
              "      <td>0.0</td>\n",
              "      <td>0.0</td>\n",
              "      <td>0.0</td>\n",
              "      <td>0.0</td>\n",
              "      <td>0.0</td>\n",
              "      <td>0.0</td>\n",
              "      <td>0.0</td>\n",
              "      <td>0.0</td>\n",
              "      <td>0.0</td>\n",
              "      <td>0.0</td>\n",
              "      <td>...</td>\n",
              "      <td>0.0</td>\n",
              "      <td>0.0</td>\n",
              "      <td>0.0</td>\n",
              "      <td>0.0</td>\n",
              "      <td>0.0</td>\n",
              "      <td>0.0</td>\n",
              "      <td>0.0</td>\n",
              "      <td>0.0</td>\n",
              "      <td>0.0</td>\n",
              "      <td>0.0</td>\n",
              "    </tr>\n",
              "  </tbody>\n",
              "</table>\n",
              "<p>5 rows × 3000 columns</p>\n",
              "</div>\n",
              "      <button class=\"colab-df-convert\" onclick=\"convertToInteractive('df-169e0282-04ef-48e8-9074-0d33f2c7a6b4')\"\n",
              "              title=\"Convert this dataframe to an interactive table.\"\n",
              "              style=\"display:none;\">\n",
              "\n",
              "  <svg xmlns=\"http://www.w3.org/2000/svg\" height=\"24px\"viewBox=\"0 0 24 24\"\n",
              "       width=\"24px\">\n",
              "    <path d=\"M0 0h24v24H0V0z\" fill=\"none\"/>\n",
              "    <path d=\"M18.56 5.44l.94 2.06.94-2.06 2.06-.94-2.06-.94-.94-2.06-.94 2.06-2.06.94zm-11 1L8.5 8.5l.94-2.06 2.06-.94-2.06-.94L8.5 2.5l-.94 2.06-2.06.94zm10 10l.94 2.06.94-2.06 2.06-.94-2.06-.94-.94-2.06-.94 2.06-2.06.94z\"/><path d=\"M17.41 7.96l-1.37-1.37c-.4-.4-.92-.59-1.43-.59-.52 0-1.04.2-1.43.59L10.3 9.45l-7.72 7.72c-.78.78-.78 2.05 0 2.83L4 21.41c.39.39.9.59 1.41.59.51 0 1.02-.2 1.41-.59l7.78-7.78 2.81-2.81c.8-.78.8-2.07 0-2.86zM5.41 20L4 18.59l7.72-7.72 1.47 1.35L5.41 20z\"/>\n",
              "  </svg>\n",
              "      </button>\n",
              "\n",
              "\n",
              "\n",
              "    <div id=\"df-b786bc96-3bda-4d1f-a854-2e6cbac3ad14\">\n",
              "      <button class=\"colab-df-quickchart\" onclick=\"quickchart('df-b786bc96-3bda-4d1f-a854-2e6cbac3ad14')\"\n",
              "              title=\"Suggest charts.\"\n",
              "              style=\"display:none;\">\n",
              "\n",
              "<svg xmlns=\"http://www.w3.org/2000/svg\" height=\"24px\"viewBox=\"0 0 24 24\"\n",
              "     width=\"24px\">\n",
              "    <g>\n",
              "        <path d=\"M19 3H5c-1.1 0-2 .9-2 2v14c0 1.1.9 2 2 2h14c1.1 0 2-.9 2-2V5c0-1.1-.9-2-2-2zM9 17H7v-7h2v7zm4 0h-2V7h2v10zm4 0h-2v-4h2v4z\"/>\n",
              "    </g>\n",
              "</svg>\n",
              "      </button>\n",
              "    </div>\n",
              "\n",
              "<style>\n",
              "  .colab-df-quickchart {\n",
              "    background-color: #E8F0FE;\n",
              "    border: none;\n",
              "    border-radius: 50%;\n",
              "    cursor: pointer;\n",
              "    display: none;\n",
              "    fill: #1967D2;\n",
              "    height: 32px;\n",
              "    padding: 0 0 0 0;\n",
              "    width: 32px;\n",
              "  }\n",
              "\n",
              "  .colab-df-quickchart:hover {\n",
              "    background-color: #E2EBFA;\n",
              "    box-shadow: 0px 1px 2px rgba(60, 64, 67, 0.3), 0px 1px 3px 1px rgba(60, 64, 67, 0.15);\n",
              "    fill: #174EA6;\n",
              "  }\n",
              "\n",
              "  [theme=dark] .colab-df-quickchart {\n",
              "    background-color: #3B4455;\n",
              "    fill: #D2E3FC;\n",
              "  }\n",
              "\n",
              "  [theme=dark] .colab-df-quickchart:hover {\n",
              "    background-color: #434B5C;\n",
              "    box-shadow: 0px 1px 3px 1px rgba(0, 0, 0, 0.15);\n",
              "    filter: drop-shadow(0px 1px 2px rgba(0, 0, 0, 0.3));\n",
              "    fill: #FFFFFF;\n",
              "  }\n",
              "</style>\n",
              "\n",
              "    <script>\n",
              "      async function quickchart(key) {\n",
              "        const containerElement = document.querySelector('#' + key);\n",
              "        const charts = await google.colab.kernel.invokeFunction(\n",
              "            'suggestCharts', [key], {});\n",
              "      }\n",
              "    </script>\n",
              "\n",
              "      <script>\n",
              "\n",
              "function displayQuickchartButton(domScope) {\n",
              "  let quickchartButtonEl =\n",
              "    domScope.querySelector('#df-b786bc96-3bda-4d1f-a854-2e6cbac3ad14 button.colab-df-quickchart');\n",
              "  quickchartButtonEl.style.display =\n",
              "    google.colab.kernel.accessAllowed ? 'block' : 'none';\n",
              "}\n",
              "\n",
              "        displayQuickchartButton(document);\n",
              "      </script>\n",
              "      <style>\n",
              "    .colab-df-container {\n",
              "      display:flex;\n",
              "      flex-wrap:wrap;\n",
              "      gap: 12px;\n",
              "    }\n",
              "\n",
              "    .colab-df-convert {\n",
              "      background-color: #E8F0FE;\n",
              "      border: none;\n",
              "      border-radius: 50%;\n",
              "      cursor: pointer;\n",
              "      display: none;\n",
              "      fill: #1967D2;\n",
              "      height: 32px;\n",
              "      padding: 0 0 0 0;\n",
              "      width: 32px;\n",
              "    }\n",
              "\n",
              "    .colab-df-convert:hover {\n",
              "      background-color: #E2EBFA;\n",
              "      box-shadow: 0px 1px 2px rgba(60, 64, 67, 0.3), 0px 1px 3px 1px rgba(60, 64, 67, 0.15);\n",
              "      fill: #174EA6;\n",
              "    }\n",
              "\n",
              "    [theme=dark] .colab-df-convert {\n",
              "      background-color: #3B4455;\n",
              "      fill: #D2E3FC;\n",
              "    }\n",
              "\n",
              "    [theme=dark] .colab-df-convert:hover {\n",
              "      background-color: #434B5C;\n",
              "      box-shadow: 0px 1px 3px 1px rgba(0, 0, 0, 0.15);\n",
              "      filter: drop-shadow(0px 1px 2px rgba(0, 0, 0, 0.3));\n",
              "      fill: #FFFFFF;\n",
              "    }\n",
              "  </style>\n",
              "\n",
              "      <script>\n",
              "        const buttonEl =\n",
              "          document.querySelector('#df-169e0282-04ef-48e8-9074-0d33f2c7a6b4 button.colab-df-convert');\n",
              "        buttonEl.style.display =\n",
              "          google.colab.kernel.accessAllowed ? 'block' : 'none';\n",
              "\n",
              "        async function convertToInteractive(key) {\n",
              "          const element = document.querySelector('#df-169e0282-04ef-48e8-9074-0d33f2c7a6b4');\n",
              "          const dataTable =\n",
              "            await google.colab.kernel.invokeFunction('convertToInteractive',\n",
              "                                                     [key], {});\n",
              "          if (!dataTable) return;\n",
              "\n",
              "          const docLinkHtml = 'Like what you see? Visit the ' +\n",
              "            '<a target=\"_blank\" href=https://colab.research.google.com/notebooks/data_table.ipynb>data table notebook</a>'\n",
              "            + ' to learn more about interactive tables.';\n",
              "          element.innerHTML = '';\n",
              "          dataTable['output_type'] = 'display_data';\n",
              "          await google.colab.output.renderOutput(dataTable, element);\n",
              "          const docLink = document.createElement('div');\n",
              "          docLink.innerHTML = docLinkHtml;\n",
              "          element.appendChild(docLink);\n",
              "        }\n",
              "      </script>\n",
              "    </div>\n",
              "  </div>\n"
            ]
          },
          "metadata": {},
          "execution_count": 40
        }
      ],
      "source": [
        "# Create TF-IDF\n",
        "vect_tfidf = TfidfVectorizer(max_features=3000, ngram_range=(1, 3), stop_words=['ht', 'htt', 'http', 'https', 'httpst'])\n",
        "vect_tfidf.fit(twitter_df.clean_text)\n",
        "X_tfidf = vect_tfidf.transform(twitter_df.clean_text)\n",
        "\n",
        "# Create a DataFrame\n",
        "X_tfidf = pd.DataFrame(X_tfidf.toarray(), columns=vect_tfidf.get_feature_names_out())\n",
        "\n",
        "# Display first 5 rows of the dataframe\n",
        "X_tfidf.head()"
      ]
    },
    {
      "cell_type": "code",
      "execution_count": 41,
      "id": "6627bc37",
      "metadata": {
        "id": "6627bc37"
      },
      "outputs": [],
      "source": [
        "# convert to sparse matrix\n",
        "X_tfidf = csr_matrix(X_tfidf)"
      ]
    },
    {
      "cell_type": "code",
      "execution_count": 42,
      "id": "eca10b62",
      "metadata": {
        "id": "eca10b62"
      },
      "outputs": [],
      "source": [
        "# Split the tweets randomly into 70% training and 30% test data for TF-IDF.\n",
        "y_t = twitter_df.category\n",
        "X_t = X_tfidf\n",
        "\n",
        "# Train/test split\n",
        "X_train_t, X_test_t, y_train_t, y_test_t = train_test_split(X_t, y_t, test_size=0.3, random_state=42)"
      ]
    },
    {
      "cell_type": "markdown",
      "id": "f6eb5f61",
      "metadata": {
        "id": "f6eb5f61"
      },
      "source": [
        "### Preparing data for multiple classification algorithms and comparing their accuracy scores"
      ]
    },
    {
      "cell_type": "markdown",
      "id": "95f35b83",
      "metadata": {
        "id": "95f35b83"
      },
      "source": [
        "#### Accuracy values for BOW"
      ]
    },
    {
      "cell_type": "code",
      "execution_count": 43,
      "id": "9bfbf007",
      "metadata": {
        "id": "9bfbf007",
        "outputId": "84fc7080-c51e-4bde-bee3-fd2dc1cc392b",
        "colab": {
          "base_uri": "https://localhost:8080/"
        }
      },
      "outputs": [
        {
          "output_type": "stream",
          "name": "stdout",
          "text": [
            "Accuracy of LogisticRegression :  0.8887525311407007\n"
          ]
        }
      ],
      "source": [
        "# Logistic Regression accuracy\n",
        "model = LogisticRegression(max_iter=1000000).fit(X_train_b, y_train_b)\n",
        "y_predicted = model.predict(X_test_b)\n",
        "accuracy = accuracy_score(y_test_b, y_predicted)\n",
        "print('Accuracy of ' + LogisticRegression().__class__.__name__, ': ', accuracy)"
      ]
    },
    {
      "cell_type": "code",
      "execution_count": 44,
      "id": "4931f4ac",
      "metadata": {
        "id": "4931f4ac",
        "outputId": "853062a6-d46e-43ab-9aea-f1c00b628600",
        "colab": {
          "base_uri": "https://localhost:8080/"
        }
      },
      "outputs": [
        {
          "output_type": "stream",
          "name": "stdout",
          "text": [
            "Accuracy of KNeighborsClassifier :  0.46491174244748523\n"
          ]
        }
      ],
      "source": [
        "# KNN accuracy\n",
        "model = KNeighborsClassifier().fit(X_train_b, y_train_b)\n",
        "y_predicted = model.predict(X_test_b)\n",
        "accuracy = accuracy_score(y_test_b, y_predicted)\n",
        "print('Accuracy of ' + KNeighborsClassifier().__class__.__name__, ': ', accuracy)"
      ]
    },
    {
      "cell_type": "code",
      "execution_count": 45,
      "id": "b126bcd3",
      "metadata": {
        "id": "b126bcd3",
        "outputId": "43ecfe80-ed6e-41b0-8c52-1155d36bd81b",
        "colab": {
          "base_uri": "https://localhost:8080/"
        }
      },
      "outputs": [
        {
          "output_type": "stream",
          "name": "stdout",
          "text": [
            "Accuracy of GaussianNB :  0.7264731750219877\n"
          ]
        }
      ],
      "source": [
        "# Naive Bayes accuracy\n",
        "# Note: dense data is required since sparce matrix gave me an error. Used X.toarray() to convert to a dense numpy array.\n",
        "model = GaussianNB().fit(X_train_b.toarray(), y_train_b)\n",
        "y_predicted = model.predict(X_test_b.toarray())\n",
        "accuracy = accuracy_score(y_test_b, y_predicted)\n",
        "print('Accuracy of ' + GaussianNB().__class__.__name__, ': ', accuracy)"
      ]
    },
    {
      "cell_type": "code",
      "execution_count": 46,
      "id": "a709875e",
      "metadata": {
        "id": "a709875e",
        "outputId": "1e7eb0d0-f279-45e0-90d5-94409d980adc",
        "colab": {
          "base_uri": "https://localhost:8080/"
        }
      },
      "outputs": [
        {
          "output_type": "stream",
          "name": "stdout",
          "text": [
            "Accuracy of LinearSVC :  0.8932523368309095\n"
          ]
        }
      ],
      "source": [
        "# SVM accuracy\n",
        "model = LinearSVC(max_iter=1000000).fit(X_train_b, y_train_b)\n",
        "y_predicted = model.predict(X_test_b)\n",
        "accuracy = accuracy_score(y_test_b, y_predicted)\n",
        "print('Accuracy of ' + LinearSVC().__class__.__name__, ': ', accuracy)"
      ]
    },
    {
      "cell_type": "code",
      "execution_count": 47,
      "id": "644dd6b2",
      "metadata": {
        "id": "644dd6b2",
        "outputId": "554ddaea-f07b-427e-aca2-8138575a88e9",
        "colab": {
          "base_uri": "https://localhost:8080/"
        }
      },
      "outputs": [
        {
          "output_type": "stream",
          "name": "stdout",
          "text": [
            "Accuracy of DecisionTreeClassifier :  0.8179419525065963\n"
          ]
        }
      ],
      "source": [
        "# Decision tree accuracy\n",
        "model = DecisionTreeClassifier().fit(X_train_b, y_train_b)\n",
        "y_predicted = model.predict(X_test_b)\n",
        "accuracy = accuracy_score(y_test_b, y_predicted)\n",
        "print('Accuracy of ' + DecisionTreeClassifier().__class__.__name__, ': ', accuracy)"
      ]
    },
    {
      "cell_type": "code",
      "execution_count": 48,
      "id": "b24f8981",
      "metadata": {
        "scrolled": true,
        "id": "b24f8981",
        "outputId": "bba221fa-aa22-4912-db27-5e05fed57051",
        "colab": {
          "base_uri": "https://localhost:8080/"
        }
      },
      "outputs": [
        {
          "output_type": "stream",
          "name": "stdout",
          "text": [
            "Accuracy of RandomForestClassifier :  0.8495428606491993\n"
          ]
        }
      ],
      "source": [
        "# Random Forest accuracy\n",
        "model = RandomForestClassifier().fit(X_train_b, y_train_b)\n",
        "y_predicted = model.predict(X_test_b)\n",
        "accuracy = accuracy_score(y_test_b, y_predicted)\n",
        "print('Accuracy of ' + RandomForestClassifier().__class__.__name__, ': ', accuracy)"
      ]
    },
    {
      "cell_type": "markdown",
      "id": "5c095cc5",
      "metadata": {
        "id": "5c095cc5"
      },
      "source": [
        "#### Accuracy values for TF-IDF"
      ]
    },
    {
      "cell_type": "code",
      "execution_count": 49,
      "id": "b8f4997b",
      "metadata": {
        "id": "b8f4997b",
        "outputId": "d6d39f05-c2da-498b-ed1d-5658d4e9be44",
        "colab": {
          "base_uri": "https://localhost:8080/"
        }
      },
      "outputs": [
        {
          "output_type": "stream",
          "name": "stdout",
          "text": [
            "Accuracy of LogisticRegression :  0.8846822523572846\n"
          ]
        }
      ],
      "source": [
        "model = LogisticRegression(max_iter=1000000).fit(X_train_t, y_train_t)\n",
        "y_predicted = model.predict(X_test_t)\n",
        "accuracy = accuracy_score(y_test_t, y_predicted)\n",
        "print('Accuracy of ' + LogisticRegression().__class__.__name__, ': ', accuracy)"
      ]
    },
    {
      "cell_type": "code",
      "execution_count": 50,
      "id": "175a0131",
      "metadata": {
        "id": "175a0131",
        "outputId": "d4984c55-e8d0-4211-a8f4-e8152b991290",
        "colab": {
          "base_uri": "https://localhost:8080/"
        }
      },
      "outputs": [
        {
          "output_type": "stream",
          "name": "stdout",
          "text": [
            "Accuracy of KNeighborsClassifier :  0.419095539056268\n"
          ]
        }
      ],
      "source": [
        "model = KNeighborsClassifier().fit(X_train_t, y_train_t)\n",
        "y_predicted = model.predict(X_test_t)\n",
        "accuracy = accuracy_score(y_test_t, y_predicted)\n",
        "print('Accuracy of ' + KNeighborsClassifier().__class__.__name__, ': ', accuracy)"
      ]
    },
    {
      "cell_type": "code",
      "execution_count": 51,
      "id": "b898d113",
      "metadata": {
        "id": "b898d113",
        "outputId": "4296f205-20f9-4b69-b5d9-345d741e9aff",
        "colab": {
          "base_uri": "https://localhost:8080/"
        }
      },
      "outputs": [
        {
          "output_type": "stream",
          "name": "stdout",
          "text": [
            "Accuracy of GaussianNB :  0.7401771287148964\n"
          ]
        }
      ],
      "source": [
        "# A sparse matrix was passed, but dense data is required. Use X.toarray() to convert to a dense numpy array.\n",
        "model = GaussianNB().fit(X_train_t.toarray(), y_train_t)\n",
        "y_predicted = model.predict(X_test_t.toarray())\n",
        "accuracy = accuracy_score(y_test_t, y_predicted)\n",
        "print('Accuracy of ' + GaussianNB().__class__.__name__, ': ', accuracy)"
      ]
    },
    {
      "cell_type": "code",
      "execution_count": 52,
      "id": "244ac259",
      "metadata": {
        "id": "244ac259",
        "outputId": "4dccfeb5-c851-4b89-a9c7-6179c86c9359",
        "colab": {
          "base_uri": "https://localhost:8080/"
        }
      },
      "outputs": [
        {
          "output_type": "stream",
          "name": "stdout",
          "text": [
            "Accuracy of LinearSVC :  0.891902395123847\n"
          ]
        }
      ],
      "source": [
        "model = LinearSVC(max_iter=1000000).fit(X_train_t, y_train_t)\n",
        "y_predicted = model.predict(X_test_t)\n",
        "accuracy = accuracy_score(y_test_t, y_predicted)\n",
        "print('Accuracy of ' + LinearSVC().__class__.__name__, ': ', accuracy)"
      ]
    },
    {
      "cell_type": "code",
      "execution_count": 53,
      "id": "cc110abf",
      "metadata": {
        "id": "cc110abf",
        "outputId": "425665dd-4f95-4460-d111-131174aa6a2e",
        "colab": {
          "base_uri": "https://localhost:8080/"
        }
      },
      "outputs": [
        {
          "output_type": "stream",
          "name": "stdout",
          "text": [
            "Accuracy of DecisionTreeClassifier :  0.7968337730870713\n"
          ]
        }
      ],
      "source": [
        "model = DecisionTreeClassifier().fit(X_train_t, y_train_t)\n",
        "y_predicted = model.predict(X_test_t)\n",
        "accuracy = accuracy_score(y_test_t, y_predicted)\n",
        "print('Accuracy of ' + DecisionTreeClassifier().__class__.__name__, ': ', accuracy)"
      ]
    },
    {
      "cell_type": "code",
      "execution_count": 54,
      "id": "455649f3",
      "metadata": {
        "id": "455649f3",
        "outputId": "898dd877-bed1-4f30-dd34-3dcaf66e4348",
        "colab": {
          "base_uri": "https://localhost:8080/"
        }
      },
      "outputs": [
        {
          "output_type": "stream",
          "name": "stdout",
          "text": [
            "Accuracy of RandomForestClassifier :  0.835695731320693\n"
          ]
        }
      ],
      "source": [
        "model = RandomForestClassifier().fit(X_train_t, y_train_t)\n",
        "y_predicted = model.predict(X_test_t)\n",
        "accuracy = accuracy_score(y_test_t, y_predicted)\n",
        "print('Accuracy of ' + RandomForestClassifier().__class__.__name__, ': ', accuracy)"
      ]
    },
    {
      "cell_type": "markdown",
      "id": "bb01aaf6",
      "metadata": {
        "id": "bb01aaf6"
      },
      "source": [
        "### Model implementation"
      ]
    },
    {
      "cell_type": "markdown",
      "id": "15596249",
      "metadata": {
        "id": "15596249"
      },
      "source": [
        "Select the model with the highest accuracy (89.3% for SVC using BOW) to predict the tweets on climate change."
      ]
    },
    {
      "cell_type": "code",
      "execution_count": 43,
      "id": "706ba120",
      "metadata": {
        "id": "706ba120",
        "outputId": "ca8f8721-0ba7-4522-f6da-6dbd89a2d7a4",
        "colab": {
          "base_uri": "https://localhost:8080/"
        }
      },
      "outputs": [
        {
          "output_type": "stream",
          "name": "stdout",
          "text": [
            "Accuracy on the Social Media Climate Sentiment Data:  0.35158154568061145\n",
            "              precision    recall  f1-score   support\n",
            "\n",
            "          -1       0.44      0.23      0.30     59434\n",
            "           0       0.34      0.62      0.44     48824\n",
            "           1       0.31      0.24      0.28     55411\n",
            "\n",
            "    accuracy                           0.35    163669\n",
            "   macro avg       0.37      0.37      0.34    163669\n",
            "weighted avg       0.37      0.35      0.33    163669\n",
            "\n"
          ]
        }
      ],
      "source": [
        "# Create BOW features for the twitter_climate_data\n",
        "vect = CountVectorizer(max_features=3000, ngram_range=(1, 3))  # set max features to be 3000 and uni- to tri-grams\n",
        "vect.fit(twitter_climate_data.cleaned_tweet)\n",
        "X = vect.transform(twitter_climate_data.cleaned_tweet)\n",
        "\n",
        "# Transform back to a dataframe, assign column names\n",
        "X = pd.DataFrame(X.toarray(), columns=vect.get_feature_names_out())\n",
        "\n",
        "# convert to sparse matrix\n",
        "X = csr_matrix(X)\n",
        "\n",
        "# Define the target variable (y_twitter) and the predictor variables (X_twitter).\n",
        "y_twitter = twitter_climate_data.sentiment_label\n",
        "X_twitter = X\n",
        "\n",
        "# Train using the best model\n",
        "model = LogisticRegression(max_iter=1000000).fit(X_train_b, y_train_b)\n",
        "\n",
        "# Predict the labels\n",
        "y_predicted = model.predict(X_twitter)\n",
        "\n",
        "# Print accuracy score on the elections data\n",
        "print('Accuracy on the Social Media Climate Sentiment Data: ', accuracy_score(y_twitter, y_predicted))\n",
        "\n",
        "# Evaluate model's predictions\n",
        "print(metrics.classification_report(y_twitter, y_predicted))"
      ]
    },
    {
      "cell_type": "code",
      "execution_count": 44,
      "id": "6756b06c",
      "metadata": {
        "id": "6756b06c",
        "outputId": "707c89c1-a142-4323-a6b9-5a5d8eae7f5c",
        "colab": {
          "base_uri": "https://localhost:8080/",
          "height": 489
        }
      },
      "outputs": [
        {
          "output_type": "execute_result",
          "data": {
            "text/plain": [
              "Text(0.5, 1.0, 'Confusion Matrix on the Social Media Climate Sentiment Data')"
            ]
          },
          "metadata": {},
          "execution_count": 44
        },
        {
          "output_type": "display_data",
          "data": {
            "text/plain": [
              "<Figure size 640x480 with 2 Axes>"
            ]},
          "metadata": {}
        }
      ],
      "source": [
        "# Display the confusion matrix\n",
        "cm = confusion_matrix(y_twitter, y_predicted)\n",
        "ax = plt.subplot()\n",
        "sns.heatmap(cm, annot=True, ax=ax, fmt='g', cmap='Blues')\n",
        "\n",
        "# labels, title and ticks\n",
        "ax.set_xlabel('Predicted sentiment')\n",
        "ax.set_ylabel('True sentiment')\n",
        "ax.set_title('Confusion Matrix on the Social Media Climate Sentiment Data')"
      ]
    },
    {
      "cell_type": "markdown",
      "id": "3baa3ee9",
      "metadata": {
        "id": "3baa3ee9"
      },
      "source": [
        "## Predict the popularity of the sentiment on the climate change tweets"
      ]
    },
    {
      "cell_type": "markdown",
      "id": "a9234051",
      "metadata": {
        "id": "a9234051"
      },
      "source": [
        "Field \"retweet_count\" can be used to indicate the popularity of the sentiment and is \"hot topic\""
      ]
    },
    {
      "cell_type": "code",
      "execution_count": 45,
      "id": "56709738",
      "metadata": {
        "id": "56709738",
        "outputId": "b3dfbb9c-83f7-44df-982a-03acc33abacd",
        "colab": {
          "base_uri": "https://localhost:8080/"
        }
      },
      "outputs": [
        {
          "output_type": "execute_result",
          "data": {
            "text/plain": [
              "count    163669.000000\n",
              "mean       2779.584967\n",
              "std       11986.976965\n",
              "min           0.000000\n",
              "25%           1.000000\n",
              "50%          17.000000\n",
              "75%         392.000000\n",
              "max      169247.000000\n",
              "Name: retweet_count, dtype: float64"
            ]
          },
          "metadata": {},
          "execution_count": 45
        }
      ],
      "source": [
        "twitter_climate_data.retweet_count.describe()"
      ]
    },
    {
      "cell_type": "markdown",
      "id": "5396437f",
      "metadata": {
        "id": "5396437f"
      },
      "source": [
        "Divided popularity measure into 3 categories based on min, max, and interquartile range:\n",
        "- retweeted 0 to 17 times --> not popular\n",
        "- retweeted 18 to 392 times --> popular\n",
        "- retweeted 393 to 169247 times --> very popular"
      ]
    },
    {
      "cell_type": "code",
      "execution_count": 46,
      "id": "640f9cfa",
      "metadata": {
        "id": "640f9cfa"
      },
      "outputs": [],
      "source": [
        "# add a new column popularity next to the retweet_count\n",
        "category = pd.cut(twitter_climate_data.retweet_count, bins=[-1,17,392,169247],\n",
        "                  labels=['not popular', 'popular', 'very popular'])\n",
        "twitter_climate_data.insert(5, 'popularity', category)"
      ]
    },
    {
      "cell_type": "code",
      "execution_count": 47,
      "id": "a95b1707",
      "metadata": {
        "id": "a95b1707",
        "outputId": "5726f2d5-9fe7-45ea-a5c4-69b97a2f092a",
        "colab": {
          "base_uri": "https://localhost:8080/",
          "height": 606
        }
      },
      "outputs": [
        {
          "output_type": "execute_result",
          "data": {
            "text/plain": [
              "                                            cleaned_tweet  \\\n",
              "0                                        gotta love facts   \n",
              "1       toolangiforest great day action message “ dear...   \n",
              "2       jonkudelka harvey norman reckons climate chang...   \n",
              "3       jayrosennyu skepticism immigration walk hand h...   \n",
              "4       franceinireland th november call creative citi...   \n",
              "...                                                   ...   \n",
              "163664  rrn epa cancels talk climate change agency sci...   \n",
              "163665  time epa pulled scientists climate change conf...   \n",
              "163666         cathmckenna must take action climatechange   \n",
              "163667  time epa pulled scientists climate change conf...   \n",
              "163668  realjameswoods guarantee mainstream media outl...   \n",
              "\n",
              "                                  cleaned_tweet_tokenized  sentiment  \\\n",
              "0                                  [got, ta, love, facts]     0.6369   \n",
              "1       [toolangiforest, great, day, action, message, ...     0.8805   \n",
              "2       [jonkudelka, harvey, norman, reckons, climate,...     0.0000   \n",
              "3       [jayrosennyu, skepticism, immigration, walk, h...     0.5267   \n",
              "4       [franceinireland, th, november, call, creative...     0.4939   \n",
              "...                                                   ...        ...   \n",
              "163664  [rrn, epa, cancels, talk, climate, change, age...    -0.2263   \n",
              "163665  [time, epa, pulled, scientists, climate, chang...     0.0000   \n",
              "163666   [cathmckenna, must, take, action, climatechange]     0.0000   \n",
              "163667  [time, epa, pulled, scientists, climate, chang...     0.0000   \n",
              "163668  [realjameswoods, guarantee, mainstream, media,...     0.2500   \n",
              "\n",
              "       sentiment_label created_at_date    popularity  retweet_count  \\\n",
              "0                    1       8/13/2018   not popular              0   \n",
              "1                    1       8/13/2018       popular             35   \n",
              "2                    0       8/13/2018   not popular              0   \n",
              "3                    1       8/13/2018       popular             52   \n",
              "4                    1       8/13/2018   not popular             16   \n",
              "...                ...             ...           ...            ...   \n",
              "163664              -1      10/23/2017   not popular              0   \n",
              "163665               0      10/23/2017       popular             78   \n",
              "163666               0      10/23/2017       popular             21   \n",
              "163667               0      10/23/2017       popular            125   \n",
              "163668               1      10/23/2017  very popular           2430   \n",
              "\n",
              "       relevant_words    Others Ecological Economical  \n",
              "0                      positive                        \n",
              "1                                 positive             \n",
              "2             neutral              neutral             \n",
              "3                                 positive             \n",
              "4                      positive                        \n",
              "...               ...       ...        ...        ...  \n",
              "163664                            negative             \n",
              "163665                             neutral    neutral  \n",
              "163666                  neutral                        \n",
              "163667                             neutral    neutral  \n",
              "163668                 positive                        \n",
              "\n",
              "[163669 rows x 11 columns]"
            ],
            "text/html": [
              "\n",
              "\n",
              "  <div id=\"df-99f218fd-8577-46d8-a275-4f25acfd49a6\">\n",
              "    <div class=\"colab-df-container\">\n",
              "      <div>\n",
              "<style scoped>\n",
              "    .dataframe tbody tr th:only-of-type {\n",
              "        vertical-align: middle;\n",
              "    }\n",
              "\n",
              "    .dataframe tbody tr th {\n",
              "        vertical-align: top;\n",
              "    }\n",
              "\n",
              "    .dataframe thead th {\n",
              "        text-align: right;\n",
              "    }\n",
              "</style>\n",
              "<table border=\"1\" class=\"dataframe\">\n",
              "  <thead>\n",
              "    <tr style=\"text-align: right;\">\n",
              "      <th></th>\n",
              "      <th>cleaned_tweet</th>\n",
              "      <th>cleaned_tweet_tokenized</th>\n",
              "      <th>sentiment</th>\n",
              "      <th>sentiment_label</th>\n",
              "      <th>created_at_date</th>\n",
              "      <th>popularity</th>\n",
              "      <th>retweet_count</th>\n",
              "      <th>relevant_words</th>\n",
              "      <th>Others</th>\n",
              "      <th>Ecological</th>\n",
              "      <th>Economical</th>\n",
              "    </tr>\n",
              "  </thead>\n",
              "  <tbody>\n",
              "    <tr>\n",
              "      <th>0</th>\n",
              "      <td>gotta love facts</td>\n",
              "      <td>[got, ta, love, facts]</td>\n",
              "      <td>0.6369</td>\n",
              "      <td>1</td>\n",
              "      <td>8/13/2018</td>\n",
              "      <td>not popular</td>\n",
              "      <td>0</td>\n",
              "      <td></td>\n",
              "      <td>positive</td>\n",
              "      <td></td>\n",
              "      <td></td>\n",
              "    </tr>\n",
              "    <tr>\n",
              "      <th>1</th>\n",
              "      <td>toolangiforest great day action message “ dear...</td>\n",
              "      <td>[toolangiforest, great, day, action, message, ...</td>\n",
              "      <td>0.8805</td>\n",
              "      <td>1</td>\n",
              "      <td>8/13/2018</td>\n",
              "      <td>popular</td>\n",
              "      <td>35</td>\n",
              "      <td></td>\n",
              "      <td></td>\n",
              "      <td>positive</td>\n",
              "      <td></td>\n",
              "    </tr>\n",
              "    <tr>\n",
              "      <th>2</th>\n",
              "      <td>jonkudelka harvey norman reckons climate chang...</td>\n",
              "      <td>[jonkudelka, harvey, norman, reckons, climate,...</td>\n",
              "      <td>0.0000</td>\n",
              "      <td>0</td>\n",
              "      <td>8/13/2018</td>\n",
              "      <td>not popular</td>\n",
              "      <td>0</td>\n",
              "      <td>neutral</td>\n",
              "      <td></td>\n",
              "      <td>neutral</td>\n",
              "      <td></td>\n",
              "    </tr>\n",
              "    <tr>\n",
              "      <th>3</th>\n",
              "      <td>jayrosennyu skepticism immigration walk hand h...</td>\n",
              "      <td>[jayrosennyu, skepticism, immigration, walk, h...</td>\n",
              "      <td>0.5267</td>\n",
              "      <td>1</td>\n",
              "      <td>8/13/2018</td>\n",
              "      <td>popular</td>\n",
              "      <td>52</td>\n",
              "      <td></td>\n",
              "      <td></td>\n",
              "      <td>positive</td>\n",
              "      <td></td>\n",
              "    </tr>\n",
              "    <tr>\n",
              "      <th>4</th>\n",
              "      <td>franceinireland th november call creative citi...</td>\n",
              "      <td>[franceinireland, th, november, call, creative...</td>\n",
              "      <td>0.4939</td>\n",
              "      <td>1</td>\n",
              "      <td>8/13/2018</td>\n",
              "      <td>not popular</td>\n",
              "      <td>16</td>\n",
              "      <td></td>\n",
              "      <td>positive</td>\n",
              "      <td></td>\n",
              "      <td></td>\n",
              "    </tr>\n",
              "    <tr>\n",
              "      <th>...</th>\n",
              "      <td>...</td>\n",
              "      <td>...</td>\n",
              "      <td>...</td>\n",
              "      <td>...</td>\n",
              "      <td>...</td>\n",
              "      <td>...</td>\n",
              "      <td>...</td>\n",
              "      <td>...</td>\n",
              "      <td>...</td>\n",
              "      <td>...</td>\n",
              "      <td>...</td>\n",
              "    </tr>\n",
              "    <tr>\n",
              "      <th>163664</th>\n",
              "      <td>rrn epa cancels talk climate change agency sci...</td>\n",
              "      <td>[rrn, epa, cancels, talk, climate, change, age...</td>\n",
              "      <td>-0.2263</td>\n",
              "      <td>-1</td>\n",
              "      <td>10/23/2017</td>\n",
              "      <td>not popular</td>\n",
              "      <td>0</td>\n",
              "      <td></td>\n",
              "      <td></td>\n",
              "      <td>negative</td>\n",
              "      <td></td>\n",
              "    </tr>\n",
              "    <tr>\n",
              "      <th>163665</th>\n",
              "      <td>time epa pulled scientists climate change conf...</td>\n",
              "      <td>[time, epa, pulled, scientists, climate, chang...</td>\n",
              "      <td>0.0000</td>\n",
              "      <td>0</td>\n",
              "      <td>10/23/2017</td>\n",
              "      <td>popular</td>\n",
              "      <td>78</td>\n",
              "      <td></td>\n",
              "      <td></td>\n",
              "      <td>neutral</td>\n",
              "      <td>neutral</td>\n",
              "    </tr>\n",
              "    <tr>\n",
              "      <th>163666</th>\n",
              "      <td>cathmckenna must take action climatechange</td>\n",
              "      <td>[cathmckenna, must, take, action, climatechange]</td>\n",
              "      <td>0.0000</td>\n",
              "      <td>0</td>\n",
              "      <td>10/23/2017</td>\n",
              "      <td>popular</td>\n",
              "      <td>21</td>\n",
              "      <td></td>\n",
              "      <td>neutral</td>\n",
              "      <td></td>\n",
              "      <td></td>\n",
              "    </tr>\n",
              "    <tr>\n",
              "      <th>163667</th>\n",
              "      <td>time epa pulled scientists climate change conf...</td>\n",
              "      <td>[time, epa, pulled, scientists, climate, chang...</td>\n",
              "      <td>0.0000</td>\n",
              "      <td>0</td>\n",
              "      <td>10/23/2017</td>\n",
              "      <td>popular</td>\n",
              "      <td>125</td>\n",
              "      <td></td>\n",
              "      <td></td>\n",
              "      <td>neutral</td>\n",
              "      <td>neutral</td>\n",
              "    </tr>\n",
              "    <tr>\n",
              "      <th>163668</th>\n",
              "      <td>realjameswoods guarantee mainstream media outl...</td>\n",
              "      <td>[realjameswoods, guarantee, mainstream, media,...</td>\n",
              "      <td>0.2500</td>\n",
              "      <td>1</td>\n",
              "      <td>10/23/2017</td>\n",
              "      <td>very popular</td>\n",
              "      <td>2430</td>\n",
              "      <td></td>\n",
              "      <td>positive</td>\n",
              "      <td></td>\n",
              "      <td></td>\n",
              "    </tr>\n",
              "  </tbody>\n",
              "</table>\n",
              "<p>163669 rows × 11 columns</p>\n",
              "</div>\n",
              "      <button class=\"colab-df-convert\" onclick=\"convertToInteractive('df-99f218fd-8577-46d8-a275-4f25acfd49a6')\"\n",
              "              title=\"Convert this dataframe to an interactive table.\"\n",
              "              style=\"display:none;\">\n",
              "\n",
              "  <svg xmlns=\"http://www.w3.org/2000/svg\" height=\"24px\"viewBox=\"0 0 24 24\"\n",
              "       width=\"24px\">\n",
              "    <path d=\"M0 0h24v24H0V0z\" fill=\"none\"/>\n",
              "    <path d=\"M18.56 5.44l.94 2.06.94-2.06 2.06-.94-2.06-.94-.94-2.06-.94 2.06-2.06.94zm-11 1L8.5 8.5l.94-2.06 2.06-.94-2.06-.94L8.5 2.5l-.94 2.06-2.06.94zm10 10l.94 2.06.94-2.06 2.06-.94-2.06-.94-.94-2.06-.94 2.06-2.06.94z\"/><path d=\"M17.41 7.96l-1.37-1.37c-.4-.4-.92-.59-1.43-.59-.52 0-1.04.2-1.43.59L10.3 9.45l-7.72 7.72c-.78.78-.78 2.05 0 2.83L4 21.41c.39.39.9.59 1.41.59.51 0 1.02-.2 1.41-.59l7.78-7.78 2.81-2.81c.8-.78.8-2.07 0-2.86zM5.41 20L4 18.59l7.72-7.72 1.47 1.35L5.41 20z\"/>\n",
              "  </svg>\n",
              "      </button>\n",
              "\n",
              "\n",
              "\n",
              "    <div id=\"df-149344a2-be7c-4637-b470-7795560f5e57\">\n",
              "      <button class=\"colab-df-quickchart\" onclick=\"quickchart('df-149344a2-be7c-4637-b470-7795560f5e57')\"\n",
              "              title=\"Suggest charts.\"\n",
              "              style=\"display:none;\">\n",
              "\n",
              "<svg xmlns=\"http://www.w3.org/2000/svg\" height=\"24px\"viewBox=\"0 0 24 24\"\n",
              "     width=\"24px\">\n",
              "    <g>\n",
              "        <path d=\"M19 3H5c-1.1 0-2 .9-2 2v14c0 1.1.9 2 2 2h14c1.1 0 2-.9 2-2V5c0-1.1-.9-2-2-2zM9 17H7v-7h2v7zm4 0h-2V7h2v10zm4 0h-2v-4h2v4z\"/>\n",
              "    </g>\n",
              "</svg>\n",
              "      </button>\n",
              "    </div>\n",
              "\n",
              "<style>\n",
              "  .colab-df-quickchart {\n",
              "    background-color: #E8F0FE;\n",
              "    border: none;\n",
              "    border-radius: 50%;\n",
              "    cursor: pointer;\n",
              "    display: none;\n",
              "    fill: #1967D2;\n",
              "    height: 32px;\n",
              "    padding: 0 0 0 0;\n",
              "    width: 32px;\n",
              "  }\n",
              "\n",
              "  .colab-df-quickchart:hover {\n",
              "    background-color: #E2EBFA;\n",
              "    box-shadow: 0px 1px 2px rgba(60, 64, 67, 0.3), 0px 1px 3px 1px rgba(60, 64, 67, 0.15);\n",
              "    fill: #174EA6;\n",
              "  }\n",
              "\n",
              "  [theme=dark] .colab-df-quickchart {\n",
              "    background-color: #3B4455;\n",
              "    fill: #D2E3FC;\n",
              "  }\n",
              "\n",
              "  [theme=dark] .colab-df-quickchart:hover {\n",
              "    background-color: #434B5C;\n",
              "    box-shadow: 0px 1px 3px 1px rgba(0, 0, 0, 0.15);\n",
              "    filter: drop-shadow(0px 1px 2px rgba(0, 0, 0, 0.3));\n",
              "    fill: #FFFFFF;\n",
              "  }\n",
              "</style>\n",
              "\n",
              "    <script>\n",
              "      async function quickchart(key) {\n",
              "        const containerElement = document.querySelector('#' + key);\n",
              "        const charts = await google.colab.kernel.invokeFunction(\n",
              "            'suggestCharts', [key], {});\n",
              "      }\n",
              "    </script>\n",
              "\n",
              "      <script>\n",
              "\n",
              "function displayQuickchartButton(domScope) {\n",
              "  let quickchartButtonEl =\n",
              "    domScope.querySelector('#df-149344a2-be7c-4637-b470-7795560f5e57 button.colab-df-quickchart');\n",
              "  quickchartButtonEl.style.display =\n",
              "    google.colab.kernel.accessAllowed ? 'block' : 'none';\n",
              "}\n",
              "\n",
              "        displayQuickchartButton(document);\n",
              "      </script>\n",
              "      <style>\n",
              "    .colab-df-container {\n",
              "      display:flex;\n",
              "      flex-wrap:wrap;\n",
              "      gap: 12px;\n",
              "    }\n",
              "\n",
              "    .colab-df-convert {\n",
              "      background-color: #E8F0FE;\n",
              "      border: none;\n",
              "      border-radius: 50%;\n",
              "      cursor: pointer;\n",
              "      display: none;\n",
              "      fill: #1967D2;\n",
              "      height: 32px;\n",
              "      padding: 0 0 0 0;\n",
              "      width: 32px;\n",
              "    }\n",
              "\n",
              "    .colab-df-convert:hover {\n",
              "      background-color: #E2EBFA;\n",
              "      box-shadow: 0px 1px 2px rgba(60, 64, 67, 0.3), 0px 1px 3px 1px rgba(60, 64, 67, 0.15);\n",
              "      fill: #174EA6;\n",
              "    }\n",
              "\n",
              "    [theme=dark] .colab-df-convert {\n",
              "      background-color: #3B4455;\n",
              "      fill: #D2E3FC;\n",
              "    }\n",
              "\n",
              "    [theme=dark] .colab-df-convert:hover {\n",
              "      background-color: #434B5C;\n",
              "      box-shadow: 0px 1px 3px 1px rgba(0, 0, 0, 0.15);\n",
              "      filter: drop-shadow(0px 1px 2px rgba(0, 0, 0, 0.3));\n",
              "      fill: #FFFFFF;\n",
              "    }\n",
              "  </style>\n",
              "\n",
              "      <script>\n",
              "        const buttonEl =\n",
              "          document.querySelector('#df-99f218fd-8577-46d8-a275-4f25acfd49a6 button.colab-df-convert');\n",
              "        buttonEl.style.display =\n",
              "          google.colab.kernel.accessAllowed ? 'block' : 'none';\n",
              "\n",
              "        async function convertToInteractive(key) {\n",
              "          const element = document.querySelector('#df-99f218fd-8577-46d8-a275-4f25acfd49a6');\n",
              "          const dataTable =\n",
              "            await google.colab.kernel.invokeFunction('convertToInteractive',\n",
              "                                                     [key], {});\n",
              "          if (!dataTable) return;\n",
              "\n",
              "          const docLinkHtml = 'Like what you see? Visit the ' +\n",
              "            '<a target=\"_blank\" href=https://colab.research.google.com/notebooks/data_table.ipynb>data table notebook</a>'\n",
              "            + ' to learn more about interactive tables.';\n",
              "          element.innerHTML = '';\n",
              "          dataTable['output_type'] = 'display_data';\n",
              "          await google.colab.output.renderOutput(dataTable, element);\n",
              "          const docLink = document.createElement('div');\n",
              "          docLink.innerHTML = docLinkHtml;\n",
              "          element.appendChild(docLink);\n",
              "        }\n",
              "      </script>\n",
              "    </div>\n",
              "  </div>\n"
            ]
          },
          "metadata": {},
          "execution_count": 47
        }
      ],
      "source": [
        "twitter_climate_data"
      ]
    },
    {
      "cell_type": "code",
      "execution_count": 48,
      "id": "949484b8",
      "metadata": {
        "id": "949484b8",
        "outputId": "660b8465-ab4b-4f7a-9649-59c77e673911",
        "colab": {
          "base_uri": "https://localhost:8080/"
        }
      },
      "outputs": [
        {
          "output_type": "execute_result",
          "data": {
            "text/plain": [
              "not popular     82039\n",
              "very popular    40915\n",
              "popular         40715\n",
              "Name: popularity, dtype: int64"
            ]
          },
          "metadata": {},
          "execution_count": 48
        }
      ],
      "source": [
        "# Number of samples in each category\n",
        "twitter_climate_data.popularity.value_counts()"
      ]
    },
    {
      "cell_type": "markdown",
      "id": "c2aeda90",
      "metadata": {
        "id": "c2aeda90"
      },
      "source": [
        "# Model preparation"
      ]
    },
    {
      "cell_type": "markdown",
      "id": "751d8837",
      "metadata": {
        "id": "751d8837"
      },
      "source": [
        "### Create Bag of Words features"
      ]
    },
    {
      "cell_type": "code",
      "execution_count": 49,
      "id": "0ae9c8a3",
      "metadata": {
        "id": "0ae9c8a3",
        "outputId": "0a1fc34f-a3f5-42e8-f4ac-a6c02d7a61c5",
        "colab": {
          "base_uri": "https://localhost:8080/",
          "height": 297
        }
      },
      "outputs": [
        {
          "output_type": "execute_result",
          "data": {
            "text/plain": [
              "   abbott  abc  ability  able  abortion  absolutely  ac  accept  access  \\\n",
              "0       0    0        0     0         0           0   0       0       0   \n",
              "1       0    0        0     0         0           0   0       0       0   \n",
              "2       0    0        0     0         0           0   0       0       0   \n",
              "3       0    0        0     0         0           0   0       0       0   \n",
              "4       0    0        0     0         0           0   0       0       0   \n",
              "\n",
              "   according  ...  zinke insists  zinke insists california  \\\n",
              "0          0  ...              0                         0   \n",
              "1          0  ...              0                         0   \n",
              "2          0  ...              0                         0   \n",
              "3          0  ...              0                         0   \n",
              "4          0  ...              0                         0   \n",
              "\n",
              "   zinke recordbreaking  zinke recordbreaking wildfires  zinke says  \\\n",
              "0                     0                               0           0   \n",
              "1                     0                               0           0   \n",
              "2                     0                               0           0   \n",
              "3                     0                               0           0   \n",
              "4                     0                               0           0   \n",
              "\n",
              "   zinke says climate  งจ  ตว  อง  แต  \n",
              "0                   0   0   0   0   0  \n",
              "1                   0   0   0   0   0  \n",
              "2                   0   0   0   0   0  \n",
              "3                   0   0   0   0   0  \n",
              "4                   0   0   0   0   0  \n",
              "\n",
              "[5 rows x 3000 columns]"
            ],
            "text/html": [
              "\n",
              "\n",
              "  <div id=\"df-eb79b72c-35f3-4c9f-b52f-7d9f818da39c\">\n",
              "    <div class=\"colab-df-container\">\n",
              "      <div>\n",
              "<style scoped>\n",
              "    .dataframe tbody tr th:only-of-type {\n",
              "        vertical-align: middle;\n",
              "    }\n",
              "\n",
              "    .dataframe tbody tr th {\n",
              "        vertical-align: top;\n",
              "    }\n",
              "\n",
              "    .dataframe thead th {\n",
              "        text-align: right;\n",
              "    }\n",
              "</style>\n",
              "<table border=\"1\" class=\"dataframe\">\n",
              "  <thead>\n",
              "    <tr style=\"text-align: right;\">\n",
              "      <th></th>\n",
              "      <th>abbott</th>\n",
              "      <th>abc</th>\n",
              "      <th>ability</th>\n",
              "      <th>able</th>\n",
              "      <th>abortion</th>\n",
              "      <th>absolutely</th>\n",
              "      <th>ac</th>\n",
              "      <th>accept</th>\n",
              "      <th>access</th>\n",
              "      <th>according</th>\n",
              "      <th>...</th>\n",
              "      <th>zinke insists</th>\n",
              "      <th>zinke insists california</th>\n",
              "      <th>zinke recordbreaking</th>\n",
              "      <th>zinke recordbreaking wildfires</th>\n",
              "      <th>zinke says</th>\n",
              "      <th>zinke says climate</th>\n",
              "      <th>งจ</th>\n",
              "      <th>ตว</th>\n",
              "      <th>อง</th>\n",
              "      <th>แต</th>\n",
              "    </tr>\n",
              "  </thead>\n",
              "  <tbody>\n",
              "    <tr>\n",
              "      <th>0</th>\n",
              "      <td>0</td>\n",
              "      <td>0</td>\n",
              "      <td>0</td>\n",
              "      <td>0</td>\n",
              "      <td>0</td>\n",
              "      <td>0</td>\n",
              "      <td>0</td>\n",
              "      <td>0</td>\n",
              "      <td>0</td>\n",
              "      <td>0</td>\n",
              "      <td>...</td>\n",
              "      <td>0</td>\n",
              "      <td>0</td>\n",
              "      <td>0</td>\n",
              "      <td>0</td>\n",
              "      <td>0</td>\n",
              "      <td>0</td>\n",
              "      <td>0</td>\n",
              "      <td>0</td>\n",
              "      <td>0</td>\n",
              "      <td>0</td>\n",
              "    </tr>\n",
              "    <tr>\n",
              "      <th>1</th>\n",
              "      <td>0</td>\n",
              "      <td>0</td>\n",
              "      <td>0</td>\n",
              "      <td>0</td>\n",
              "      <td>0</td>\n",
              "      <td>0</td>\n",
              "      <td>0</td>\n",
              "      <td>0</td>\n",
              "      <td>0</td>\n",
              "      <td>0</td>\n",
              "      <td>...</td>\n",
              "      <td>0</td>\n",
              "      <td>0</td>\n",
              "      <td>0</td>\n",
              "      <td>0</td>\n",
              "      <td>0</td>\n",
              "      <td>0</td>\n",
              "      <td>0</td>\n",
              "      <td>0</td>\n",
              "      <td>0</td>\n",
              "      <td>0</td>\n",
              "    </tr>\n",
              "    <tr>\n",
              "      <th>2</th>\n",
              "      <td>0</td>\n",
              "      <td>0</td>\n",
              "      <td>0</td>\n",
              "      <td>0</td>\n",
              "      <td>0</td>\n",
              "      <td>0</td>\n",
              "      <td>0</td>\n",
              "      <td>0</td>\n",
              "      <td>0</td>\n",
              "      <td>0</td>\n",
              "      <td>...</td>\n",
              "      <td>0</td>\n",
              "      <td>0</td>\n",
              "      <td>0</td>\n",
              "      <td>0</td>\n",
              "      <td>0</td>\n",
              "      <td>0</td>\n",
              "      <td>0</td>\n",
              "      <td>0</td>\n",
              "      <td>0</td>\n",
              "      <td>0</td>\n",
              "    </tr>\n",
              "    <tr>\n",
              "      <th>3</th>\n",
              "      <td>0</td>\n",
              "      <td>0</td>\n",
              "      <td>0</td>\n",
              "      <td>0</td>\n",
              "      <td>0</td>\n",
              "      <td>0</td>\n",
              "      <td>0</td>\n",
              "      <td>0</td>\n",
              "      <td>0</td>\n",
              "      <td>0</td>\n",
              "      <td>...</td>\n",
              "      <td>0</td>\n",
              "      <td>0</td>\n",
              "      <td>0</td>\n",
              "      <td>0</td>\n",
              "      <td>0</td>\n",
              "      <td>0</td>\n",
              "      <td>0</td>\n",
              "      <td>0</td>\n",
              "      <td>0</td>\n",
              "      <td>0</td>\n",
              "    </tr>\n",
              "    <tr>\n",
              "      <th>4</th>\n",
              "      <td>0</td>\n",
              "      <td>0</td>\n",
              "      <td>0</td>\n",
              "      <td>0</td>\n",
              "      <td>0</td>\n",
              "      <td>0</td>\n",
              "      <td>0</td>\n",
              "      <td>0</td>\n",
              "      <td>0</td>\n",
              "      <td>0</td>\n",
              "      <td>...</td>\n",
              "      <td>0</td>\n",
              "      <td>0</td>\n",
              "      <td>0</td>\n",
              "      <td>0</td>\n",
              "      <td>0</td>\n",
              "      <td>0</td>\n",
              "      <td>0</td>\n",
              "      <td>0</td>\n",
              "      <td>0</td>\n",
              "      <td>0</td>\n",
              "    </tr>\n",
              "  </tbody>\n",
              "</table>\n",
              "<p>5 rows × 3000 columns</p>\n",
              "</div>\n",
              "      <button class=\"colab-df-convert\" onclick=\"convertToInteractive('df-eb79b72c-35f3-4c9f-b52f-7d9f818da39c')\"\n",
              "              title=\"Convert this dataframe to an interactive table.\"\n",
              "              style=\"display:none;\">\n",
              "\n",
              "  <svg xmlns=\"http://www.w3.org/2000/svg\" height=\"24px\"viewBox=\"0 0 24 24\"\n",
              "       width=\"24px\">\n",
              "    <path d=\"M0 0h24v24H0V0z\" fill=\"none\"/>\n",
              "    <path d=\"M18.56 5.44l.94 2.06.94-2.06 2.06-.94-2.06-.94-.94-2.06-.94 2.06-2.06.94zm-11 1L8.5 8.5l.94-2.06 2.06-.94-2.06-.94L8.5 2.5l-.94 2.06-2.06.94zm10 10l.94 2.06.94-2.06 2.06-.94-2.06-.94-.94-2.06-.94 2.06-2.06.94z\"/><path d=\"M17.41 7.96l-1.37-1.37c-.4-.4-.92-.59-1.43-.59-.52 0-1.04.2-1.43.59L10.3 9.45l-7.72 7.72c-.78.78-.78 2.05 0 2.83L4 21.41c.39.39.9.59 1.41.59.51 0 1.02-.2 1.41-.59l7.78-7.78 2.81-2.81c.8-.78.8-2.07 0-2.86zM5.41 20L4 18.59l7.72-7.72 1.47 1.35L5.41 20z\"/>\n",
              "  </svg>\n",
              "      </button>\n",
              "\n",
              "\n",
              "\n",
              "    <div id=\"df-8584794c-00c8-4e17-a53e-408f7409b0b5\">\n",
              "      <button class=\"colab-df-quickchart\" onclick=\"quickchart('df-8584794c-00c8-4e17-a53e-408f7409b0b5')\"\n",
              "              title=\"Suggest charts.\"\n",
              "              style=\"display:none;\">\n",
              "\n",
              "<svg xmlns=\"http://www.w3.org/2000/svg\" height=\"24px\"viewBox=\"0 0 24 24\"\n",
              "     width=\"24px\">\n",
              "    <g>\n",
              "        <path d=\"M19 3H5c-1.1 0-2 .9-2 2v14c0 1.1.9 2 2 2h14c1.1 0 2-.9 2-2V5c0-1.1-.9-2-2-2zM9 17H7v-7h2v7zm4 0h-2V7h2v10zm4 0h-2v-4h2v4z\"/>\n",
              "    </g>\n",
              "</svg>\n",
              "      </button>\n",
              "    </div>\n",
              "\n",
              "<style>\n",
              "  .colab-df-quickchart {\n",
              "    background-color: #E8F0FE;\n",
              "    border: none;\n",
              "    border-radius: 50%;\n",
              "    cursor: pointer;\n",
              "    display: none;\n",
              "    fill: #1967D2;\n",
              "    height: 32px;\n",
              "    padding: 0 0 0 0;\n",
              "    width: 32px;\n",
              "  }\n",
              "\n",
              "  .colab-df-quickchart:hover {\n",
              "    background-color: #E2EBFA;\n",
              "    box-shadow: 0px 1px 2px rgba(60, 64, 67, 0.3), 0px 1px 3px 1px rgba(60, 64, 67, 0.15);\n",
              "    fill: #174EA6;\n",
              "  }\n",
              "\n",
              "  [theme=dark] .colab-df-quickchart {\n",
              "    background-color: #3B4455;\n",
              "    fill: #D2E3FC;\n",
              "  }\n",
              "\n",
              "  [theme=dark] .colab-df-quickchart:hover {\n",
              "    background-color: #434B5C;\n",
              "    box-shadow: 0px 1px 3px 1px rgba(0, 0, 0, 0.15);\n",
              "    filter: drop-shadow(0px 1px 2px rgba(0, 0, 0, 0.3));\n",
              "    fill: #FFFFFF;\n",
              "  }\n",
              "</style>\n",
              "\n",
              "    <script>\n",
              "      async function quickchart(key) {\n",
              "        const containerElement = document.querySelector('#' + key);\n",
              "        const charts = await google.colab.kernel.invokeFunction(\n",
              "            'suggestCharts', [key], {});\n",
              "      }\n",
              "    </script>\n",
              "\n",
              "      <script>\n",
              "\n",
              "function displayQuickchartButton(domScope) {\n",
              "  let quickchartButtonEl =\n",
              "    domScope.querySelector('#df-8584794c-00c8-4e17-a53e-408f7409b0b5 button.colab-df-quickchart');\n",
              "  quickchartButtonEl.style.display =\n",
              "    google.colab.kernel.accessAllowed ? 'block' : 'none';\n",
              "}\n",
              "\n",
              "        displayQuickchartButton(document);\n",
              "      </script>\n",
              "      <style>\n",
              "    .colab-df-container {\n",
              "      display:flex;\n",
              "      flex-wrap:wrap;\n",
              "      gap: 12px;\n",
              "    }\n",
              "\n",
              "    .colab-df-convert {\n",
              "      background-color: #E8F0FE;\n",
              "      border: none;\n",
              "      border-radius: 50%;\n",
              "      cursor: pointer;\n",
              "      display: none;\n",
              "      fill: #1967D2;\n",
              "      height: 32px;\n",
              "      padding: 0 0 0 0;\n",
              "      width: 32px;\n",
              "    }\n",
              "\n",
              "    .colab-df-convert:hover {\n",
              "      background-color: #E2EBFA;\n",
              "      box-shadow: 0px 1px 2px rgba(60, 64, 67, 0.3), 0px 1px 3px 1px rgba(60, 64, 67, 0.15);\n",
              "      fill: #174EA6;\n",
              "    }\n",
              "\n",
              "    [theme=dark] .colab-df-convert {\n",
              "      background-color: #3B4455;\n",
              "      fill: #D2E3FC;\n",
              "    }\n",
              "\n",
              "    [theme=dark] .colab-df-convert:hover {\n",
              "      background-color: #434B5C;\n",
              "      box-shadow: 0px 1px 3px 1px rgba(0, 0, 0, 0.15);\n",
              "      filter: drop-shadow(0px 1px 2px rgba(0, 0, 0, 0.3));\n",
              "      fill: #FFFFFF;\n",
              "    }\n",
              "  </style>\n",
              "\n",
              "      <script>\n",
              "        const buttonEl =\n",
              "          document.querySelector('#df-eb79b72c-35f3-4c9f-b52f-7d9f818da39c button.colab-df-convert');\n",
              "        buttonEl.style.display =\n",
              "          google.colab.kernel.accessAllowed ? 'block' : 'none';\n",
              "\n",
              "        async function convertToInteractive(key) {\n",
              "          const element = document.querySelector('#df-eb79b72c-35f3-4c9f-b52f-7d9f818da39c');\n",
              "          const dataTable =\n",
              "            await google.colab.kernel.invokeFunction('convertToInteractive',\n",
              "                                                     [key], {});\n",
              "          if (!dataTable) return;\n",
              "\n",
              "          const docLinkHtml = 'Like what you see? Visit the ' +\n",
              "            '<a target=\"_blank\" href=https://colab.research.google.com/notebooks/data_table.ipynb>data table notebook</a>'\n",
              "            + ' to learn more about interactive tables.';\n",
              "          element.innerHTML = '';\n",
              "          dataTable['output_type'] = 'display_data';\n",
              "          await google.colab.output.renderOutput(dataTable, element);\n",
              "          const docLink = document.createElement('div');\n",
              "          docLink.innerHTML = docLinkHtml;\n",
              "          element.appendChild(docLink);\n",
              "        }\n",
              "      </script>\n",
              "    </div>\n",
              "  </div>\n"
            ]
          },
          "metadata": {},
          "execution_count": 49
        }
      ],
      "source": [
        "# Create Bag of Words.\n",
        "vect_bow = CountVectorizer(max_features=3000, ngram_range=(1, 3), stop_words=['ht', 'htt', 'http', 'https', 'httpst'])\n",
        "vect_bow.fit(twitter_climate_data.cleaned_tweet)\n",
        "X_bow = vect_bow.transform(twitter_climate_data.cleaned_tweet)\n",
        "\n",
        "# Transform back to a dataframe, assign column names\n",
        "X_bow = pd.DataFrame(X_bow.toarray(), columns=vect_bow.get_feature_names_out())\n",
        "\n",
        "# Display first 5 rows of the dataframe\n",
        "X_bow.head()"
      ]
    },
    {
      "cell_type": "code",
      "execution_count": 50,
      "id": "4c1651e9",
      "metadata": {
        "id": "4c1651e9"
      },
      "outputs": [],
      "source": [
        "# convert to sparse matrix\n",
        "X_bow = csr_matrix(X_bow)"
      ]
    },
    {
      "cell_type": "code",
      "execution_count": 51,
      "id": "f7b1ffa9",
      "metadata": {
        "id": "f7b1ffa9"
      },
      "outputs": [],
      "source": [
        "# Train test split and prepare the data for multiple classification algorithms for BOW\n",
        "y_b = twitter_climate_data.popularity\n",
        "X_b = X_bow\n",
        "\n",
        "# Train/test split\n",
        "X_train_b, X_test_b, y_train_b, y_test_b = train_test_split(X_b, y_b, test_size=0.3, random_state=42)"
      ]
    },
    {
      "cell_type": "markdown",
      "id": "e1ee517a",
      "metadata": {
        "id": "e1ee517a"
      },
      "source": [
        "### Create TF-IDF Features"
      ]
    },
    {
      "cell_type": "code",
      "execution_count": 52,
      "id": "3e7b27f8",
      "metadata": {
        "id": "3e7b27f8",
        "outputId": "f02a56c5-d6de-40bb-ce74-ce2d136bd36c",
        "colab": {
          "base_uri": "https://localhost:8080/",
          "height": 297
        }
      },
      "outputs": [
        {
          "output_type": "execute_result",
          "data": {
            "text/plain": [
              "   abbott  abc  ability  able  abortion  absolutely   ac  accept  access  \\\n",
              "0     0.0  0.0      0.0   0.0       0.0         0.0  0.0     0.0     0.0   \n",
              "1     0.0  0.0      0.0   0.0       0.0         0.0  0.0     0.0     0.0   \n",
              "2     0.0  0.0      0.0   0.0       0.0         0.0  0.0     0.0     0.0   \n",
              "3     0.0  0.0      0.0   0.0       0.0         0.0  0.0     0.0     0.0   \n",
              "4     0.0  0.0      0.0   0.0       0.0         0.0  0.0     0.0     0.0   \n",
              "\n",
              "   according  ...  zinke insists  zinke insists california  \\\n",
              "0        0.0  ...            0.0                       0.0   \n",
              "1        0.0  ...            0.0                       0.0   \n",
              "2        0.0  ...            0.0                       0.0   \n",
              "3        0.0  ...            0.0                       0.0   \n",
              "4        0.0  ...            0.0                       0.0   \n",
              "\n",
              "   zinke recordbreaking  zinke recordbreaking wildfires  zinke says  \\\n",
              "0                   0.0                             0.0         0.0   \n",
              "1                   0.0                             0.0         0.0   \n",
              "2                   0.0                             0.0         0.0   \n",
              "3                   0.0                             0.0         0.0   \n",
              "4                   0.0                             0.0         0.0   \n",
              "\n",
              "   zinke says climate   งจ   ตว   อง   แต  \n",
              "0                 0.0  0.0  0.0  0.0  0.0  \n",
              "1                 0.0  0.0  0.0  0.0  0.0  \n",
              "2                 0.0  0.0  0.0  0.0  0.0  \n",
              "3                 0.0  0.0  0.0  0.0  0.0  \n",
              "4                 0.0  0.0  0.0  0.0  0.0  \n",
              "\n",
              "[5 rows x 3000 columns]"
            ],
            "text/html": [
              "\n",
              "\n",
              "  <div id=\"df-0d74b9ed-2483-4848-be99-41db01caad35\">\n",
              "    <div class=\"colab-df-container\">\n",
              "      <div>\n",
              "<style scoped>\n",
              "    .dataframe tbody tr th:only-of-type {\n",
              "        vertical-align: middle;\n",
              "    }\n",
              "\n",
              "    .dataframe tbody tr th {\n",
              "        vertical-align: top;\n",
              "    }\n",
              "\n",
              "    .dataframe thead th {\n",
              "        text-align: right;\n",
              "    }\n",
              "</style>\n",
              "<table border=\"1\" class=\"dataframe\">\n",
              "  <thead>\n",
              "    <tr style=\"text-align: right;\">\n",
              "      <th></th>\n",
              "      <th>abbott</th>\n",
              "      <th>abc</th>\n",
              "      <th>ability</th>\n",
              "      <th>able</th>\n",
              "      <th>abortion</th>\n",
              "      <th>absolutely</th>\n",
              "      <th>ac</th>\n",
              "      <th>accept</th>\n",
              "      <th>access</th>\n",
              "      <th>according</th>\n",
              "      <th>...</th>\n",
              "      <th>zinke insists</th>\n",
              "      <th>zinke insists california</th>\n",
              "      <th>zinke recordbreaking</th>\n",
              "      <th>zinke recordbreaking wildfires</th>\n",
              "      <th>zinke says</th>\n",
              "      <th>zinke says climate</th>\n",
              "      <th>งจ</th>\n",
              "      <th>ตว</th>\n",
              "      <th>อง</th>\n",
              "      <th>แต</th>\n",
              "    </tr>\n",
              "  </thead>\n",
              "  <tbody>\n",
              "    <tr>\n",
              "      <th>0</th>\n",
              "      <td>0.0</td>\n",
              "      <td>0.0</td>\n",
              "      <td>0.0</td>\n",
              "      <td>0.0</td>\n",
              "      <td>0.0</td>\n",
              "      <td>0.0</td>\n",
              "      <td>0.0</td>\n",
              "      <td>0.0</td>\n",
              "      <td>0.0</td>\n",
              "      <td>0.0</td>\n",
              "      <td>...</td>\n",
              "      <td>0.0</td>\n",
              "      <td>0.0</td>\n",
              "      <td>0.0</td>\n",
              "      <td>0.0</td>\n",
              "      <td>0.0</td>\n",
              "      <td>0.0</td>\n",
              "      <td>0.0</td>\n",
              "      <td>0.0</td>\n",
              "      <td>0.0</td>\n",
              "      <td>0.0</td>\n",
              "    </tr>\n",
              "    <tr>\n",
              "      <th>1</th>\n",
              "      <td>0.0</td>\n",
              "      <td>0.0</td>\n",
              "      <td>0.0</td>\n",
              "      <td>0.0</td>\n",
              "      <td>0.0</td>\n",
              "      <td>0.0</td>\n",
              "      <td>0.0</td>\n",
              "      <td>0.0</td>\n",
              "      <td>0.0</td>\n",
              "      <td>0.0</td>\n",
              "      <td>...</td>\n",
              "      <td>0.0</td>\n",
              "      <td>0.0</td>\n",
              "      <td>0.0</td>\n",
              "      <td>0.0</td>\n",
              "      <td>0.0</td>\n",
              "      <td>0.0</td>\n",
              "      <td>0.0</td>\n",
              "      <td>0.0</td>\n",
              "      <td>0.0</td>\n",
              "      <td>0.0</td>\n",
              "    </tr>\n",
              "    <tr>\n",
              "      <th>2</th>\n",
              "      <td>0.0</td>\n",
              "      <td>0.0</td>\n",
              "      <td>0.0</td>\n",
              "      <td>0.0</td>\n",
              "      <td>0.0</td>\n",
              "      <td>0.0</td>\n",
              "      <td>0.0</td>\n",
              "      <td>0.0</td>\n",
              "      <td>0.0</td>\n",
              "      <td>0.0</td>\n",
              "      <td>...</td>\n",
              "      <td>0.0</td>\n",
              "      <td>0.0</td>\n",
              "      <td>0.0</td>\n",
              "      <td>0.0</td>\n",
              "      <td>0.0</td>\n",
              "      <td>0.0</td>\n",
              "      <td>0.0</td>\n",
              "      <td>0.0</td>\n",
              "      <td>0.0</td>\n",
              "      <td>0.0</td>\n",
              "    </tr>\n",
              "    <tr>\n",
              "      <th>3</th>\n",
              "      <td>0.0</td>\n",
              "      <td>0.0</td>\n",
              "      <td>0.0</td>\n",
              "      <td>0.0</td>\n",
              "      <td>0.0</td>\n",
              "      <td>0.0</td>\n",
              "      <td>0.0</td>\n",
              "      <td>0.0</td>\n",
              "      <td>0.0</td>\n",
              "      <td>0.0</td>\n",
              "      <td>...</td>\n",
              "      <td>0.0</td>\n",
              "      <td>0.0</td>\n",
              "      <td>0.0</td>\n",
              "      <td>0.0</td>\n",
              "      <td>0.0</td>\n",
              "      <td>0.0</td>\n",
              "      <td>0.0</td>\n",
              "      <td>0.0</td>\n",
              "      <td>0.0</td>\n",
              "      <td>0.0</td>\n",
              "    </tr>\n",
              "    <tr>\n",
              "      <th>4</th>\n",
              "      <td>0.0</td>\n",
              "      <td>0.0</td>\n",
              "      <td>0.0</td>\n",
              "      <td>0.0</td>\n",
              "      <td>0.0</td>\n",
              "      <td>0.0</td>\n",
              "      <td>0.0</td>\n",
              "      <td>0.0</td>\n",
              "      <td>0.0</td>\n",
              "      <td>0.0</td>\n",
              "      <td>...</td>\n",
              "      <td>0.0</td>\n",
              "      <td>0.0</td>\n",
              "      <td>0.0</td>\n",
              "      <td>0.0</td>\n",
              "      <td>0.0</td>\n",
              "      <td>0.0</td>\n",
              "      <td>0.0</td>\n",
              "      <td>0.0</td>\n",
              "      <td>0.0</td>\n",
              "      <td>0.0</td>\n",
              "    </tr>\n",
              "  </tbody>\n",
              "</table>\n",
              "<p>5 rows × 3000 columns</p>\n",
              "</div>\n",
              "      <button class=\"colab-df-convert\" onclick=\"convertToInteractive('df-0d74b9ed-2483-4848-be99-41db01caad35')\"\n",
              "              title=\"Convert this dataframe to an interactive table.\"\n",
              "              style=\"display:none;\">\n",
              "\n",
              "  <svg xmlns=\"http://www.w3.org/2000/svg\" height=\"24px\"viewBox=\"0 0 24 24\"\n",
              "       width=\"24px\">\n",
              "    <path d=\"M0 0h24v24H0V0z\" fill=\"none\"/>\n",
              "    <path d=\"M18.56 5.44l.94 2.06.94-2.06 2.06-.94-2.06-.94-.94-2.06-.94 2.06-2.06.94zm-11 1L8.5 8.5l.94-2.06 2.06-.94-2.06-.94L8.5 2.5l-.94 2.06-2.06.94zm10 10l.94 2.06.94-2.06 2.06-.94-2.06-.94-.94-2.06-.94 2.06-2.06.94z\"/><path d=\"M17.41 7.96l-1.37-1.37c-.4-.4-.92-.59-1.43-.59-.52 0-1.04.2-1.43.59L10.3 9.45l-7.72 7.72c-.78.78-.78 2.05 0 2.83L4 21.41c.39.39.9.59 1.41.59.51 0 1.02-.2 1.41-.59l7.78-7.78 2.81-2.81c.8-.78.8-2.07 0-2.86zM5.41 20L4 18.59l7.72-7.72 1.47 1.35L5.41 20z\"/>\n",
              "  </svg>\n",
              "      </button>\n",
              "\n",
              "\n",
              "\n",
              "    <div id=\"df-14b90fcb-9440-4ccb-94f3-8cc5973ae366\">\n",
              "      <button class=\"colab-df-quickchart\" onclick=\"quickchart('df-14b90fcb-9440-4ccb-94f3-8cc5973ae366')\"\n",
              "              title=\"Suggest charts.\"\n",
              "              style=\"display:none;\">\n",
              "\n",
              "<svg xmlns=\"http://www.w3.org/2000/svg\" height=\"24px\"viewBox=\"0 0 24 24\"\n",
              "     width=\"24px\">\n",
              "    <g>\n",
              "        <path d=\"M19 3H5c-1.1 0-2 .9-2 2v14c0 1.1.9 2 2 2h14c1.1 0 2-.9 2-2V5c0-1.1-.9-2-2-2zM9 17H7v-7h2v7zm4 0h-2V7h2v10zm4 0h-2v-4h2v4z\"/>\n",
              "    </g>\n",
              "</svg>\n",
              "      </button>\n",
              "    </div>\n",
              "\n",
              "<style>\n",
              "  .colab-df-quickchart {\n",
              "    background-color: #E8F0FE;\n",
              "    border: none;\n",
              "    border-radius: 50%;\n",
              "    cursor: pointer;\n",
              "    display: none;\n",
              "    fill: #1967D2;\n",
              "    height: 32px;\n",
              "    padding: 0 0 0 0;\n",
              "    width: 32px;\n",
              "  }\n",
              "\n",
              "  .colab-df-quickchart:hover {\n",
              "    background-color: #E2EBFA;\n",
              "    box-shadow: 0px 1px 2px rgba(60, 64, 67, 0.3), 0px 1px 3px 1px rgba(60, 64, 67, 0.15);\n",
              "    fill: #174EA6;\n",
              "  }\n",
              "\n",
              "  [theme=dark] .colab-df-quickchart {\n",
              "    background-color: #3B4455;\n",
              "    fill: #D2E3FC;\n",
              "  }\n",
              "\n",
              "  [theme=dark] .colab-df-quickchart:hover {\n",
              "    background-color: #434B5C;\n",
              "    box-shadow: 0px 1px 3px 1px rgba(0, 0, 0, 0.15);\n",
              "    filter: drop-shadow(0px 1px 2px rgba(0, 0, 0, 0.3));\n",
              "    fill: #FFFFFF;\n",
              "  }\n",
              "</style>\n",
              "\n",
              "    <script>\n",
              "      async function quickchart(key) {\n",
              "        const containerElement = document.querySelector('#' + key);\n",
              "        const charts = await google.colab.kernel.invokeFunction(\n",
              "            'suggestCharts', [key], {});\n",
              "      }\n",
              "    </script>\n",
              "\n",
              "      <script>\n",
              "\n",
              "function displayQuickchartButton(domScope) {\n",
              "  let quickchartButtonEl =\n",
              "    domScope.querySelector('#df-14b90fcb-9440-4ccb-94f3-8cc5973ae366 button.colab-df-quickchart');\n",
              "  quickchartButtonEl.style.display =\n",
              "    google.colab.kernel.accessAllowed ? 'block' : 'none';\n",
              "}\n",
              "\n",
              "        displayQuickchartButton(document);\n",
              "      </script>\n",
              "      <style>\n",
              "    .colab-df-container {\n",
              "      display:flex;\n",
              "      flex-wrap:wrap;\n",
              "      gap: 12px;\n",
              "    }\n",
              "\n",
              "    .colab-df-convert {\n",
              "      background-color: #E8F0FE;\n",
              "      border: none;\n",
              "      border-radius: 50%;\n",
              "      cursor: pointer;\n",
              "      display: none;\n",
              "      fill: #1967D2;\n",
              "      height: 32px;\n",
              "      padding: 0 0 0 0;\n",
              "      width: 32px;\n",
              "    }\n",
              "\n",
              "    .colab-df-convert:hover {\n",
              "      background-color: #E2EBFA;\n",
              "      box-shadow: 0px 1px 2px rgba(60, 64, 67, 0.3), 0px 1px 3px 1px rgba(60, 64, 67, 0.15);\n",
              "      fill: #174EA6;\n",
              "    }\n",
              "\n",
              "    [theme=dark] .colab-df-convert {\n",
              "      background-color: #3B4455;\n",
              "      fill: #D2E3FC;\n",
              "    }\n",
              "\n",
              "    [theme=dark] .colab-df-convert:hover {\n",
              "      background-color: #434B5C;\n",
              "      box-shadow: 0px 1px 3px 1px rgba(0, 0, 0, 0.15);\n",
              "      filter: drop-shadow(0px 1px 2px rgba(0, 0, 0, 0.3));\n",
              "      fill: #FFFFFF;\n",
              "    }\n",
              "  </style>\n",
              "\n",
              "      <script>\n",
              "        const buttonEl =\n",
              "          document.querySelector('#df-0d74b9ed-2483-4848-be99-41db01caad35 button.colab-df-convert');\n",
              "        buttonEl.style.display =\n",
              "          google.colab.kernel.accessAllowed ? 'block' : 'none';\n",
              "\n",
              "        async function convertToInteractive(key) {\n",
              "          const element = document.querySelector('#df-0d74b9ed-2483-4848-be99-41db01caad35');\n",
              "          const dataTable =\n",
              "            await google.colab.kernel.invokeFunction('convertToInteractive',\n",
              "                                                     [key], {});\n",
              "          if (!dataTable) return;\n",
              "\n",
              "          const docLinkHtml = 'Like what you see? Visit the ' +\n",
              "            '<a target=\"_blank\" href=https://colab.research.google.com/notebooks/data_table.ipynb>data table notebook</a>'\n",
              "            + ' to learn more about interactive tables.';\n",
              "          element.innerHTML = '';\n",
              "          dataTable['output_type'] = 'display_data';\n",
              "          await google.colab.output.renderOutput(dataTable, element);\n",
              "          const docLink = document.createElement('div');\n",
              "          docLink.innerHTML = docLinkHtml;\n",
              "          element.appendChild(docLink);\n",
              "        }\n",
              "      </script>\n",
              "    </div>\n",
              "  </div>\n"
            ]
          },
          "metadata": {},
          "execution_count": 52
        }
      ],
      "source": [
        "# Create TF-IDF\n",
        "vect_tfidf = TfidfVectorizer(max_features=3000, ngram_range=(1, 3), stop_words=['ht', 'htt', 'http', 'https', 'httpst'])\n",
        "vect_tfidf.fit(twitter_climate_data.cleaned_tweet)\n",
        "X_tfidf = vect_tfidf.transform(twitter_climate_data.cleaned_tweet)\n",
        "\n",
        "# Create a DataFrame\n",
        "X_tfidf = pd.DataFrame(X_tfidf.toarray(), columns=vect_tfidf.get_feature_names_out())\n",
        "\n",
        "# Display first 5 rows of the dataframe\n",
        "X_tfidf.head()"
      ]
    },
    {
      "cell_type": "code",
      "execution_count": 53,
      "id": "277e1c35",
      "metadata": {
        "id": "277e1c35"
      },
      "outputs": [],
      "source": [
        "# convert to sparse matrix\n",
        "X_tfidf = csr_matrix(X_tfidf)"
      ]
    },
    {
      "cell_type": "code",
      "execution_count": 54,
      "id": "adf017d2",
      "metadata": {
        "id": "adf017d2"
      },
      "outputs": [],
      "source": [
        "# Split the tweets randomly into 70% training and 30% test data for TF-IDF.\n",
        "y_t = twitter_climate_data.popularity\n",
        "X_t = X_tfidf\n",
        "\n",
        "# Train/test split\n",
        "X_train_t, X_test_t, y_train_t, y_test_t = train_test_split(X_t, y_t, test_size=0.3, random_state=42)"
      ]
    },
    {
      "cell_type": "markdown",
      "id": "86a06927",
      "metadata": {
        "id": "86a06927"
      },
      "source": [
        "### Run multiple classification algorithms and comparing their accuracy scores"
      ]
    },
    {
      "cell_type": "markdown",
      "id": "804334cc",
      "metadata": {
        "id": "804334cc"
      },
      "source": [
        "#### Accuracy values for BOW"
      ]
    },
    {
      "cell_type": "code",
      "execution_count": 68,
      "id": "304434e7",
      "metadata": {
        "id": "304434e7",
        "outputId": "68cdce67-0d2f-450c-e368-7321223c31a9",
        "colab": {
          "base_uri": "https://localhost:8080/"
        }
      },
      "outputs": [
        {
          "output_type": "stream",
          "name": "stdout",
          "text": [
            "Accuracy of LogisticRegression :  0.7674385450398159\n"
          ]
        }
      ],
      "source": [
        "# Logistic Regression accuracy\n",
        "model = LogisticRegression(max_iter=1000000).fit(X_train_b, y_train_b)\n",
        "y_predicted = model.predict(X_test_b)\n",
        "accuracy = accuracy_score(y_test_b, y_predicted)\n",
        "print('Accuracy of ' + LogisticRegression().__class__.__name__, ': ', accuracy)"
      ]
    },
    {
      "cell_type": "code",
      "execution_count": 69,
      "id": "5fadd502",
      "metadata": {
        "id": "5fadd502",
        "outputId": "63522638-831c-4e81-8b51-aeed5d2ffd4a",
        "colab": {
          "base_uri": "https://localhost:8080/"
        }
      },
      "outputs": [
        {
          "output_type": "stream",
          "name": "stdout",
          "text": [
            "Accuracy of KNeighborsClassifier :  0.8098816724710292\n"
          ]
        }
      ],
      "source": [
        "# KNN accuracy\n",
        "model = KNeighborsClassifier().fit(X_train_b, y_train_b)\n",
        "y_predicted = model.predict(X_test_b)\n",
        "accuracy = accuracy_score(y_test_b, y_predicted)\n",
        "print('Accuracy of ' + KNeighborsClassifier().__class__.__name__, ': ', accuracy)"
      ]
    },
    {
      "cell_type": "code",
      "execution_count": 70,
      "id": "a7a9c21f",
      "metadata": {
        "id": "a7a9c21f",
        "outputId": "47ec49cc-c214-40f6-ee77-f7d89fc27616",
        "colab": {
          "base_uri": "https://localhost:8080/"
        }
      },
      "outputs": [
        {
          "output_type": "stream",
          "name": "stdout",
          "text": [
            "Accuracy of GaussianNB :  0.6958717745056109\n"
          ]
        }
      ],
      "source": [
        "# Naive Bayes accuracy\n",
        "# Note: dense data is required since sparce matrix gave me an error. Used X.toarray() to convert to a dense numpy array.\n",
        "model = GaussianNB().fit(X_train_b.toarray(), y_train_b)\n",
        "y_predicted = model.predict(X_test_b.toarray())\n",
        "accuracy = accuracy_score(y_test_b, y_predicted)\n",
        "print('Accuracy of ' + GaussianNB().__class__.__name__, ': ', accuracy)"
      ]
    },
    {
      "cell_type": "code",
      "execution_count": 71,
      "id": "fde77f2c",
      "metadata": {
        "id": "fde77f2c",
        "outputId": "a3a408c8-a11a-4965-b224-7c88f8394186",
        "colab": {
          "base_uri": "https://localhost:8080/"
        }
      },
      "outputs": [
        {
          "output_type": "stream",
          "name": "stdout",
          "text": [
            "Accuracy of LinearSVC :  0.7641392232337427\n"
          ]
        }
      ],
      "source": [
        "# SVM accuracy\n",
        "model = LinearSVC(max_iter=1000000).fit(X_train_b, y_train_b)\n",
        "y_predicted = model.predict(X_test_b)\n",
        "accuracy = accuracy_score(y_test_b, y_predicted)\n",
        "print('Accuracy of ' + LinearSVC().__class__.__name__, ': ', accuracy)"
      ]
    },
    {
      "cell_type": "code",
      "execution_count": 72,
      "id": "9e745dfa",
      "metadata": {
        "id": "9e745dfa",
        "outputId": "a5be9faa-c629-4137-e8e2-1a805374dc5f",
        "colab": {
          "base_uri": "https://localhost:8080/"
        }
      },
      "outputs": [
        {
          "output_type": "stream",
          "name": "stdout",
          "text": [
            "Accuracy of DecisionTreeClassifier :  0.8379462740066393\n"
          ]
        }
      ],
      "source": [
        "# Decision tree accuracy\n",
        "model = DecisionTreeClassifier().fit(X_train_b, y_train_b)\n",
        "y_predicted = model.predict(X_test_b)\n",
        "accuracy = accuracy_score(y_test_b, y_predicted)\n",
        "print('Accuracy of ' + DecisionTreeClassifier().__class__.__name__, ': ', accuracy)"
      ]
    },
    {
      "cell_type": "code",
      "execution_count": 73,
      "id": "0da698f4",
      "metadata": {
        "id": "0da698f4",
        "outputId": "b0a42fe1-575d-4505-9aa5-5e2b2b070fd2",
        "colab": {
          "base_uri": "https://localhost:8080/"
        }
      },
      "outputs": [
        {
          "output_type": "stream",
          "name": "stdout",
          "text": [
            "Accuracy of RandomForestClassifier :  0.8705321683876092\n"
          ]
        }
      ],
      "source": [
        "# Random Forest accuracy\n",
        "model = RandomForestClassifier().fit(X_train_b, y_train_b)\n",
        "y_predicted = model.predict(X_test_b)\n",
        "accuracy = accuracy_score(y_test_b, y_predicted)\n",
        "print('Accuracy of ' + RandomForestClassifier().__class__.__name__, ': ', accuracy)"
      ]
    },
    {
      "cell_type": "markdown",
      "id": "60428274",
      "metadata": {
        "id": "60428274"
      },
      "source": [
        "#### Accuracy values for TF-IDF"
      ]
    },
    {
      "cell_type": "code",
      "execution_count": 74,
      "id": "a506695e",
      "metadata": {
        "id": "a506695e",
        "outputId": "5329dffb-c890-4dd9-e03a-874907552b70",
        "colab": {
          "base_uri": "https://localhost:8080/"
        }
      },
      "outputs": [
        {
          "output_type": "stream",
          "name": "stdout",
          "text": [
            "Accuracy of LogisticRegression :  0.7601474511720739\n"
          ]
        }
      ],
      "source": [
        "model = LogisticRegression(max_iter=1000000).fit(X_train_t, y_train_t)\n",
        "y_predicted = model.predict(X_test_t)\n",
        "accuracy = accuracy_score(y_test_t, y_predicted)\n",
        "print('Accuracy of ' + LogisticRegression().__class__.__name__, ': ', accuracy)"
      ]
    },
    {
      "cell_type": "code",
      "execution_count": 75,
      "id": "786f72f6",
      "metadata": {
        "id": "786f72f6",
        "outputId": "baca764c-5799-4650-f950-0ab3ec1530a0",
        "colab": {
          "base_uri": "https://localhost:8080/"
        }
      },
      "outputs": [
        {
          "output_type": "stream",
          "name": "stdout",
          "text": [
            "Accuracy of KNeighborsClassifier :  0.8039551129304903\n"
          ]
        }
      ],
      "source": [
        "model = KNeighborsClassifier().fit(X_train_t, y_train_t)\n",
        "y_predicted = model.predict(X_test_t)\n",
        "accuracy = accuracy_score(y_test_t, y_predicted)\n",
        "print('Accuracy of ' + KNeighborsClassifier().__class__.__name__, ': ', accuracy)"
      ]
    },
    {
      "cell_type": "code",
      "execution_count": 76,
      "id": "a6d469cb",
      "metadata": {
        "id": "a6d469cb",
        "outputId": "3bf66932-c32f-4f45-b640-ec39ba941d2c",
        "colab": {
          "base_uri": "https://localhost:8080/"
        }
      },
      "outputs": [
        {
          "output_type": "stream",
          "name": "stdout",
          "text": [
            "Accuracy of GaussianNB :  0.6764831673489339\n"
          ]
        }
      ],
      "source": [
        "# A sparse matrix was passed, but dense data is required. Use X.toarray() to convert to a dense numpy array.\n",
        "model = GaussianNB().fit(X_train_t.toarray(), y_train_t)\n",
        "y_predicted = model.predict(X_test_t.toarray())\n",
        "accuracy = accuracy_score(y_test_t, y_predicted)\n",
        "print('Accuracy of ' + GaussianNB().__class__.__name__, ': ', accuracy)"
      ]
    },
    {
      "cell_type": "code",
      "execution_count": 77,
      "id": "475faaeb",
      "metadata": {
        "id": "475faaeb",
        "outputId": "57639bc4-f0b6-49cc-c8bf-ac791f016be9",
        "colab": {
          "base_uri": "https://localhost:8080/"
        }
      },
      "outputs": [
        {
          "output_type": "stream",
          "name": "stdout",
          "text": [
            "Accuracy of LinearSVC :  0.7592717052605853\n"
          ]
        }
      ],
      "source": [
        "model = LinearSVC(max_iter=1000000).fit(X_train_t, y_train_t)\n",
        "y_predicted = model.predict(X_test_t)\n",
        "accuracy = accuracy_score(y_test_t, y_predicted)\n",
        "print('Accuracy of ' + LinearSVC().__class__.__name__, ': ', accuracy)"
      ]
    },
    {
      "cell_type": "code",
      "execution_count": 78,
      "id": "4e233ae5",
      "metadata": {
        "id": "4e233ae5",
        "outputId": "83065533-87da-448f-9d96-4d612e9fe89a",
        "colab": {
          "base_uri": "https://localhost:8080/"
        }
      },
      "outputs": [
        {
          "output_type": "stream",
          "name": "stdout",
          "text": [
            "Accuracy of DecisionTreeClassifier :  0.832488136697827\n"
          ]
        }
      ],
      "source": [
        "model = DecisionTreeClassifier().fit(X_train_t, y_train_t)\n",
        "y_predicted = model.predict(X_test_t)\n",
        "accuracy = accuracy_score(y_test_t, y_predicted)\n",
        "print('Accuracy of ' + DecisionTreeClassifier().__class__.__name__, ': ', accuracy)"
      ]
    },
    {
      "cell_type": "code",
      "execution_count": 57,
      "id": "fdf93cf1",
      "metadata": {
        "id": "fdf93cf1",
        "outputId": "3aa21344-934e-4610-8867-a69de79788b4",
        "colab": {
          "base_uri": "https://localhost:8080/"
        }
      },
      "outputs": [
        {
          "output_type": "stream",
          "name": "stdout",
          "text": [
            "Accuracy of RandomForestClassifier :  0.8759699395124335\n"
          ]
        }
      ],
      "source": [
        "model = RandomForestClassifier().fit(X_train_t, y_train_t)\n",
        "y_predicted = model.predict(X_test_t)\n",
        "accuracy = accuracy_score(y_test_t, y_predicted)\n",
        "print('Accuracy of ' + RandomForestClassifier().__class__.__name__, ': ', accuracy)"
      ]
    },
    {
      "cell_type": "markdown",
      "id": "9f4eacfc",
      "metadata": {
        "id": "9f4eacfc"
      },
      "source": [
        "### Select the best performing model: Random Forest classifier with 88% accuracy"
      ]
    },
    {
      "cell_type": "code",
      "execution_count": 58,
      "id": "91a1adf0",
      "metadata": {
        "id": "91a1adf0",
        "outputId": "2ae2c9ca-0f73-4bb6-cdbc-3aa6a7b6f97e",
        "colab": {
          "base_uri": "https://localhost:8080/"
        }
      },
      "outputs": [
        {
          "output_type": "stream",
          "name": "stdout",
          "text": [
            "Accuracy on the Popularity of Sentiment of Climate Change:  0.8759699395124335\n",
            "              precision    recall  f1-score   support\n",
            "\n",
            " not popular       0.82      0.97      0.89     24708\n",
            "     popular       0.91      0.61      0.73     12100\n",
            "very popular       0.98      0.95      0.96     12293\n",
            "\n",
            "    accuracy                           0.88     49101\n",
            "   macro avg       0.90      0.84      0.86     49101\n",
            "weighted avg       0.88      0.88      0.87     49101\n",
            "\n"
          ]
        }
      ],
      "source": [
        "# Print accuracy score\n",
        "print('Accuracy on the Popularity of Sentiment of Climate Change: ', accuracy_score(y_test_t, y_predicted))\n",
        "\n",
        "# Evaluate model's predictions\n",
        "print(metrics.classification_report(y_test_t, y_predicted))"
      ]
    },
    {
      "cell_type": "code",
      "execution_count": 59,
      "id": "9b8671c0",
      "metadata": {
        "scrolled": true,
        "id": "9b8671c0",
        "outputId": "a01c48ff-7d80-4f0f-db39-8aeaec327bad",
        "colab": {
          "base_uri": "https://localhost:8080/",
          "height": 489
        }
      },
      "outputs": [
        {
          "output_type": "execute_result",
          "data": {
            "text/plain": [
              "Text(0.5, 1.0, 'Confusion Matrix on the Popularity of Sentiment of Climate Change')"
            ]
          },
          "metadata": {},
          "execution_count": 59
        },
        {
          "output_type": "display_data",
          "data": {
            "text/plain": [
              "<Figure size 640x480 with 2 Axes>"
            ]},
          "metadata": {}
        }
      ],
      "source": [
        "# Display the confusion matrix\n",
        "cm = confusion_matrix(y_test_t, y_predicted)\n",
        "ax = plt.subplot()\n",
        "sns.heatmap(cm, annot=True, ax=ax, fmt='g', cmap='Blues')\n",
        "\n",
        "# labels, title and ticks\n",
        "ax.set_xlabel('Predicted popularity')\n",
        "ax.set_ylabel('True popularity')\n",
        "ax.set_title('Confusion Matrix on the Popularity of Sentiment of Climate Change')"
      ]
    },
    {
      "cell_type": "markdown",
      "id": "9cf3b9de",
      "metadata": {
        "id": "9cf3b9de"
      },
      "source": [
        "0 --> not popular <br>\n",
        "1 --> popular <br>\n",
        "2 --> very popular"
      ]
    },
    {
      "cell_type": "markdown",
      "id": "5ebc28eb",
      "metadata": {
        "id": "5ebc28eb"
      },
      "source": [
        "### Determining clusters of words to determine topics"
      ]
    },
    {
      "cell_type": "code",
      "execution_count": 60,
      "id": "000da6cc",
      "metadata": {
        "id": "000da6cc",
        "outputId": "338e3162-ad41-4fd4-f13e-c68669f607f3",
        "colab": {
          "base_uri": "https://localhost:8080/"
        }
      },
      "outputs": [
        {
          "output_type": "stream",
          "name": "stdout",
          "text": [
            "Requirement already satisfied: gensim in /usr/local/lib/python3.10/dist-packages (4.3.1)\n",
            "Requirement already satisfied: numpy>=1.18.5 in /usr/local/lib/python3.10/dist-packages (from gensim) (1.22.4)\n",
            "Requirement already satisfied: scipy>=1.7.0 in /usr/local/lib/python3.10/dist-packages (from gensim) (1.10.1)\n",
            "Requirement already satisfied: smart-open>=1.8.1 in /usr/local/lib/python3.10/dist-packages (from gensim) (6.3.0)\n"
          ]
        }
      ],
      "source": [
        "pip install gensim"
      ]
    },
    {
      "cell_type": "code",
      "execution_count": 61,
      "id": "9fa55033",
      "metadata": {
        "id": "9fa55033",
        "outputId": "fbbcb2dc-eaac-4644-d09f-d75860e7fffe",
        "colab": {
          "base_uri": "https://localhost:8080/",
          "height": 815
        }
      },
      "outputs": [
        {
          "output_type": "stream",
          "name": "stdout",
          "text": [
            "Collecting pyLDAvis\n",
            "  Downloading pyLDAvis-3.4.1-py3-none-any.whl (2.6 MB)\n",
            "\u001b[2K     \u001b[90m━━━━━━━━━━━━━━━━━━━━━━━━━━━━━━━━━━━━━━━━\u001b[0m \u001b[32m2.6/2.6 MB\u001b[0m \u001b[31m22.9 MB/s\u001b[0m eta \u001b[36m0:00:00\u001b[0m\n",
            "\u001b[?25hCollecting numpy>=1.24.2 (from pyLDAvis)\n",
            "  Downloading numpy-1.25.2-cp310-cp310-manylinux_2_17_x86_64.manylinux2014_x86_64.whl (18.2 MB)\n",
            "\u001b[2K     \u001b[90m━━━━━━━━━━━━━━━━━━━━━━━━━━━━━━━━━━━━━━━━\u001b[0m \u001b[32m18.2/18.2 MB\u001b[0m \u001b[31m55.9 MB/s\u001b[0m eta \u001b[36m0:00:00\u001b[0m\n",
            "\u001b[?25hRequirement already satisfied: scipy in /usr/local/lib/python3.10/dist-packages (from pyLDAvis) (1.10.1)\n",
            "Collecting pandas>=2.0.0 (from pyLDAvis)\n",
            "  Downloading pandas-2.0.3-cp310-cp310-manylinux_2_17_x86_64.manylinux2014_x86_64.whl (12.3 MB)\n",
            "\u001b[2K     \u001b[90m━━━━━━━━━━━━━━━━━━━━━━━━━━━━━━━━━━━━━━━━\u001b[0m \u001b[32m12.3/12.3 MB\u001b[0m \u001b[31m18.8 MB/s\u001b[0m eta \u001b[36m0:00:00\u001b[0m\n",
            "\u001b[?25hRequirement already satisfied: joblib>=1.2.0 in /usr/local/lib/python3.10/dist-packages (from pyLDAvis) (1.3.1)\n",
            "Requirement already satisfied: jinja2 in /usr/local/lib/python3.10/dist-packages (from pyLDAvis) (3.1.2)\n",
            "Requirement already satisfied: numexpr in /usr/local/lib/python3.10/dist-packages (from pyLDAvis) (2.8.4)\n",
            "Collecting funcy (from pyLDAvis)\n",
            "  Downloading funcy-2.0-py2.py3-none-any.whl (30 kB)\n",
            "Requirement already satisfied: scikit-learn>=1.0.0 in /usr/local/lib/python3.10/dist-packages (from pyLDAvis) (1.2.2)\n",
            "Requirement already satisfied: gensim in /usr/local/lib/python3.10/dist-packages (from pyLDAvis) (4.3.1)\n",
            "Requirement already satisfied: setuptools in /usr/local/lib/python3.10/dist-packages (from pyLDAvis) (67.7.2)\n",
            "Requirement already satisfied: python-dateutil>=2.8.2 in /usr/local/lib/python3.10/dist-packages (from pandas>=2.0.0->pyLDAvis) (2.8.2)\n",
            "Requirement already satisfied: pytz>=2020.1 in /usr/local/lib/python3.10/dist-packages (from pandas>=2.0.0->pyLDAvis) (2022.7.1)\n",
            "Collecting tzdata>=2022.1 (from pandas>=2.0.0->pyLDAvis)\n",
            "  Downloading tzdata-2023.3-py2.py3-none-any.whl (341 kB)\n",
            "\u001b[2K     \u001b[90m━━━━━━━━━━━━━━━━━━━━━━━━━━━━━━━━━━━━━━\u001b[0m \u001b[32m341.8/341.8 kB\u001b[0m \u001b[31m24.7 MB/s\u001b[0m eta \u001b[36m0:00:00\u001b[0m\n",
            "\u001b[?25hRequirement already satisfied: threadpoolctl>=2.0.0 in /usr/local/lib/python3.10/dist-packages (from scikit-learn>=1.0.0->pyLDAvis) (3.2.0)\n",
            "Requirement already satisfied: smart-open>=1.8.1 in /usr/local/lib/python3.10/dist-packages (from gensim->pyLDAvis) (6.3.0)\n",
            "Requirement already satisfied: MarkupSafe>=2.0 in /usr/local/lib/python3.10/dist-packages (from jinja2->pyLDAvis) (2.1.3)\n",
            "Requirement already satisfied: six>=1.5 in /usr/local/lib/python3.10/dist-packages (from python-dateutil>=2.8.2->pandas>=2.0.0->pyLDAvis) (1.16.0)\n",
            "Installing collected packages: funcy, tzdata, numpy, pandas, pyLDAvis\n",
            "  Attempting uninstall: numpy\n",
            "    Found existing installation: numpy 1.22.4\n",
            "    Uninstalling numpy-1.22.4:\n",
            "      Successfully uninstalled numpy-1.22.4\n",
            "  Attempting uninstall: pandas\n",
            "    Found existing installation: pandas 1.5.3\n",
            "    Uninstalling pandas-1.5.3:\n",
            "      Successfully uninstalled pandas-1.5.3\n",
            "\u001b[31mERROR: pip's dependency resolver does not currently take into account all the packages that are installed. This behaviour is the source of the following dependency conflicts.\n",
            "google-colab 1.0.0 requires pandas==1.5.3, but you have pandas 2.0.3 which is incompatible.\n",
            "numba 0.56.4 requires numpy<1.24,>=1.18, but you have numpy 1.25.2 which is incompatible.\n",
            "tensorflow 2.12.0 requires numpy<1.24,>=1.22, but you have numpy 1.25.2 which is incompatible.\u001b[0m\u001b[31m\n",
            "\u001b[0mSuccessfully installed funcy-2.0 numpy-1.25.2 pandas-2.0.3 pyLDAvis-3.4.1 tzdata-2023.3\n"
          ]
        },
        {
          "output_type": "display_data",
          "data": {
            "application/vnd.colab-display-data+json": {
              "pip_warning": {
                "packages": [
                  "numpy",
                  "pandas"
                ]
              }
            }
          },
          "metadata": {}
        }
      ],
      "source": [
        "pip install pyLDAvis"
      ]
    },
    {
      "cell_type": "code",
      "execution_count": 89,
      "id": "7ab0a1fa",
      "metadata": {
        "id": "7ab0a1fa",
        "outputId": "084e60e9-5ea0-4d85-dc84-922e934f1b72",
        "colab": {
          "base_uri": "https://localhost:8080/"
        }
      },
      "outputs": [
        {
          "output_type": "stream",
          "name": "stdout",
          "text": [
            "Requirement already satisfied: pyLDAvis in /usr/local/lib/python3.10/dist-packages (3.4.1)\n",
            "Requirement already satisfied: numpy>=1.24.2 in /usr/local/lib/python3.10/dist-packages (from pyLDAvis) (1.25.2)\n",
            "Requirement already satisfied: scipy in /usr/local/lib/python3.10/dist-packages (from pyLDAvis) (1.10.1)\n",
            "Requirement already satisfied: pandas>=2.0.0 in /usr/local/lib/python3.10/dist-packages (from pyLDAvis) (2.0.3)\n",
            "Requirement already satisfied: joblib>=1.2.0 in /usr/local/lib/python3.10/dist-packages (from pyLDAvis) (1.3.1)\n",
            "Requirement already satisfied: jinja2 in /usr/local/lib/python3.10/dist-packages (from pyLDAvis) (3.1.2)\n",
            "Requirement already satisfied: numexpr in /usr/local/lib/python3.10/dist-packages (from pyLDAvis) (2.8.4)\n",
            "Requirement already satisfied: funcy in /usr/local/lib/python3.10/dist-packages (from pyLDAvis) (2.0)\n",
            "Requirement already satisfied: scikit-learn>=1.0.0 in /usr/local/lib/python3.10/dist-packages (from pyLDAvis) (1.2.2)\n",
            "Requirement already satisfied: gensim in /usr/local/lib/python3.10/dist-packages (from pyLDAvis) (4.3.1)\n",
            "Requirement already satisfied: setuptools in /usr/local/lib/python3.10/dist-packages (from pyLDAvis) (67.7.2)\n",
            "Requirement already satisfied: python-dateutil>=2.8.2 in /usr/local/lib/python3.10/dist-packages (from pandas>=2.0.0->pyLDAvis) (2.8.2)\n",
            "Requirement already satisfied: pytz>=2020.1 in /usr/local/lib/python3.10/dist-packages (from pandas>=2.0.0->pyLDAvis) (2022.7.1)\n",
            "Requirement already satisfied: tzdata>=2022.1 in /usr/local/lib/python3.10/dist-packages (from pandas>=2.0.0->pyLDAvis) (2023.3)\n",
            "Requirement already satisfied: threadpoolctl>=2.0.0 in /usr/local/lib/python3.10/dist-packages (from scikit-learn>=1.0.0->pyLDAvis) (3.2.0)\n",
            "Requirement already satisfied: smart-open>=1.8.1 in /usr/local/lib/python3.10/dist-packages (from gensim->pyLDAvis) (6.3.0)\n",
            "Requirement already satisfied: MarkupSafe>=2.0 in /usr/local/lib/python3.10/dist-packages (from jinja2->pyLDAvis) (2.1.3)\n",
            "Requirement already satisfied: six>=1.5 in /usr/local/lib/python3.10/dist-packages (from python-dateutil>=2.8.2->pandas>=2.0.0->pyLDAvis) (1.16.0)\n"
          ]
        }
      ],
      "source": [
        "#!pip install pyLDAvis"
      ]
    },
    {
      "cell_type": "code",
      "execution_count": 62,
      "id": "820a243a",
      "metadata": {
        "id": "820a243a"
      },
      "outputs": [],
      "source": [
        "#https://www.machinelearningplus.com/nlp/topic-modeling-gensim-python/#1introduction\n",
        "import numpy as np\n",
        "import json\n",
        "import glob\n",
        "\n",
        "#Gensim\n",
        "import gensim\n",
        "import gensim.corpora as corpora\n",
        "from gensim.utils import simple_preprocess\n",
        "from gensim.models import CoherenceModel\n",
        "\n",
        "from nltk.corpus import stopwords\n",
        "\n",
        "#vis\n",
        "import pyLDAvis\n",
        "#import pyLDAvis.gensim\n",
        "import pyLDAvis.gensim_models as gensimvis\n",
        "pyLDAvis.enable_notebook()\n",
        "\n",
        "import warnings\n",
        "warnings.filterwarnings(\"ignore\", category=DeprecationWarning)"
      ]
    },
    {
      "cell_type": "code",
      "execution_count": 63,
      "id": "bd259bfe",
      "metadata": {
        "id": "bd259bfe"
      },
      "outputs": [],
      "source": [
        "data_words = twitter_climate_data.cleaned_tweet_tokenized.tolist()"
      ]
    },
    {
      "cell_type": "code",
      "execution_count": 64,
      "id": "b91d66e8",
      "metadata": {
        "id": "b91d66e8",
        "outputId": "2f8855c3-fa4d-4ace-966b-060ddb3a1d91",
        "colab": {
          "base_uri": "https://localhost:8080/"
        }
      },
      "outputs": [
        {
          "output_type": "stream",
          "name": "stdout",
          "text": [
            "[(0, 1), (1, 1), (2, 1), (3, 1)]\n",
            "facts\n"
          ]
        }
      ],
      "source": [
        "id2word = corpora.Dictionary(data_words)\n",
        "\n",
        "corpus = []\n",
        "for text in data_words:\n",
        "    new = id2word.doc2bow(text)\n",
        "    corpus.append(new)\n",
        "\n",
        "print (corpus[0][0:20])\n",
        "\n",
        "word = id2word[[0][:1][0]]\n",
        "print (word)"
      ]
    },
    {
      "cell_type": "code",
      "execution_count": 65,
      "id": "9ed7e5be",
      "metadata": {
        "id": "9ed7e5be"
      },
      "outputs": [],
      "source": [
        "lda_model = gensim.models.ldamodel.LdaModel(corpus=corpus,\n",
        "                                           id2word=id2word,\n",
        "                                           num_topics=10,\n",
        "                                           random_state=100,\n",
        "                                           update_every=1,\n",
        "                                           chunksize=100,\n",
        "                                           passes=10,\n",
        "                                           alpha=\"auto\")"
      ]
    },
    {
      "cell_type": "markdown",
      "id": "c0ba1379",
      "metadata": {
        "id": "c0ba1379"
      },
      "source": [
        "#### Visualizing the data"
      ]
    },
    {
      "cell_type": "code",
      "source": [
        "!pip install pandas==1.5.3"
      ],
      "metadata": {
        "colab": {
          "base_uri": "https://localhost:8080/",
          "height": 364
        },
        "id": "2wxDHfOoPkkc",
        "outputId": "7d15b0d3-1c8c-484b-c137-c4cb3c90424f"
      },
      "id": "2wxDHfOoPkkc",
      "execution_count": 67,
      "outputs": [
        {
          "output_type": "stream",
          "name": "stdout",
          "text": [
            "Collecting pandas==1.5.3\n",
            "  Downloading pandas-1.5.3-cp310-cp310-manylinux_2_17_x86_64.manylinux2014_x86_64.whl (12.1 MB)\n",
            "\u001b[2K     \u001b[90m━━━━━━━━━━━━━━━━━━━━━━━━━━━━━━━━━━━━━━━━\u001b[0m \u001b[32m12.1/12.1 MB\u001b[0m \u001b[31m48.0 MB/s\u001b[0m eta \u001b[36m0:00:00\u001b[0m\n",
            "\u001b[?25hRequirement already satisfied: python-dateutil>=2.8.1 in /usr/local/lib/python3.10/dist-packages (from pandas==1.5.3) (2.8.2)\n",
            "Requirement already satisfied: pytz>=2020.1 in /usr/local/lib/python3.10/dist-packages (from pandas==1.5.3) (2022.7.1)\n",
            "Requirement already satisfied: numpy>=1.21.0 in /usr/local/lib/python3.10/dist-packages (from pandas==1.5.3) (1.25.2)\n",
            "Requirement already satisfied: six>=1.5 in /usr/local/lib/python3.10/dist-packages (from python-dateutil>=2.8.1->pandas==1.5.3) (1.16.0)\n",
            "Installing collected packages: pandas\n",
            "  Attempting uninstall: pandas\n",
            "    Found existing installation: pandas 2.0.3\n",
            "    Uninstalling pandas-2.0.3:\n",
            "      Successfully uninstalled pandas-2.0.3\n",
            "\u001b[31mERROR: pip's dependency resolver does not currently take into account all the packages that are installed. This behaviour is the source of the following dependency conflicts.\n",
            "pyldavis 3.4.1 requires pandas>=2.0.0, but you have pandas 1.5.3 which is incompatible.\u001b[0m\u001b[31m\n",
            "\u001b[0mSuccessfully installed pandas-1.5.3\n"
          ]
        },
        {
          "output_type": "display_data",
          "data": {
            "application/vnd.colab-display-data+json": {
              "pip_warning": {
                "packages": [
                  "pandas"
                ]
              }
            }
          },
          "metadata": {}
        }
      ]
    },
    {
      "cell_type": "code",
      "execution_count": 68,
      "id": "6cb8022a",
      "metadata": {
        "id": "6cb8022a",
        "outputId": "d837c010-bbde-4e8d-9f7e-854244caba6a",
        "colab": {
          "base_uri": "https://localhost:8080/",
          "height": 916
        }
      },
      "outputs": [
        {
          "output_type": "stream",
          "name": "stderr",
          "text": [
            "/usr/local/lib/python3.10/dist-packages/sklearn/manifold/_mds.py:299: FutureWarning: The default value of `normalized_stress` will change to `'auto'` in version 1.4. To suppress this warning, manually set the value of `normalized_stress`.\n",
            "  warnings.warn(\n"
          ]
        },
        {
          "output_type": "execute_result",
          "data": {
            "text/plain": [
              "PreparedData(topic_coordinates=              x         y  topics  cluster       Freq\n",
              "topic                                                \n",
              "7     -0.466944 -0.164240       1        1  28.514125\n",
              "2     -0.127510  0.409526       2        1  13.714700\n",
              "3     -0.375830  0.233310       3        1  12.599294\n",
              "6      0.233852 -0.380869       4        1  10.628464\n",
              "4      0.424268 -0.100169       5        1  10.148950\n",
              "8      0.362681  0.197684       6        1   7.976001\n",
              "9      0.147437  0.354190       7        1   5.987005\n",
              "5     -0.092411 -0.402872       8        1   5.057390\n",
              "0     -0.174687 -0.103799       9        1   4.027995\n",
              "1      0.069144 -0.042762      10        1   1.346076, topic_info=                  Term          Freq         Total Category  logprob  loglift\n",
              "23             climate  97734.000000  97734.000000  Default  30.0000  30.0000\n",
              "22              change  85855.000000  85855.000000  Default  29.0000  29.0000\n",
              "226                  ’  27251.000000  27251.000000  Default  28.0000  28.0000\n",
              "46       climatechange  32769.000000  32769.000000  Default  27.0000  27.0000\n",
              "114             global  21890.000000  21890.000000  Default  26.0000  26.0000\n",
              "...                ...           ...           ...      ...      ...      ...\n",
              "24470          battles     21.676411     22.827253  Topic10  -7.0751   4.2562\n",
              "23483          offered     18.058572     19.148295  Topic10  -7.2577   4.2494\n",
              "17923       queensland     16.371691     17.461607  Topic10  -7.3558   4.2435\n",
              "24790        nicaragua     25.394616     27.486152  Topic10  -6.9168   4.2288\n",
              "72625  climateelection     34.109958     66.805772  Topic10  -6.6217   3.6358\n",
              "\n",
              "[336 rows x 6 columns], token_table=      Topic      Freq          Term\n",
              "term                               \n",
              "917       2  0.998978        abbott\n",
              "364       9  0.998356        access\n",
              "312       1  0.999434           act\n",
              "4         1  0.999607        action\n",
              "966       3  0.999753  actonclimate\n",
              "...     ...       ...           ...\n",
              "196       5  0.998872             —\n",
              "466       2  0.999659             ‘\n",
              "226       6  0.999944             ’\n",
              "18        4  0.999914             “\n",
              "19        4  0.999890             ”\n",
              "\n",
              "[329 rows x 3 columns], R=30, lambda_step=0.01, plot_opts={'xlab': 'PC1', 'ylab': 'PC2'}, topic_order=[8, 3, 4, 7, 5, 9, 10, 6, 1, 2])"
            ],
            "text/html": [
              "\n",
              "<link rel=\"stylesheet\" type=\"text/css\" href=\"https://cdn.jsdelivr.net/gh/bmabey/pyLDAvis@3.4.0/pyLDAvis/js/ldavis.v1.0.0.css\">\n",
              "\n",
              "\n",
              "<div id=\"ldavis_el39421397210055562081375362440\" style=\"background-color:white;\"></div>\n",
              "<script type=\"text/javascript\">\n",
              "\n",
              "var ldavis_el39421397210055562081375362440_data = {\"mdsDat\": {\"x\": [-0.46694414637757853, -0.1275104216743588, -0.37582986158001486, 0.23385219037921418, 0.42426838100109654, 0.3626807228609507, 0.1474368028389332, -0.09241123139961685, -0.17468673952868538, 0.06914430348005984], \"y\": [-0.16423954526816753, 0.4095264478007235, 0.23330960815178253, -0.38086913628515673, -0.10016910413638853, 0.1976843017923702, 0.35419038886591586, -0.40287180676397694, -0.10379917245866546, -0.04276198169843694], \"topics\": [1, 2, 3, 4, 5, 6, 7, 8, 9, 10], \"cluster\": [1, 1, 1, 1, 1, 1, 1, 1, 1, 1], \"Freq\": [28.51412478195617, 13.714700096913834, 12.599294415313246, 10.628463977031354, 10.148949683299511, 7.97600134300073, 5.987004510935277, 5.05738983756957, 4.027995182144245, 1.3460761718360597]}, \"tinfo\": {\"Term\": [\"climate\", \"change\", \"\\u2019\", \"climatechange\", \"global\", \"warming\", \"not\", \"trump\", \"us\", \"\\u201c\", \"new\", \"dont\", \"\\u201d\", \"https\\u2026\", \"scientists\", \"via\", \"epa\", \"talk\", \"real\", \"says\", \"get\", \"world\", \"one\", \"science\", \"globalwarming\", \"fight\", \"un\", \"need\", \"actonclimate\", \"planet\", \"climate\", \"change\", \"no\", \"people\", \"take\", \"time\", \"like\", \"action\", \"health\", \"much\", \"plan\", \"oil\", \"right\", \"bill\", \"http\\u2026\", \"environmental\", \"threat\", \"coal\", \"conference\", \"next\", \"thanks\", \"trumps\", \"public\", \"serious\", \"country\", \"climate\\u2026\", \"nye\", \"act\", \"latest\", \"combat\", \"climatechange\", \"epa\", \"httpst\\u2026\", \"energy\", \"today\", \"would\", \"clean\", \"news\", \"carbon\", \"go\", \"power\", \"\\u2018\", \"care\", \"unfccc\", \"climateaction\", \"hurricanes\", \"deny\", \"going\", \"way\", \"away\", \"got\", \"government\", \"big\", \"millions\", \"really\", \"food\", \"doesnt\", \"abbott\", \"tony\", \"look\", \"global\", \"warming\", \"talk\", \"one\", \"actonclimate\", \"year\", \"w\\u2026\", \"want\", \"fires\", \"still\", \"storms\", \"may\", \"back\", \"first\", \"emissions\", \"climatereality\", \"due\", \"naomiaklein\", \"cause\", \"buildings\", \"yes\", \"pollution\", \"ice\", \"guns\", \"water\", \"sea\", \"species\", \"end\", \"evidence\", \"give\", \"not\", \"\\u201c\", \"\\u201d\", \"https\\u2026\", \"science\", \"planet\", \"years\", \"help\", \"environment\", \"de\", \"earth\", \"htt\\u2026\", \"policy\", \"already\", \"stop\", \"mikehudema\", \"humans\", \"california\", \"green\", \"save\", \"please\", \"uk\", \"solar\", \"air\", \"arctic\", \"nytimes\", \"thehill\", \"children\", \"heres\", \"decade\", \"themed\", \"new\", \"via\", \"world\", \"could\", \"report\", \"pauledawson\", \"know\", \"\\u2013\", \"study\", \"weather\", \"wildfires\", \"even\", \"every\", \"tax\", \"isnt\", \"fighting\", \"women\", \"hurricane\", \"hunger\", \"fossil\", \"beat\", \"impacts\", \"risk\", \"\\u2014\", \"major\", \"pm\", \"better\", \"life\", \"state\", \"week\", \"portugal\", \"\\u2019\", \"trump\", \"administration\", \"think\", \"good\", \"see\", \"believe\", \"impact\", \"last\", \"human\", \"start\", \"read\", \"gop\", \"burn\", \"important\", \"star\", \"things\", \"media\", \"protect\", \"cant\", \"something\", \"daily\", \"post\", \"admin\", \"talking\", \"leave\", \"die\", \"best\", \"doesn\", \"evolution\", \"distracted\", \"need\", \"must\", \"h\\u2026\", \"crisis\", \"effects\", \"another\", \"opinion\", \"thing\", \"heat\", \"learn\", \"cnn\", \"industry\", \"season\", \"tackle\", \"research\", \"tell\", \"hoax\", \"running\", \"problem\", \"climatechange\\u2026\", \"cost\", \"ever\", \"wait\", \"challenge\", \"live\", \"fuel\", \"senate\", \"find\", \"china\", \"cut\", \"us\", \"scientists\", \"real\", \"says\", \"fight\", \"say\", \"day\", \"great\", \"left\", \"future\", \"work\", \"join\", \"many\", \"october\", \"two\", \"extinction\", \"call\", \"w\", \"a\\u2026\", \"caused\", \"scandal\", \"stopadani\", \"maria\", \"p\\u2026\", \"harvey\", \"degrees\", \"th\", \"leadership\", \"sustainable\", \"experts\", \"irma\", \"dont\", \"get\", \"make\", \"nature\", \"worse\", \"guardian\", \"sensanders\", \"la\", \"billions\", \"forest\", \"minister\", \"adaptation\", \"resilience\", \"wants\", \"shouldnt\", \"speak\", \"\\u00b0c\", \"access\", \"que\", \"changes\", \"interior\", \"el\", \"lots\", \"understand\", \"finally\", \"biodiversity\", \"m\\u2026\", \"among\", \"create\", \"mi\", \"globalwarming\", \"un\", \"auspol\", \"trees\", \"deal\", \"far\", \"months\", \"weve\", \"reef\", \"leecamp\", \"del\", \"protects\", \"feeds\", \"hurts\", \"secretarygeneral\", \"syria\", \"sheilagunnreid\", \"teamtabbott\", \"painting\", \"wasted\", \"rahim\", \"lawmakers\", \"highs\", \"evacuated\", \"percapita\", \"anikamolesworth\", \"grandfather\", \"battles\", \"offered\", \"queensland\", \"nicaragua\", \"climateelection\"], \"Freq\": [97734.0, 85855.0, 27251.0, 32769.0, 21890.0, 17577.0, 12157.0, 10543.0, 8775.0, 9495.0, 8774.0, 5606.0, 8012.0, 7868.0, 5531.0, 7214.0, 7654.0, 7163.0, 4800.0, 4722.0, 3819.0, 5273.0, 5734.0, 5194.0, 2696.0, 3889.0, 2588.0, 3925.0, 5287.0, 4555.0, 97733.22701284061, 85854.32696162876, 6693.473346711373, 6239.4798400070495, 4873.719385671515, 4743.744651336644, 4495.434771477972, 3801.410638995889, 3716.7882905207944, 3062.224962591841, 2963.8554225540543, 2912.960026291265, 2757.838896593041, 2753.501602803753, 2689.5624760550004, 2395.3355204172526, 2388.978840878059, 2379.008297517812, 2371.043490285428, 2322.8069898422978, 2200.684579743352, 2063.963266943361, 1966.5993754480698, 1860.8728155149436, 1844.8784917308647, 1796.5991466407684, 1786.231500387406, 1693.8773993377583, 1650.8295246661016, 1636.6595739762702, 32768.34426172628, 7652.967753427096, 4194.343774302247, 3767.8966619613716, 3148.396426764317, 2973.8046010155567, 2544.764241036904, 2496.1210914881553, 2482.6709749308493, 2418.388827883841, 2369.7381405313627, 2188.654077377196, 2074.7885005549697, 2027.2438035335215, 2020.5437902156461, 2010.3279993455317, 1903.9162162140938, 1797.8080120489722, 1706.0246744061733, 1672.0486319845454, 1657.5333751293226, 1605.6945615318637, 1592.8291110734829, 1501.95006672322, 1481.3553280054998, 1465.112819898992, 1440.0993476887718, 1297.2335299484962, 1256.7764352495758, 1180.1179439442228, 21888.948753150522, 17576.80322670542, 7161.949247921747, 5733.8001214411015, 5286.217133532045, 3505.341723681295, 2314.220435074922, 2257.649612398775, 2183.6029289477196, 2171.9686617909897, 1991.9807432468426, 1971.9474121903181, 1896.610042802746, 1873.2434449506695, 1833.7204881975165, 1829.4378591260572, 1778.5309317879758, 1616.1330208712052, 1587.093369127343, 1520.4823144005557, 1501.668522954694, 1499.8034169964137, 1483.3294126467863, 1483.4093824573215, 1431.2692893676756, 1399.3363164758853, 1350.1467296500812, 1341.6394384508326, 1300.9687585509469, 1269.275583401083, 12156.775862006407, 9494.738976219414, 8011.808255346303, 7867.067154653298, 5192.957078600562, 4554.810865714586, 3481.57340765042, 3098.2951243679554, 2886.5217191070997, 2791.011232886661, 2729.4973203421023, 2514.0814183146344, 2452.4589657733054, 2434.7584666125113, 2169.9050457436324, 2100.007925948529, 1766.1948618191511, 1728.1120210773647, 1693.0064927469837, 1692.121401835821, 1642.435522376801, 1535.3843702497727, 1487.9532396299091, 1480.743903750684, 1435.4964810345907, 1416.7547704985293, 1413.5777143430676, 1398.3115449535858, 1259.2819847156245, 1242.566354119274, 1538.9284084255644, 8772.971051458077, 7213.705220459547, 5272.283164519326, 4080.8636130817185, 4036.704094730228, 3123.0969966490175, 2786.9626270305885, 2501.5806285796557, 2341.150464842214, 2166.3036537119983, 1864.632234612042, 1842.493456448206, 1687.3310972697543, 1670.676586599888, 1663.821207248441, 1485.6005072883527, 1463.5839056273023, 1430.4876585357936, 1371.8339404016904, 1334.999434203224, 1328.4679395425194, 1260.8984855839974, 1245.9116211995772, 1235.3178927732026, 1227.330266523701, 1201.502711636215, 1154.7948505443674, 1146.8110929175607, 1140.6679899818384, 1123.3595021405808, 1138.2973339815414, 27250.455970822026, 10542.169834348175, 2998.7270778074067, 2864.2953522472885, 2784.5290138896116, 2438.801536030085, 2394.528415483034, 2103.750418766766, 2016.4519850065483, 1927.8689771505688, 1843.133469514481, 1828.8625923022257, 1660.2843022905681, 1639.9091527322357, 1356.5525269010066, 1307.2938334433225, 1290.9826837680932, 1284.475391147586, 1186.2094323192132, 1031.7857092827167, 1018.6925704408441, 968.9740803437534, 910.5724830814125, 869.6703089560677, 829.8881776670819, 778.132172614158, 773.8129972625604, 744.2052895648383, 718.6346430266127, 709.5294251528807, 950.6171431912683, 3924.672317158842, 2973.4085164924486, 2662.386016333595, 2342.458446884634, 1719.5657592072732, 1693.4788335159908, 1463.4198171116132, 1307.1593837884552, 1306.5498895711837, 1285.1809713632333, 1281.3696687917673, 1268.4787917937972, 1257.7133958488835, 1251.6405321849077, 1236.1675311309727, 1229.4432453124523, 1215.8857671851779, 1167.2925616457385, 1137.232990434496, 1131.7030670215383, 1131.5508526872352, 1124.8462040038933, 1068.9478780313548, 1054.311206642673, 1025.2506879519742, 974.5777505771108, 948.4341425605022, 912.5941417794296, 902.0188545323795, 897.5304423106217, 8773.927053139387, 5530.085454233928, 4799.279701006419, 4721.551570384074, 3888.028751398003, 2424.871419294065, 2407.831471131625, 2401.7407028787406, 2042.7456501730085, 1793.1677952322057, 1609.294165584939, 1524.6772476682145, 1448.4640979138583, 1417.1140543663178, 1190.2875429684163, 1155.0984001758588, 1082.1358778722126, 1016.5335120877933, 995.8361260936027, 993.448166193255, 948.901039660847, 919.8696449216233, 855.8304101428649, 788.7193400447158, 783.775387920002, 745.7502289180685, 738.2100249566707, 719.0353310257015, 653.8531357163882, 626.7508399286527, 645.7940400478969, 5605.167854894987, 3818.9010291975133, 2618.949524705531, 1718.2568981973304, 1300.1219047606505, 1299.2623611082622, 1009.0680408059367, 889.2386146006511, 837.1837340511853, 783.0666914456905, 716.0216438298463, 691.234350223072, 680.0909195172703, 657.6676566121422, 642.1216713132497, 618.3516757563486, 596.908504001551, 585.8771938951386, 581.4640342644624, 541.936666800903, 525.508106707391, 523.6800767437809, 518.3047152686003, 505.9498464814351, 494.67022852529226, 472.63117506265746, 458.6399525467617, 451.9652418705692, 441.16688551906617, 424.74057497898144, 2695.277775412644, 2587.056196931106, 1493.0686263166137, 1293.4820862143656, 722.3797427764215, 646.2698948380224, 596.2284214553772, 515.9432003744784, 300.9507180486825, 278.7085199241349, 241.6821177336815, 185.35238290634592, 188.8207233965234, 78.62503915621659, 77.06352821313921, 75.54421704348616, 56.0111035676543, 71.41440271193903, 52.199669910395606, 50.92379051728513, 50.244823428965105, 46.74924370994997, 46.5674619063741, 34.47138877728447, 20.976670294690532, 21.575262118245153, 21.677137013087545, 21.676410613764144, 18.058572071459825, 16.371690869798368, 25.39461606381444, 34.10995812913161], \"Total\": [97734.0, 85855.0, 27251.0, 32769.0, 21890.0, 17577.0, 12157.0, 10543.0, 8775.0, 9495.0, 8774.0, 5606.0, 8012.0, 7868.0, 5531.0, 7214.0, 7654.0, 7163.0, 4800.0, 4722.0, 3819.0, 5273.0, 5734.0, 5194.0, 2696.0, 3889.0, 2588.0, 3925.0, 5287.0, 4555.0, 97734.30934574884, 85855.4092970248, 6694.555663080957, 6240.562136163323, 4874.801654599885, 4744.826964068402, 4496.517082539367, 3802.492958963494, 3717.8706508639375, 3063.307188981244, 2964.9377824724197, 2914.042389023993, 2758.92121384298, 2754.5838313297763, 2690.645023260256, 2396.417876262675, 2390.061176554819, 2380.0906918623286, 2372.1261150597434, 2323.889285731462, 2201.766939841443, 2065.045820079408, 1967.6817156199954, 1861.9550358175934, 1845.9608609361755, 1797.6816198358554, 1787.314079982654, 1694.9597044394961, 1651.9119025771813, 1637.7419289141544, 32769.43762548689, 7654.061613256854, 4195.437230692921, 3768.989947040338, 3149.4897419035583, 2974.897880172329, 2545.8575949110646, 2497.2143664143696, 2483.7642411244856, 2419.4821808426395, 2370.831427046972, 2189.7473746438523, 2075.8818121112517, 2028.3372760684126, 2021.637068768986, 2011.4214657148852, 1905.009601173421, 1798.9012688610399, 1707.1179392301885, 1673.1420689696936, 1658.6266448418046, 1606.7878029329095, 1593.922368943435, 1503.0433609249308, 1482.4485616040072, 1466.2061359413085, 1441.1926508685387, 1298.3270647761435, 1257.8701630558066, 1181.2112219953724, 21890.03719328903, 17577.891649488956, 7163.037804410586, 5734.888558663304, 5287.305726964511, 3506.430126876038, 2315.3088292416123, 2258.7380226604155, 2184.6918647192106, 2173.057103343445, 1993.0693558885666, 1973.035825178813, 1897.6985490187283, 1874.3318195195332, 1834.8089057382495, 1830.5264918315584, 1779.619372793884, 1617.2216182827806, 1588.1818594169495, 1521.5709106233405, 1502.7569324099245, 1500.8918925174892, 1484.4177717730513, 1484.4983496787936, 1432.3577102457423, 1400.424708037711, 1351.2352393179367, 1342.7278110575357, 1302.0573470033696, 1270.3640203821824, 12157.850630857527, 9495.813620179137, 8012.8828979895015, 7868.142107427799, 5194.031907187972, 4555.8855690320015, 3482.6481662687866, 3099.3699857162633, 2887.596509698499, 2792.0860231597662, 2730.5720707682976, 2515.1565007671893, 2453.533737089353, 2435.833309316045, 2170.9797546568175, 2101.0826572887404, 1767.2696760645986, 1729.1869679643928, 1694.0812455184496, 1693.1962081914655, 1643.5103005018186, 1536.4591024005656, 1489.0280187527633, 1481.8187081967205, 1436.5712399897402, 1417.8297575031165, 1414.6528229689306, 1399.386347955782, 1260.3568652211673, 1243.641393395352, 1553.3448935897811, 8774.047793399894, 7214.782061145636, 5273.359873701002, 4081.9403575457422, 4037.780877964178, 3124.173789799632, 2788.0393461864965, 2502.657399451829, 2342.2271870186814, 2167.380451827054, 1865.7092543676586, 1843.5702378747123, 1688.4078079223586, 1671.753299142199, 1664.898002290216, 1486.677253007583, 1464.6606347447835, 1431.5645779983113, 1372.9109565757544, 1336.0761339805574, 1329.544705561924, 1261.9752656558123, 1246.9883963334257, 1236.3946131847194, 1228.4070078481514, 1202.5795233885785, 1155.8716171271042, 1147.8878105927172, 1141.7447128215294, 1124.4362230856746, 1152.0955869633021, 27251.527657864302, 10543.241619401892, 2999.798901176743, 2865.367066224825, 2785.600759300795, 2439.8732594253556, 2395.600105265863, 2104.8222161525096, 2017.5237438064682, 1928.940710448882, 1844.2051637376453, 1829.9343735375521, 1661.356046403219, 1640.9817866831345, 1357.6242618087472, 1308.366011211347, 1292.0544368786782, 1285.5471296167254, 1187.281284806491, 1032.8574385533248, 1019.7643248840213, 970.0458448727612, 911.6442358030348, 870.742150541344, 830.9598117840619, 779.2040525763183, 774.8846986601839, 745.2770446057424, 719.7062500235519, 710.6014304850006, 985.7908153438995, 3925.7455959164517, 2974.481812205957, 2663.4593921431383, 2343.5317035821054, 1720.639098992057, 1694.5521905949352, 1464.4932692537054, 1308.232703989507, 1307.6234802599681, 1286.2543614811686, 1282.4429507194086, 1269.5521244398979, 1258.7867944489733, 1252.7138259523829, 1237.2409200865145, 1230.5166275491688, 1216.9591231958748, 1168.3658736186517, 1138.3063108510025, 1132.7764460365363, 1132.624116311488, 1125.9194989524879, 1070.0211432478186, 1055.384535082491, 1026.323976952969, 975.6510311758047, 949.5075486399905, 913.6674456363814, 903.0922051948257, 898.6037110888936, 8775.019668525794, 5531.17827196482, 4800.372334832583, 4722.644229281753, 3889.1213550452376, 2425.9640028707713, 2408.9241067840876, 2402.833288268099, 2043.838182284232, 1794.2603610189788, 1610.3868125805122, 1525.7698783085257, 1449.5567098584238, 1418.2091376856943, 1191.380166668717, 1156.1910607948298, 1083.2284237919537, 1017.6262511874227, 996.928676398026, 994.5408534921294, 949.994845126048, 920.9622040910376, 856.9233191592798, 789.8120526640155, 784.8683227828232, 746.8429315735503, 739.3026380152222, 720.1279641156854, 654.945777463869, 627.8434706592842, 696.8948589978696, 5606.255278513806, 3819.9884349827853, 2620.036924350501, 1719.3442672690296, 1301.2093996751023, 1300.3497600868675, 1010.1555343975699, 890.3259399977683, 838.2712718000055, 784.1542023237641, 717.1090760272111, 692.3219568919133, 681.1784877297758, 658.7550619689174, 643.2092143097098, 619.4393029929328, 597.995953243836, 586.9648905329686, 582.5512812774888, 543.0240630789427, 526.5955960331612, 524.7673409076478, 519.3922812424586, 507.0371980703044, 495.75765082297266, 473.7184855355308, 459.7273763865212, 453.05273533717366, 442.2542907142227, 425.83161837604075, 2696.367491825329, 2588.145891175867, 1494.158326498964, 1294.571772713538, 723.4693946106709, 647.3596005738508, 597.3182968905961, 517.0328653525886, 302.0404446576061, 279.7983073714882, 242.77176757891053, 186.4442915999186, 189.964556427423, 79.71478894123695, 78.1531296895902, 76.6347825371688, 57.101326594821295, 72.89877137181632, 53.297482388710726, 52.0137322856765, 51.359639810922985, 47.83902279393118, 47.71590307787553, 35.74089689690202, 22.085446856629126, 22.719172831490013, 22.826530215277234, 22.827253473406824, 19.14829510555795, 17.461606558263444, 27.486152073574452, 66.80577156600664], \"Category\": [\"Default\", \"Default\", \"Default\", \"Default\", \"Default\", \"Default\", \"Default\", \"Default\", \"Default\", \"Default\", \"Default\", \"Default\", \"Default\", \"Default\", \"Default\", \"Default\", \"Default\", \"Default\", \"Default\", \"Default\", \"Default\", \"Default\", \"Default\", \"Default\", \"Default\", \"Default\", \"Default\", \"Default\", \"Default\", \"Default\", \"Topic1\", \"Topic1\", \"Topic1\", \"Topic1\", \"Topic1\", \"Topic1\", \"Topic1\", \"Topic1\", \"Topic1\", \"Topic1\", \"Topic1\", \"Topic1\", \"Topic1\", \"Topic1\", \"Topic1\", \"Topic1\", \"Topic1\", \"Topic1\", \"Topic1\", \"Topic1\", \"Topic1\", \"Topic1\", \"Topic1\", \"Topic1\", \"Topic1\", \"Topic1\", \"Topic1\", \"Topic1\", \"Topic1\", \"Topic1\", \"Topic2\", \"Topic2\", \"Topic2\", \"Topic2\", \"Topic2\", \"Topic2\", \"Topic2\", \"Topic2\", \"Topic2\", \"Topic2\", \"Topic2\", \"Topic2\", \"Topic2\", \"Topic2\", \"Topic2\", \"Topic2\", \"Topic2\", \"Topic2\", \"Topic2\", \"Topic2\", \"Topic2\", \"Topic2\", \"Topic2\", \"Topic2\", \"Topic2\", \"Topic2\", \"Topic2\", \"Topic2\", \"Topic2\", \"Topic2\", \"Topic3\", \"Topic3\", \"Topic3\", \"Topic3\", \"Topic3\", \"Topic3\", \"Topic3\", \"Topic3\", \"Topic3\", \"Topic3\", \"Topic3\", \"Topic3\", \"Topic3\", \"Topic3\", \"Topic3\", \"Topic3\", \"Topic3\", \"Topic3\", \"Topic3\", \"Topic3\", \"Topic3\", \"Topic3\", \"Topic3\", \"Topic3\", \"Topic3\", \"Topic3\", \"Topic3\", \"Topic3\", \"Topic3\", \"Topic3\", \"Topic4\", \"Topic4\", \"Topic4\", \"Topic4\", \"Topic4\", \"Topic4\", \"Topic4\", \"Topic4\", \"Topic4\", \"Topic4\", \"Topic4\", \"Topic4\", \"Topic4\", \"Topic4\", \"Topic4\", \"Topic4\", \"Topic4\", \"Topic4\", \"Topic4\", \"Topic4\", \"Topic4\", \"Topic4\", \"Topic4\", \"Topic4\", \"Topic4\", \"Topic4\", \"Topic4\", \"Topic4\", \"Topic4\", \"Topic4\", \"Topic4\", \"Topic5\", \"Topic5\", \"Topic5\", \"Topic5\", \"Topic5\", \"Topic5\", \"Topic5\", \"Topic5\", \"Topic5\", \"Topic5\", \"Topic5\", \"Topic5\", \"Topic5\", \"Topic5\", \"Topic5\", \"Topic5\", \"Topic5\", \"Topic5\", \"Topic5\", \"Topic5\", \"Topic5\", \"Topic5\", \"Topic5\", \"Topic5\", \"Topic5\", \"Topic5\", \"Topic5\", \"Topic5\", \"Topic5\", \"Topic5\", \"Topic5\", \"Topic6\", \"Topic6\", \"Topic6\", \"Topic6\", \"Topic6\", \"Topic6\", \"Topic6\", \"Topic6\", \"Topic6\", \"Topic6\", \"Topic6\", \"Topic6\", \"Topic6\", \"Topic6\", \"Topic6\", \"Topic6\", \"Topic6\", \"Topic6\", \"Topic6\", \"Topic6\", \"Topic6\", \"Topic6\", \"Topic6\", \"Topic6\", \"Topic6\", \"Topic6\", \"Topic6\", \"Topic6\", \"Topic6\", \"Topic6\", \"Topic6\", \"Topic7\", \"Topic7\", \"Topic7\", \"Topic7\", \"Topic7\", \"Topic7\", \"Topic7\", \"Topic7\", \"Topic7\", \"Topic7\", \"Topic7\", \"Topic7\", \"Topic7\", \"Topic7\", \"Topic7\", \"Topic7\", \"Topic7\", \"Topic7\", \"Topic7\", \"Topic7\", \"Topic7\", \"Topic7\", \"Topic7\", \"Topic7\", \"Topic7\", \"Topic7\", \"Topic7\", \"Topic7\", \"Topic7\", \"Topic7\", \"Topic8\", \"Topic8\", \"Topic8\", \"Topic8\", \"Topic8\", \"Topic8\", \"Topic8\", \"Topic8\", \"Topic8\", \"Topic8\", \"Topic8\", \"Topic8\", \"Topic8\", \"Topic8\", \"Topic8\", \"Topic8\", \"Topic8\", \"Topic8\", \"Topic8\", \"Topic8\", \"Topic8\", \"Topic8\", \"Topic8\", \"Topic8\", \"Topic8\", \"Topic8\", \"Topic8\", \"Topic8\", \"Topic8\", \"Topic8\", \"Topic8\", \"Topic9\", \"Topic9\", \"Topic9\", \"Topic9\", \"Topic9\", \"Topic9\", \"Topic9\", \"Topic9\", \"Topic9\", \"Topic9\", \"Topic9\", \"Topic9\", \"Topic9\", \"Topic9\", \"Topic9\", \"Topic9\", \"Topic9\", \"Topic9\", \"Topic9\", \"Topic9\", \"Topic9\", \"Topic9\", \"Topic9\", \"Topic9\", \"Topic9\", \"Topic9\", \"Topic9\", \"Topic9\", \"Topic9\", \"Topic9\", \"Topic10\", \"Topic10\", \"Topic10\", \"Topic10\", \"Topic10\", \"Topic10\", \"Topic10\", \"Topic10\", \"Topic10\", \"Topic10\", \"Topic10\", \"Topic10\", \"Topic10\", \"Topic10\", \"Topic10\", \"Topic10\", \"Topic10\", \"Topic10\", \"Topic10\", \"Topic10\", \"Topic10\", \"Topic10\", \"Topic10\", \"Topic10\", \"Topic10\", \"Topic10\", \"Topic10\", \"Topic10\", \"Topic10\", \"Topic10\", \"Topic10\", \"Topic10\"], \"logprob\": [30.0, 29.0, 28.0, 27.0, 26.0, 25.0, 24.0, 23.0, 22.0, 21.0, 20.0, 19.0, 18.0, 17.0, 16.0, 15.0, 14.0, 13.0, 12.0, 11.0, 10.0, 9.0, 8.0, 7.0, 6.0, 5.0, 4.0, 3.0, 2.0, 1.0, -1.7145, -1.8441, -4.3956, -4.4659, -4.7129, -4.74, -4.7937, -4.9614, -4.9839, -5.1776, -5.2103, -5.2276, -5.2823, -5.2839, -5.3074, -5.4233, -5.4259, -5.4301, -5.4334, -5.454, -5.508, -5.5722, -5.6205, -5.6757, -5.6844, -5.7109, -5.7167, -5.7698, -5.7955, -5.8041, -2.0754, -3.5298, -4.1311, -4.2383, -4.418, -4.475, -4.6308, -4.6501, -4.6555, -4.6817, -4.7021, -4.7816, -4.835, -4.8582, -4.8615, -4.8666, -4.9209, -4.9783, -5.0307, -5.0508, -5.0595, -5.0913, -5.0993, -5.1581, -5.1719, -5.1829, -5.2001, -5.3046, -5.3363, -5.3992, -2.394, -2.6134, -3.5112, -3.7336, -3.8149, -4.2257, -4.6409, -4.6657, -4.699, -4.7044, -4.7909, -4.801, -4.84, -4.8523, -4.8737, -4.876, -4.9042, -5.0, -5.0181, -5.061, -5.0734, -5.0747, -5.0857, -5.0857, -5.1215, -5.144, -5.1798, -5.1861, -5.2169, -5.2416, -2.812, -3.0592, -3.229, -3.2472, -3.6626, -3.7937, -4.0624, -4.1791, -4.2499, -4.2835, -4.3058, -4.388, -4.4128, -4.4201, -4.5352, -4.568, -4.7411, -4.7629, -4.7834, -4.7839, -4.8137, -4.8811, -4.9125, -4.9174, -4.9484, -4.9615, -4.9638, -4.9747, -5.0794, -5.0927, -4.8788, -3.0921, -3.2878, -3.6013, -3.8574, -3.8683, -4.1249, -4.2388, -4.3468, -4.4131, -4.4907, -4.6407, -4.6526, -4.7406, -4.7505, -4.7546, -4.8679, -4.8829, -4.9057, -4.9476, -4.9748, -4.9797, -5.0319, -5.0439, -5.0524, -5.0589, -5.0802, -5.1198, -5.1268, -5.1321, -5.1474, -5.1342, -1.7177, -2.6674, -3.9246, -3.9705, -3.9987, -4.1313, -4.1496, -4.2791, -4.3215, -4.3664, -4.4114, -4.4191, -4.5158, -4.5282, -4.7179, -4.7549, -4.7674, -4.7725, -4.8521, -4.9915, -5.0043, -5.0543, -5.1165, -5.1625, -5.2093, -5.2737, -5.2792, -5.3183, -5.3532, -5.366, -5.0735, -3.3687, -3.6463, -3.7567, -3.8848, -4.1939, -4.2092, -4.3552, -4.4681, -4.4686, -4.4851, -4.488, -4.4982, -4.5067, -4.5115, -4.524, -4.5294, -4.5405, -4.5813, -4.6074, -4.6122, -4.6124, -4.6183, -4.6693, -4.6831, -4.711, -4.7617, -4.7889, -4.8274, -4.8391, -4.8441, -2.3954, -2.857, -2.9988, -3.0151, -3.2093, -3.6815, -3.6885, -3.691, -3.8529, -3.9832, -4.0914, -4.1454, -4.1967, -4.2186, -4.393, -4.423, -4.4883, -4.5508, -4.5714, -4.5738, -4.6197, -4.6508, -4.7229, -4.8046, -4.8109, -4.8606, -4.8708, -4.8971, -4.9921, -5.0344, -5.0045, -2.616, -2.9997, -3.3769, -3.7983, -4.0772, -4.0779, -4.3306, -4.457, -4.5174, -4.5842, -4.6737, -4.7089, -4.7252, -4.7587, -4.7826, -4.8203, -4.8556, -4.8743, -4.8819, -4.9523, -4.983, -4.9865, -4.9968, -5.021, -5.0435, -5.0891, -5.1191, -5.1338, -5.158, -5.1959, -2.2521, -2.2931, -2.8427, -2.9862, -3.5688, -3.6801, -3.7607, -3.9053, -4.4444, -4.5212, -4.6637, -4.9291, -4.9105, -5.7866, -5.8067, -5.8266, -6.1258, -5.8828, -6.1963, -6.221, -6.2344, -6.3065, -6.3104, -6.6112, -7.1079, -7.0798, -7.0751, -7.0751, -7.2577, -7.3558, -6.9168, -6.6217], \"loglift\": [30.0, 29.0, 28.0, 27.0, 26.0, 25.0, 24.0, 23.0, 22.0, 21.0, 20.0, 19.0, 18.0, 17.0, 16.0, 15.0, 14.0, 13.0, 12.0, 11.0, 10.0, 9.0, 8.0, 7.0, 6.0, 5.0, 4.0, 3.0, 2.0, 1.0, 1.2548, 1.2548, 1.2546, 1.2546, 1.2545, 1.2545, 1.2545, 1.2545, 1.2545, 1.2544, 1.2544, 1.2544, 1.2544, 1.2544, 1.2544, 1.2543, 1.2543, 1.2543, 1.2543, 1.2543, 1.2543, 1.2542, 1.2542, 1.2542, 1.2542, 1.2542, 1.2542, 1.2541, 1.2541, 1.2541, 1.9867, 1.9866, 1.9864, 1.9864, 1.9864, 1.9863, 1.9863, 1.9863, 1.9863, 1.9862, 1.9862, 1.9862, 1.9862, 1.9862, 1.9862, 1.9862, 1.9861, 1.9861, 1.9861, 1.986, 1.986, 1.986, 1.986, 1.986, 1.986, 1.986, 1.9859, 1.9859, 1.9858, 1.9858, 2.0715, 2.0715, 2.0714, 2.0713, 2.0713, 2.0712, 2.0711, 2.071, 2.071, 2.071, 2.071, 2.071, 2.071, 2.0709, 2.0709, 2.0709, 2.0709, 2.0709, 2.0708, 2.0708, 2.0708, 2.0708, 2.0708, 2.0708, 2.0708, 2.0708, 2.0707, 2.0707, 2.0707, 2.0707, 2.2415, 2.2415, 2.2415, 2.2415, 2.2414, 2.2414, 2.2413, 2.2413, 2.2413, 2.2412, 2.2412, 2.2412, 2.2412, 2.2412, 2.2411, 2.2411, 2.241, 2.241, 2.241, 2.241, 2.241, 2.2409, 2.2409, 2.2409, 2.2409, 2.2409, 2.2409, 2.2409, 2.2408, 2.2408, 2.2323, 2.2877, 2.2877, 2.2876, 2.2875, 2.2875, 2.2875, 2.2874, 2.2874, 2.2873, 2.2873, 2.2872, 2.2872, 2.2872, 2.2872, 2.2872, 2.2871, 2.2871, 2.287, 2.287, 2.287, 2.287, 2.2869, 2.2869, 2.2869, 2.2869, 2.2869, 2.2869, 2.2869, 2.2869, 2.2868, 2.2758, 2.5287, 2.5286, 2.5284, 2.5284, 2.5283, 2.5283, 2.5283, 2.5282, 2.5282, 2.5282, 2.5282, 2.5281, 2.5281, 2.5281, 2.5279, 2.5279, 2.5279, 2.5279, 2.5278, 2.5277, 2.5277, 2.5276, 2.5276, 2.5275, 2.5274, 2.5274, 2.5273, 2.5273, 2.5272, 2.5272, 2.4924, 2.8153, 2.8152, 2.8152, 2.8151, 2.815, 2.8149, 2.8148, 2.8148, 2.8148, 2.8147, 2.8147, 2.8147, 2.8147, 2.8147, 2.8147, 2.8147, 2.8147, 2.8147, 2.8146, 2.8146, 2.8146, 2.8146, 2.8146, 2.8146, 2.8145, 2.8145, 2.8144, 2.8144, 2.8144, 2.8144, 2.9842, 2.9841, 2.9841, 2.9841, 2.984, 2.9839, 2.9839, 2.9839, 2.9838, 2.9837, 2.9836, 2.9836, 2.9836, 2.9835, 2.9834, 2.9834, 2.9833, 2.9832, 2.9832, 2.9832, 2.9832, 2.9831, 2.983, 2.9829, 2.9829, 2.9829, 2.9828, 2.9828, 2.9826, 2.9826, 2.9082, 3.2117, 3.2116, 3.2115, 3.2113, 3.2111, 3.2111, 3.2108, 3.2107, 3.2106, 3.2105, 3.2104, 3.2103, 3.2103, 3.2102, 3.2102, 3.2101, 3.2101, 3.21, 3.21, 3.2099, 3.2098, 3.2098, 3.2098, 3.2098, 3.2097, 3.2096, 3.2095, 3.2095, 3.2094, 3.2093, 4.3076, 4.3076, 4.3072, 4.3071, 4.3065, 4.3063, 4.3062, 4.3059, 4.3044, 4.3041, 4.3035, 4.3021, 4.3019, 4.2942, 4.2939, 4.2936, 4.2887, 4.2874, 4.2872, 4.2868, 4.286, 4.2849, 4.2836, 4.2718, 4.2565, 4.2563, 4.2563, 4.2562, 4.2494, 4.2435, 4.2288, 3.6358]}, \"token.table\": {\"Topic\": [2, 9, 1, 1, 3, 9, 6, 6, 4, 4, 9, 10, 7, 4, 10, 2, 8, 3, 10, 5, 6, 6, 5, 2, 1, 9, 9, 3, 6, 4, 8, 6, 2, 2, 3, 8, 7, 1, 9, 4, 7, 2, 1, 2, 2, 7, 1, 2, 3, 4, 5, 6, 7, 10, 3, 1, 7, 1, 1, 1, 7, 5, 1, 9, 7, 7, 6, 8, 4, 10, 4, 8, 10, 2, 6, 3, 5, 6, 6, 2, 9, 3, 4, 7, 9, 3, 3, 2, 4, 1, 2, 10, 5, 7, 5, 3, 6, 8, 8, 10, 10, 8, 5, 9, 7, 3, 3, 2, 9, 5, 7, 8, 9, 3, 3, 10, 2, 2, 6, 6, 2, 2, 10, 8, 4, 9, 3, 8, 1, 7, 4, 4, 10, 7, 2, 4, 1, 4, 6, 4, 5, 5, 2, 10, 7, 3, 6, 5, 6, 7, 9, 1, 2, 3, 5, 6, 8, 5, 8, 5, 9, 6, 1, 10, 8, 7, 6, 10, 8, 5, 1, 7, 2, 9, 5, 9, 8, 8, 3, 6, 9, 4, 2, 9, 10, 1, 7, 9, 3, 9, 7, 5, 2, 1, 4, 10, 1, 4, 1, 4, 8, 10, 1, 3, 7, 10, 5, 1, 10, 1, 4, 4, 5, 4, 3, 1, 2, 3, 4, 5, 7, 6, 2, 7, 6, 10, 1, 8, 9, 10, 10, 6, 8, 2, 10, 5, 7, 9, 1, 5, 7, 4, 8, 8, 8, 4, 8, 3, 7, 10, 6, 7, 9, 1, 10, 9, 4, 6, 9, 3, 6, 6, 5, 3, 4, 8, 3, 5, 8, 10, 7, 1, 3, 6, 5, 10, 7, 8, 1, 4, 1, 3, 4, 6, 7, 6, 6, 1, 1, 2, 2, 10, 6, 1, 8, 4, 10, 9, 2, 8, 5, 8, 7, 3, 9, 3, 10, 3, 2, 5, 5, 10, 5, 5, 8, 5, 9, 2, 3, 3, 4, 3, 9, 5, 5, 2, 6, 4, 4], \"Freq\": [0.998977865583991, 0.9983561358634372, 0.9994337892299254, 0.9996073736415542, 0.9997530449283739, 0.9980905460548326, 0.9991476804690314, 0.9997336817556571, 0.999447497732218, 0.9996578955904504, 0.9976763514375646, 0.9683451137581383, 0.999084011337302, 0.9989062568245822, 0.9992247632138971, 0.999317410642602, 0.9990684625490146, 0.9996318967419301, 0.963760271275274, 0.9988381695211436, 0.9997494968945176, 0.9982864833755641, 0.9992459221991534, 0.9994213212880334, 0.9997880509850032, 0.9984834601366266, 0.9984833069481792, 0.998967573175609, 0.9994017077513584, 0.9993135687543435, 0.9988659605259863, 0.9991698384294683, 0.999692305287341, 0.9995752108303532, 0.9992558412565024, 0.9984506885898966, 0.9986881226354308, 0.9999835852273451, 0.9981141478829938, 0.9990093172212183, 0.9987905939298966, 0.9996631410520451, 0.9999866030081186, 0.9996848748082297, 0.9999561290766317, 0.9993145637524041, 0.1796251988219842, 0.07484383284249341, 0.04490629970549605, 0.11975013254798945, 0.014968766568498682, 0.04490629970549605, 0.014968766568498682, 0.5089380633289552, 0.9991660913740554, 0.9996208339517219, 0.9988748421763329, 0.9995417435705044, 0.9995469805705919, 0.9995252718425913, 0.9994489643099597, 0.9997696297683517, 0.9994794792476325, 0.9971638698808393, 0.9993464122632674, 0.9993281675988606, 0.9989218603653743, 0.9996163819435053, 0.9996110352078131, 0.9979689609241016, 0.9994842617825699, 0.9988713402270886, 0.9968210159418159, 0.9994700283018001, 0.9988582834817702, 0.0010144139957838252, 0.03449007585665006, 0.9647077099904178, 0.9990186968314798, 0.9991724556270669, 0.9997760932295365, 0.9996519633336473, 0.9994242705456753, 0.999628568830947, 0.9985377502602951, 0.9995591335229954, 0.9994579608379732, 0.9997373442077989, 0.9997934234590963, 0.9994083351335677, 0.9998613006648633, 0.9512911804669087, 0.9991482625166902, 0.9991833350844858, 0.9991661920089726, 0.9991879412947494, 0.9991536317558634, 0.9986565590012452, 0.9989698408548402, 0.9978997753757795, 0.9949224400300616, 0.9997116687953739, 0.9995444518935008, 0.9984717314564587, 0.9992694873396561, 0.9996833124476804, 0.9992894430400938, 0.9991773762830871, 0.9985280926629688, 0.9991945563930168, 0.9993327212753312, 0.9992975595703051, 0.9997412466033317, 0.9989262759647648, 0.9999526180207063, 0.99949283922556, 0.9993873974958876, 0.9994989892571422, 0.9997843340260484, 0.9991837713498232, 0.999622190537121, 0.9995097031907565, 0.9637908079991913, 0.9996532059580798, 0.99936175108407, 0.9989620022794657, 0.9989906693536454, 0.9988936707500891, 0.9997658200228846, 0.9995231958821631, 0.9995579792917345, 0.9989234277539885, 0.9849965518475647, 0.9992118690122015, 0.9996574300570138, 0.9998548440772669, 0.9997602718847415, 0.9995401873534165, 0.9995123175928703, 0.9992815606572134, 0.9993364780349437, 0.9989070852811271, 0.9992933029009015, 0.9910331702469429, 0.9994520689343178, 0.9990448970633397, 0.9996093655102081, 0.9992271911483895, 0.9995401807213466, 0.9987774236204893, 0.9988689688298804, 0.04017822722966248, 0.00143493668677366, 0.00143493668677366, 0.00143493668677366, 0.02726379704869954, 0.9269690996557843, 0.9994606262431808, 0.9994954164979458, 0.9996272125112158, 0.9985107251870348, 0.9992447455396022, 0.9994479714228351, 0.9824615398699654, 0.998433661554762, 0.9990247951581488, 0.998454766023948, 0.9971468470306781, 0.999589897922694, 0.99922657024099, 0.9996626094126811, 0.9987099814652098, 0.9989745932202317, 0.99731940328584, 0.9988546077650469, 0.9996042329247867, 0.9989260786778216, 0.9989225183413311, 0.9994750094420009, 0.9987965205000405, 0.9980470722695224, 0.9994847145660907, 0.9993058344475912, 0.9984534067908394, 0.9977929742024334, 0.9995732752542918, 0.9995018250910541, 0.9984178092846278, 0.999244619123953, 0.9992181511901832, 0.9998100753351854, 0.9998805803860925, 0.9995137115857166, 0.9996173287011036, 0.0363819568968118, 0.9095489224202951, 0.9997676226535039, 0.9999300344375536, 0.9992647738876053, 0.9994147692988348, 0.9991474193378366, 0.9400314702051648, 0.9996422876249434, 0.9998450608666211, 0.9989803508933391, 0.9756558409410807, 0.9996242879306317, 0.9997496802164231, 0.9508523932671382, 0.9996837092238617, 0.9998056208790622, 0.9990810520010994, 0.9995180997370173, 0.9993748864887537, 0.9994057583214784, 0.0008679835348000975, 0.0026039506044002922, 0.004339917674000487, 0.0026039506044002922, 0.9877652626025109, 0.0008679835348000975, 0.9992933254248382, 0.9996493099266837, 0.998852408320546, 0.9989208245570048, 0.9922534951994247, 0.9996535437542649, 0.9989718406280628, 0.9973370906092818, 0.9162959860888767, 0.9735270765930523, 0.9994893950564218, 0.9997141190855916, 0.9990228587746479, 0.996555280340732, 0.999806607146901, 0.9989970263136563, 0.998269928145113, 0.9996660963573887, 0.9992073732712093, 0.9988309538565849, 0.9992935206293999, 0.9996026310078672, 0.9998635871663255, 0.998952788921801, 0.9998013282924689, 0.9997869763173622, 0.9989826600248239, 0.9993749581323518, 0.9852452525680006, 0.9996420882019251, 0.998412283670467, 0.9988560826939794, 0.9994870790114574, 0.980712766926834, 0.9981200295598882, 0.9993096041580034, 0.9992504887008002, 0.9976764422503085, 0.9990858443578187, 0.9989559410748661, 0.9993465131963936, 0.9993477413880997, 0.999513540927287, 0.9995487039182581, 0.9989552186976149, 0.9994634627814596, 0.9994760597838319, 0.9985559453982109, 0.9917167829521676, 0.9994301763598401, 0.9998355513399958, 0.9998551167201788, 0.9988449359759033, 0.9995493957496088, 0.9739533144923426, 0.9987674871552208, 0.9982380178992472, 0.9996516707433628, 0.9995385277869374, 0.007081492362316905, 0.0006437720329379004, 0.9907651586914288, 0.0012875440658758007, 0.9990577333942595, 0.9991839067700387, 0.9995229001404604, 0.9995560044382007, 0.9998257124918012, 0.9995269894409442, 0.9993082250606115, 0.9987858744129394, 0.9998822355166739, 0.999493560835678, 0.9988415396635516, 0.9990503473875185, 0.9995572540250633, 0.9979543945212466, 0.9993407033020639, 0.9998837987190556, 0.999891602942541, 0.9993845960767109, 0.9990456793734757, 0.9996732588494056, 0.998853804680209, 0.9999492743779097, 0.9805102952407116, 0.9990521150994403, 0.9993451306412416, 0.9993630782145837, 0.9987227171660005, 0.998002321666952, 0.9996198473229426, 0.9995489502966681, 0.9991388326272431, 0.9997421238577356, 0.9990705572251444, 0.9996981811784823, 0.9994347064093212, 0.9995921416300082, 0.9998138869510091, 0.9994963041636343, 0.9983345150775128, 0.9997373194381408, 0.9988720323027556, 0.9996586936682713, 0.9999439423035845, 0.9999143180130023, 0.9998898151887727], \"Term\": [\"abbott\", \"access\", \"act\", \"action\", \"actonclimate\", \"adaptation\", \"admin\", \"administration\", \"air\", \"already\", \"among\", \"anikamolesworth\", \"another\", \"arctic\", \"auspol\", \"away\", \"a\\u2026\", \"back\", \"battles\", \"beat\", \"believe\", \"best\", \"better\", \"big\", \"bill\", \"billions\", \"biodiversity\", \"buildings\", \"burn\", \"california\", \"call\", \"cant\", \"carbon\", \"care\", \"cause\", \"caused\", \"challenge\", \"change\", \"changes\", \"children\", \"china\", \"clean\", \"climate\", \"climateaction\", \"climatechange\", \"climatechange\\u2026\", \"climateelection\", \"climateelection\", \"climateelection\", \"climateelection\", \"climateelection\", \"climateelection\", \"climateelection\", \"climateelection\", \"climatereality\", \"climate\\u2026\", \"cnn\", \"coal\", \"combat\", \"conference\", \"cost\", \"could\", \"country\", \"create\", \"crisis\", \"cut\", \"daily\", \"day\", \"de\", \"deal\", \"decade\", \"degrees\", \"del\", \"deny\", \"die\", \"distracted\", \"distracted\", \"distracted\", \"doesn\", \"doesnt\", \"dont\", \"due\", \"earth\", \"effects\", \"el\", \"emissions\", \"end\", \"energy\", \"environment\", \"environmental\", \"epa\", \"evacuated\", \"even\", \"ever\", \"every\", \"evidence\", \"evolution\", \"experts\", \"extinction\", \"far\", \"feeds\", \"fight\", \"fighting\", \"finally\", \"find\", \"fires\", \"first\", \"food\", \"forest\", \"fossil\", \"fuel\", \"future\", \"get\", \"give\", \"global\", \"globalwarming\", \"go\", \"going\", \"good\", \"gop\", \"got\", \"government\", \"grandfather\", \"great\", \"green\", \"guardian\", \"guns\", \"harvey\", \"health\", \"heat\", \"help\", \"heres\", \"highs\", \"hoax\", \"httpst\\u2026\", \"https\\u2026\", \"http\\u2026\", \"htt\\u2026\", \"human\", \"humans\", \"hunger\", \"hurricane\", \"hurricanes\", \"hurts\", \"h\\u2026\", \"ice\", \"impact\", \"impacts\", \"important\", \"industry\", \"interior\", \"irma\", \"irma\", \"irma\", \"irma\", \"irma\", \"irma\", \"isnt\", \"join\", \"know\", \"la\", \"last\", \"latest\", \"lawmakers\", \"leadership\", \"learn\", \"leave\", \"leecamp\", \"left\", \"life\", \"like\", \"live\", \"look\", \"lots\", \"major\", \"make\", \"many\", \"maria\", \"may\", \"media\", \"mi\", \"mikehudema\", \"millions\", \"minister\", \"months\", \"much\", \"must\", \"m\\u2026\", \"naomiaklein\", \"nature\", \"need\", \"new\", \"news\", \"next\", \"nicaragua\", \"nicaragua\", \"no\", \"not\", \"nye\", \"nytimes\", \"october\", \"offered\", \"oil\", \"one\", \"opinion\", \"painting\", \"pauledawson\", \"people\", \"percapita\", \"plan\", \"planet\", \"please\", \"pm\", \"policy\", \"pollution\", \"portugal\", \"portugal\", \"portugal\", \"portugal\", \"portugal\", \"portugal\", \"post\", \"power\", \"problem\", \"protect\", \"protects\", \"public\", \"p\\u2026\", \"que\", \"queensland\", \"rahim\", \"read\", \"real\", \"really\", \"reef\", \"report\", \"research\", \"resilience\", \"right\", \"risk\", \"running\", \"save\", \"say\", \"says\", \"scandal\", \"science\", \"scientists\", \"sea\", \"season\", \"secretarygeneral\", \"see\", \"senate\", \"sensanders\", \"serious\", \"sheilagunnreid\", \"shouldnt\", \"solar\", \"something\", \"speak\", \"species\", \"star\", \"start\", \"state\", \"still\", \"stop\", \"stopadani\", \"storms\", \"study\", \"sustainable\", \"syria\", \"tackle\", \"take\", \"talk\", \"talking\", \"tax\", \"teamtabbott\", \"tell\", \"th\", \"thanks\", \"thehill\", \"themed\", \"themed\", \"themed\", \"themed\", \"thing\", \"things\", \"think\", \"threat\", \"time\", \"today\", \"tony\", \"trees\", \"trump\", \"trumps\", \"two\", \"uk\", \"un\", \"understand\", \"unfccc\", \"us\", \"via\", \"w\", \"wait\", \"want\", \"wants\", \"warming\", \"wasted\", \"water\", \"way\", \"weather\", \"week\", \"weve\", \"wildfires\", \"women\", \"work\", \"world\", \"worse\", \"would\", \"w\\u2026\", \"year\", \"years\", \"yes\", \"\\u00b0c\", \"\\u2013\", \"\\u2014\", \"\\u2018\", \"\\u2019\", \"\\u201c\", \"\\u201d\"]}, \"R\": 30, \"lambda.step\": 0.01, \"plot.opts\": {\"xlab\": \"PC1\", \"ylab\": \"PC2\"}, \"topic.order\": [8, 3, 4, 7, 5, 9, 10, 6, 1, 2]};\n",
              "\n",
              "function LDAvis_load_lib(url, callback){\n",
              "  var s = document.createElement('script');\n",
              "  s.src = url;\n",
              "  s.async = true;\n",
              "  s.onreadystatechange = s.onload = callback;\n",
              "  s.onerror = function(){console.warn(\"failed to load library \" + url);};\n",
              "  document.getElementsByTagName(\"head\")[0].appendChild(s);\n",
              "}\n",
              "\n",
              "if(typeof(LDAvis) !== \"undefined\"){\n",
              "   // already loaded: just create the visualization\n",
              "   !function(LDAvis){\n",
              "       new LDAvis(\"#\" + \"ldavis_el39421397210055562081375362440\", ldavis_el39421397210055562081375362440_data);\n",
              "   }(LDAvis);\n",
              "}else if(typeof define === \"function\" && define.amd){\n",
              "   // require.js is available: use it to load d3/LDAvis\n",
              "   require.config({paths: {d3: \"https://d3js.org/d3.v5\"}});\n",
              "   require([\"d3\"], function(d3){\n",
              "      window.d3 = d3;\n",
              "      LDAvis_load_lib(\"https://cdn.jsdelivr.net/gh/bmabey/pyLDAvis@3.4.0/pyLDAvis/js/ldavis.v3.0.0.js\", function(){\n",
              "        new LDAvis(\"#\" + \"ldavis_el39421397210055562081375362440\", ldavis_el39421397210055562081375362440_data);\n",
              "      });\n",
              "    });\n",
              "}else{\n",
              "    // require.js not available: dynamically load d3 & LDAvis\n",
              "    LDAvis_load_lib(\"https://d3js.org/d3.v5.js\", function(){\n",
              "         LDAvis_load_lib(\"https://cdn.jsdelivr.net/gh/bmabey/pyLDAvis@3.4.0/pyLDAvis/js/ldavis.v3.0.0.js\", function(){\n",
              "                 new LDAvis(\"#\" + \"ldavis_el39421397210055562081375362440\", ldavis_el39421397210055562081375362440_data);\n",
              "            })\n",
              "         });\n",
              "}\n",
              "</script>"
            ]
          },
          "metadata": {},
          "execution_count": 68
        }
      ],
      "source": [
        "pyLDAvis.enable_notebook()\n",
        "vis = pyLDAvis.gensim_models.prepare(lda_model, corpus, id2word, mds=\"mmds\", R=30)\n",
        "vis"
      ]
    }
  ],
  "metadata": {
    "kernelspec": {
      "display_name": "Python 3",
      "language": "python",
      "name": "python3"
    },
    "language_info": {
      "codemirror_mode": {
        "name": "ipython",
        "version": 3
      },
      "file_extension": ".py",
      "mimetype": "text/x-python",
      "name": "python",
      "nbconvert_exporter": "python",
      "pygments_lexer": "ipython3",
      "version": "3.8.8"
    },
    "colab": {
      "provenance": [],
      "machine_shape": "hm"
    }
  },
  "nbformat": 4,
  "nbformat_minor": 5
}